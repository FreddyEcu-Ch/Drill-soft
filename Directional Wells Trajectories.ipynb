{
 "cells": [
  {
   "cell_type": "markdown",
   "metadata": {},
   "source": [
    "#                                            DIRECTIONAL DRILLING \n",
    "##                                           *DIRECTIONAL WELLS PROFILES AND DIRECTIONAL WELLS TRAYECTORIES*"
   ]
  },
  {
   "cell_type": "markdown",
   "metadata": {},
   "source": [
    "***"
   ]
  },
  {
   "cell_type": "markdown",
   "metadata": {},
   "source": [
    "![well](Resources/Well_prof.jpg)"
   ]
  },
  {
   "cell_type": "markdown",
   "metadata": {},
   "source": [
    "# Python Libraries"
   ]
  },
  {
   "cell_type": "code",
   "execution_count": 1,
   "metadata": {},
   "outputs": [],
   "source": [
    "import numpy as np\n",
    "import pandas as pd\n",
    "import matplotlib.pyplot as plt\n",
    "from collections import namedtuple\n",
    "from math import radians, isclose, acos, asin, cos, sin, tan, atan, degrees, sqrt"
   ]
  },
  {
   "cell_type": "markdown",
   "metadata": {},
   "source": [
    "# *Directional Wells Profiles*"
   ]
  },
  {
   "cell_type": "markdown",
   "metadata": {},
   "source": [
    "## *Slant Well Profile (J Type)*"
   ]
  },
  {
   "cell_type": "markdown",
   "metadata": {},
   "source": [
    "![j](Resources/j_prof.png)"
   ]
  },
  {
   "cell_type": "code",
   "execution_count": 2,
   "metadata": {},
   "outputs": [],
   "source": [
    "Data = namedtuple(\"Input\", \"TVD KOP BUR DH\")\n",
    "Output = namedtuple(\"Output\", \"R Theta TVD_EOB Md_EOB Dh_EOB Tan_len Md_total\")\n",
    "\n",
    "def well_J(data:Data, unit='ingles') -> Output:\n",
    "    tvd = data.TVD\n",
    "    kop = data.KOP\n",
    "    bur = data.BUR\n",
    "    dh = data.DH\n",
    "    # Curvature Radio\n",
    "    if unit == 'ingles':\n",
    "        R = 5729.58 / bur\n",
    "    else:\n",
    "        R = 1718.87 / bur\n",
    "\n",
    "    # DC Segment   \n",
    "    if dh > R:\n",
    "        dc = dh - R\n",
    "        \n",
    "    elif dh < R:\n",
    "        dc =   R - dh\n",
    "\n",
    "    # DO Segment\n",
    "    do = tvd - kop\n",
    "\n",
    "    # DOC Angle\n",
    "    doc = degrees(atan(dc / do))\n",
    "    \n",
    "    # OC Segment\n",
    "    oc = sqrt(dc**2 + do**2)\n",
    "\n",
    "    # BOC Angle\n",
    "    boc = degrees(acos(R / oc))\n",
    "\n",
    "    # BOD Angle\n",
    "    if R < dh:\n",
    "        bod = boc - doc\n",
    "        \n",
    "    elif R > dh:\n",
    "        bod = boc + doc\n",
    "\n",
    "    # Theta Calculation\n",
    "    theta = 90 - bod\n",
    "\n",
    "    # TVD a EOB \n",
    "    tvd_eob = kop + abs(R * sin(radians(theta)))\n",
    "\n",
    "    # MD a EOB\n",
    "    if unit == 'ingles':\n",
    "        md_eob = kop + (theta / bur) * 100\n",
    "        \n",
    "    else:\n",
    "        md_eob = kop + (theta / bur) * 30\n",
    "        \n",
    "    # DH a EOB\n",
    "    dh_eob = R - R * cos(radians(theta))\n",
    "\n",
    "    # BC Segment\n",
    "    tan_len = sqrt(oc**2 - R**2)\n",
    "\n",
    "    # MD Total\n",
    "    if unit == 'ingles':\n",
    "        md_total = kop + (theta / bur) * 100 + tan_len\n",
    "    \n",
    "    else:\n",
    "        md_total = kop + (theta / bur) * 30 + tan_len\n",
    "        \n",
    "    return Output(R=R, Theta=theta, TVD_EOB=tvd_eob, Md_EOB=md_eob, Dh_EOB=dh_eob, \\\n",
    "                  Tan_len=tan_len, Md_total=md_total)"
   ]
  },
  {
   "cell_type": "markdown",
   "metadata": {},
   "source": [
    "## *Ejercicio 1*"
   ]
  },
  {
   "cell_type": "code",
   "execution_count": 3,
   "metadata": {},
   "outputs": [],
   "source": [
    "# data\n",
    "tvd = 8000 #ft\n",
    "kop = 500 #ft\n",
    "bur = 2 #o/100ft\n",
    "dh = 970.8 #ft"
   ]
  },
  {
   "cell_type": "code",
   "execution_count": 4,
   "metadata": {},
   "outputs": [],
   "source": [
    "trajectory_J = well_J(Data(tvd, kop, bur, dh))"
   ]
  },
  {
   "cell_type": "code",
   "execution_count": 5,
   "metadata": {},
   "outputs": [
    {
     "data": {
      "text/plain": [
       "Output(R=2864.79, Theta=7.564230623470863, TVD_EOB=877.1139517978513, Md_EOB=878.2115311735431, Dh_EOB=24.929649303260703, Tan_len=7185.414140882904, Md_total=8063.625672056447)"
      ]
     },
     "execution_count": 5,
     "metadata": {},
     "output_type": "execute_result"
    }
   ],
   "source": [
    "trajectory_J"
   ]
  },
  {
   "cell_type": "code",
   "execution_count": 6,
   "metadata": {},
   "outputs": [
    {
     "name": "stdout",
     "output_type": "stream",
     "text": [
      "R -> 2864.790 ft\n",
      "theta -> 7.564 degrees\n",
      "tvd_EOB -> 877.114 ft\n",
      "Md_EOB -> 878.212 ft\n",
      "Dh_EOB -> 24.930 ft\n",
      "Lengh_tan -> 7185.414 ft\n",
      "Md_Total -> 8063.626 ft\n"
     ]
    }
   ],
   "source": [
    "names = ['R', 'theta', 'tvd_EOB', 'Md_EOB', 'Dh_EOB', 'Lengh_tan', 'Md_Total']\n",
    "for param, value in zip(names, trajectory_J):\n",
    "    if param == 'theta':\n",
    "        print(f\"{param} -> {value:.3f} degrees\")\n",
    "        \n",
    "    else:\n",
    "        print(f\"{param} -> {value:.3f} ft\")"
   ]
  },
  {
   "cell_type": "markdown",
   "metadata": {},
   "source": [
    "## *S-Type Well Profile*"
   ]
  },
  {
   "cell_type": "markdown",
   "metadata": {},
   "source": [
    "![s](Resources/s_prof.png)"
   ]
  },
  {
   "cell_type": "code",
   "execution_count": 7,
   "metadata": {},
   "outputs": [],
   "source": [
    "# Function for S-Type wells\n",
    "\n",
    "# Function to calculate parameters from a S-Type well\n",
    "Data_S = namedtuple(\"Input\", \"TVD KOP BUR DOR DH\")\n",
    "Output_S = namedtuple(\"Output\", \"R1 R2 Theta TVD_EOB Md_EOB Dh_EOB Tan_len Md_SOD TVD_SOD Dh_SOD Md_total\")\n",
    "\n",
    "def well_S(data:Data_S, unit='ingles'):\n",
    "    tvd = data.TVD\n",
    "    kop = data.KOP\n",
    "    bur = data.BUR\n",
    "    dor = data.DOR\n",
    "    dh = data.DH\n",
    "\n",
    "    # R1 and R2 Calculation\n",
    "    if unit == 'ingles':\n",
    "        R1 = 5729.58 / bur\n",
    "        R2 = 5729.58 / dor\n",
    "        \n",
    "    else:\n",
    "        R1 = 1718.87 / bur\n",
    "        R2 = 1718.87 / dor\n",
    "\n",
    "    # FE Segment    \n",
    "    if dh > (R1 + R2):\n",
    "        fe = dh - (R1 + R2)\n",
    "        \n",
    "    elif dh < (R1 + R2):\n",
    "        fe = R1 - (dh - R2)\n",
    "\n",
    "    # EO Segment       \n",
    "    eo = tvd - kop\n",
    "\n",
    "    # FOE Angle\n",
    "    foe = degrees(atan(fe / eo))\n",
    "\n",
    "    # OF Segment\n",
    "    of = sqrt(fe**2 + eo**2)\n",
    "\n",
    "    # FG Segment\n",
    "    fg = R1 + R2\n",
    "\n",
    "    # FOG Angle\n",
    "    fog = degrees(asin(fg / of))\n",
    "\n",
    "    # Theta Angle\n",
    "    theta = fog - foe\n",
    "\n",
    "    # TVD a EOB\n",
    "    tvd_eob = kop + R1 * sin(radians(theta))\n",
    "\n",
    "    # MD a EOB\n",
    "    if unit == 'ingles':\n",
    "        md_eob = kop + (theta / bur) * 100\n",
    "        \n",
    "    else:\n",
    "\n",
    "        md_eob = kop + (theta / bur) * 30\n",
    "\n",
    "    # DH a EOB\n",
    "    dh_eob = R1 - abs(R1 * cos(radians(theta)))\n",
    "\n",
    "    # OG Segment\n",
    "    tan_len = sqrt(of**2 - fg**2)\n",
    "\n",
    "    # MD a SOD\n",
    "    if unit == 'ingles':\n",
    "        md_sod = kop + (theta / bur) * 100 + tan_len\n",
    "        \n",
    "    else:\n",
    "         md_sod = kop + (theta / bur) * 30 + tan_len\n",
    "\n",
    "    # TVD a SOD    \n",
    "    tvd_sod = tvd_eob + tan_len * abs(cos(radians(theta)))\n",
    "\n",
    "    # DH a SOD\n",
    "    dh_sod = dh_eob + abs(tan_len * sin(radians(theta)))\n",
    "\n",
    "    # MD Total\n",
    "    if unit == 'ingles':\n",
    "        md_total = kop + (theta / bur) * 100 + tan_len + (theta / dor) * 100\n",
    "    \n",
    "    else:\n",
    "        md_total = kop + (theta / bur) * 30 + tan_len + (theta / dor) * 30\n",
    "\n",
    "    \n",
    "    output_S = Output_S(R1=R1, R2=R2, Theta=theta, TVD_EOB=tvd_eob, Md_EOB=md_eob, Dh_EOB=dh_eob, \\\n",
    "                    Tan_len=tan_len, Md_SOD=md_sod, TVD_SOD=tvd_sod, Dh_SOD=dh_sod, Md_total=md_total)\n",
    "\n",
    "    names = ['R1', 'R2', 'theta', 'tvd_EOB', 'Md_EOB', 'Dh_EOB', 'Lengh_tan', 'Md_SOD', 'tvd_SOD', 'Dh_SOD', 'Md_Total']\n",
    "    for param , value in zip(names, output_S):\n",
    "        if unit == 'ingles':\n",
    "            if param == 'theta':\n",
    "                print(f\"{param} -> {value:.2f} degrees\")\n",
    "            else:\n",
    "                print(f\"{param} -> {value:.2f} ft\")\n",
    "                \n",
    "        else:\n",
    "             if param == 'theta':\n",
    "                print(f\"{param} -> {value:.2f} degrees\")\n",
    "             else:\n",
    "                print(f\"{param} -> {value:.2f} m\")"
   ]
  },
  {
   "cell_type": "markdown",
   "metadata": {},
   "source": [
    "# *Ejercicio 2*"
   ]
  },
  {
   "cell_type": "code",
   "execution_count": 8,
   "metadata": {},
   "outputs": [],
   "source": [
    "# Data\n",
    "kop = 6084 #ft\n",
    "tvd = 12000 #ft\n",
    "bur = 3 #o/100ft\n",
    "dor = 2 #o/ft\n",
    "dh = 3500 #ft"
   ]
  },
  {
   "cell_type": "code",
   "execution_count": 9,
   "metadata": {},
   "outputs": [
    {
     "name": "stdout",
     "output_type": "stream",
     "text": [
      "R1 -> 1909.86 ft\n",
      "R2 -> 2864.79 ft\n",
      "theta -> 39.93 degrees\n",
      "tvd_EOB -> 7309.85 ft\n",
      "Md_EOB -> 7415.01 ft\n",
      "Dh_EOB -> 445.33 ft\n",
      "Lengh_tan -> 3718.40 ft\n",
      "Md_SOD -> 11133.41 ft\n",
      "tvd_SOD -> 10161.22 ft\n",
      "Dh_SOD -> 2832.01 ft\n",
      "Md_Total -> 13129.93 ft\n"
     ]
    }
   ],
   "source": [
    "trajectory_S = well_S(Data_S(tvd, kop, bur, dor, dh))"
   ]
  },
  {
   "cell_type": "markdown",
   "metadata": {},
   "source": [
    "## *Horizontal Well Profiles*"
   ]
  },
  {
   "cell_type": "markdown",
   "metadata": {},
   "source": [
    "![hor](Resources/Horizontal_prof.jpg)"
   ]
  },
  {
   "cell_type": "code",
   "execution_count": 10,
   "metadata": {},
   "outputs": [],
   "source": [
    "# Function for horizontal wells\n",
    "\n",
    "# Function to calculate parameters of a Horizontal Well\n",
    "Data_H = namedtuple(\"Input\", \"TVD KOP BUR1 BUR2 DH\")\n",
    "Output_H = namedtuple(\"Output\", \"R1 R2 Theta TVD_EOB1 Md_EOB1 Dh_EOB1 Tan_len Md_SOB2 Md_total\")\n",
    "\n",
    "def well_H(data:Data_H, unit='ingles'):\n",
    "    # Define the variables\n",
    "    tvd = data.TVD\n",
    "    kop = data.KOP\n",
    "    bur1 = data.BUR1\n",
    "    bur2 = data.BUR2\n",
    "    dh = data.DH\n",
    "    \n",
    "    # Define curvature radius\n",
    "    if unit == 'ingles':\n",
    "        R1 = 5729.58 / bur1\n",
    "        R2 = 5729.58 / bur2\n",
    "    else:\n",
    "        R1 = 1718.87 / bur1\n",
    "        R2 = 1718.87 / bur2\n",
    "\n",
    "    # EG Segment\n",
    "    eg = (tvd - kop) - R2\n",
    "\n",
    "    # EO Segment\n",
    "    eo = dh - R1\n",
    "\n",
    "    # GOE Angle\n",
    "    goe = degrees(atan(eg / eo))\n",
    "\n",
    "    # OG Segment\n",
    "    og = sqrt(eg**2 + eo**2)\n",
    "\n",
    "    # OF Segment\n",
    "    of = R1 - R2\n",
    "\n",
    "    # GOF Angle\n",
    "    gof = degrees(acos(of / og))\n",
    "    \n",
    "    # angle of tangent section\n",
    "    theta = 180 - goe - gof\n",
    "    \n",
    "    # tvd @ EOB1\n",
    "    tvd_eob1 = kop + (R1 * sin(radians(theta)))\n",
    "    #MD @ EOB1\n",
    "    if unit == 'ingles':\n",
    "        md_eob1 = kop + (theta / bur1) * 100\n",
    "    else:\n",
    "        md_eob1 = kop + (theta / bur1) * 30\n",
    "    # dh @ EOB1\n",
    "    dh_eob1 = R1 - (R1 * cos(radians(theta)))\n",
    "    # BC segment \n",
    "    tan_len = sqrt(og**2 - of**2)\n",
    "    # MOD a SOB2\n",
    "    if unit == 'ingles':\n",
    "        md_sob2 = kop + (theta / bur1) * 100 + tan_len\n",
    "    else:\n",
    "        md_sob2 = kop + (theta / bur1) * 30 + tan_len\n",
    "    # MD total\n",
    "    if unit == 'ingles':\n",
    "        md_total = kop + (theta / bur1) * 100 + tan_len + ((90 - theta) / bur2) * 100\n",
    "    else:\n",
    "        md_total = kop + (theta / bur1) * 30 + tan_len + ((90 - theta) / bur2) * 30\n",
    "        \n",
    "    output_H = Output_H(R1=R1, R2=R2, Theta=theta, TVD_EOB1=tvd_eob1, Md_EOB1=md_eob1,\\\n",
    "                        Dh_EOB1=dh_eob1, Tan_len=tan_len, Md_SOB2=md_sob2, Md_total=md_total)\n",
    "\n",
    "    names = ['R1', 'R2', 'Theta', 'TVD_EOB1', 'Md_EOB1', 'Dh_EOB1', 'Tan_len', 'Md_SOB2', 'Md_total']\n",
    "    for param , value in zip(names, output_H):\n",
    "        if unit == 'ingles':\n",
    "            if param == 'theta':\n",
    "                print(f\"{param} -> {value:.2f} degrees\")\n",
    "            else:\n",
    "                print(f\"{param} -> {value:.2f} ft\")\n",
    "        else:\n",
    "             if param == 'theta':\n",
    "                print(f\"{param} -> {value:.2f} degrees\")\n",
    "             else:\n",
    "                print(f\"{param} -> {value:.2f} m\")"
   ]
  },
  {
   "cell_type": "markdown",
   "metadata": {},
   "source": [
    "## *Ejercicio 3*"
   ]
  },
  {
   "cell_type": "code",
   "execution_count": 11,
   "metadata": {},
   "outputs": [],
   "source": [
    "# Data\n",
    "tvd = 3800 #ft\n",
    "kop = 2000 #ft\n",
    "bur1 = 5.73 #o/100ft\n",
    "bur2 = 9.55 #o/100ft\n",
    "dh = 1800 #ft"
   ]
  },
  {
   "cell_type": "code",
   "execution_count": 12,
   "metadata": {},
   "outputs": [
    {
     "name": "stdout",
     "output_type": "stream",
     "text": [
      "R1 -> 999.93 ft\n",
      "R2 -> 599.96 ft\n",
      "Theta -> 49.79 ft\n",
      "TVD_EOB1 -> 2763.64 ft\n",
      "Md_EOB1 -> 2868.96 ft\n",
      "Dh_EOB1 -> 354.40 ft\n",
      "Tan_len -> 1385.73 ft\n",
      "Md_SOB2 -> 4254.69 ft\n",
      "Md_total -> 4675.72 ft\n"
     ]
    }
   ],
   "source": [
    "well_H(Data_H(tvd, kop, bur1, bur2, dh))"
   ]
  },
  {
   "cell_type": "markdown",
   "metadata": {},
   "source": [
    "***"
   ]
  }
 ],
 "metadata": {
  "kernelspec": {
   "display_name": "Python 3 (ipykernel)",
   "language": "python",
   "name": "python3"
  },
  "language_info": {
   "codemirror_mode": {
    "name": "ipython",
    "version": 3
   },
   "file_extension": ".py",
   "mimetype": "text/x-python",
   "name": "python",
   "nbconvert_exporter": "python",
   "pygments_lexer": "ipython3",
   "version": "3.13.0"
  }
 },
 "nbformat": 4,
 "nbformat_minor": 4
}
