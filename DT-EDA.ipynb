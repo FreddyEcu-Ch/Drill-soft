{
 "cells": [
  {
   "cell_type": "markdown",
   "metadata": {
    "pycharm": {
     "name": "#%% md\n"
    }
   },
   "source": [
    "# Directional Wells Trayectories - Visualization"
   ]
  },
  {
   "cell_type": "markdown",
   "metadata": {
    "pycharm": {
     "name": "#%% md\n"
    }
   },
   "source": [
    "# Import Python Libraries"
   ]
  },
  {
   "cell_type": "code",
   "execution_count": 57,
   "metadata": {
    "pycharm": {
     "name": "#%%\n"
    }
   },
   "outputs": [],
   "source": [
    "import matplotlib.pyplot as plt\n",
    "import seaborn as sns\n",
    "from bs4 import BeautifulSoup\n",
    "import pandas as pd\n",
    "import plotly.express as px\n",
    "import warnings\n",
    "warnings.filterwarnings('ignore')"
   ]
  },
  {
   "cell_type": "markdown",
   "metadata": {
    "pycharm": {
     "name": "#%% md\n"
    }
   },
   "source": [
    "## Import Data"
   ]
  },
  {
   "cell_type": "code",
   "execution_count": 5,
   "metadata": {
    "pycharm": {
     "name": "#%%\n"
    }
   },
   "outputs": [],
   "source": [
    "Well_file = \"Data/input/F-15/1.xml\"\n",
    "with open(Well_file) as file:\n",
    "    data = file.read()"
   ]
  },
  {
   "cell_type": "markdown",
   "metadata": {
    "pycharm": {
     "name": "#%% md\n"
    }
   },
   "source": [
    "# Data Processing"
   ]
  },
  {
   "cell_type": "code",
   "execution_count": 8,
   "metadata": {
    "pycharm": {
     "name": "#%%\n"
    }
   },
   "outputs": [],
   "source": [
    "data_xml = BeautifulSoup(data, 'html.parser')"
   ]
  },
  {
   "cell_type": "code",
   "execution_count": 13,
   "metadata": {},
   "outputs": [
    {
     "data": {
      "text/plain": [
       "-3.17"
      ]
     },
     "execution_count": 13,
     "metadata": {},
     "output_type": "execute_result"
    }
   ],
   "source": [
    "float(data_xml.find_all(\"dispns\")[1].text)"
   ]
  },
  {
   "cell_type": "code",
   "execution_count": 14,
   "metadata": {},
   "outputs": [
    {
     "data": {
      "text/plain": [
       "0.00261799398216206"
      ]
     },
     "execution_count": 14,
     "metadata": {},
     "output_type": "execute_result"
    }
   ],
   "source": [
    "float(data_xml.find_all(\"incl\")[2].text)"
   ]
  },
  {
   "cell_type": "code",
   "execution_count": 16,
   "metadata": {
    "pycharm": {
     "name": "#%%\n"
    }
   },
   "outputs": [
    {
     "data": {
      "text/plain": [
       "0.00488692192665297"
      ]
     },
     "execution_count": 16,
     "metadata": {},
     "output_type": "execute_result"
    }
   ],
   "source": [
    "incl = data_xml.find_all(\"incl\")\n",
    "float(incl[3].text)"
   ]
  },
  {
   "cell_type": "code",
   "execution_count": 23,
   "metadata": {
    "pycharm": {
     "name": "#%%\n"
    }
   },
   "outputs": [
    {
     "data": {
      "text/plain": [
       "2257"
      ]
     },
     "execution_count": 23,
     "metadata": {},
     "output_type": "execute_result"
    }
   ],
   "source": [
    "params = []\n",
    "for tag in data_xml.find_all():\n",
    "    params.append(tag.name)\n",
    "len(params)"
   ]
  },
  {
   "cell_type": "code",
   "execution_count": 24,
   "metadata": {
    "pycharm": {
     "name": "#%%\n"
    }
   },
   "outputs": [
    {
     "data": {
      "text/plain": [
       "44"
      ]
     },
     "execution_count": 24,
     "metadata": {},
     "output_type": "execute_result"
    }
   ],
   "source": [
    "params = set(params)\n",
    "len(params)"
   ]
  },
  {
   "cell_type": "code",
   "execution_count": 25,
   "metadata": {},
   "outputs": [
    {
     "data": {
      "text/plain": [
       "44"
      ]
     },
     "execution_count": 25,
     "metadata": {},
     "output_type": "execute_result"
    }
   ],
   "source": [
    "params = set([str(tag.name) for tag in data_xml.find_all()])\n",
    "len(params)"
   ]
  },
  {
   "cell_type": "code",
   "execution_count": 26,
   "metadata": {},
   "outputs": [
    {
     "data": {
      "text/plain": [
       "153.399985329122"
      ]
     },
     "execution_count": 26,
     "metadata": {},
     "output_type": "execute_result"
    }
   ],
   "source": [
    "tvd = data_xml.find_all(\"tvd\")\n",
    "float(tvd[2].text)"
   ]
  },
  {
   "cell_type": "code",
   "execution_count": 27,
   "metadata": {
    "pycharm": {
     "name": "#%%\n"
    }
   },
   "outputs": [
    {
     "data": {
      "text/html": [
       "<div>\n",
       "<style scoped>\n",
       "    .dataframe tbody tr th:only-of-type {\n",
       "        vertical-align: middle;\n",
       "    }\n",
       "\n",
       "    .dataframe tbody tr th {\n",
       "        vertical-align: top;\n",
       "    }\n",
       "\n",
       "    .dataframe thead th {\n",
       "        text-align: right;\n",
       "    }\n",
       "</style>\n",
       "<table border=\"1\" class=\"dataframe\">\n",
       "  <thead>\n",
       "    <tr style=\"text-align: right;\">\n",
       "      <th></th>\n",
       "      <th>azi</th>\n",
       "      <th>incl</th>\n",
       "      <th>md</th>\n",
       "      <th>tvd</th>\n",
       "      <th>dispns</th>\n",
       "      <th>dispew</th>\n",
       "    </tr>\n",
       "  </thead>\n",
       "  <tbody>\n",
       "    <tr>\n",
       "      <th>0</th>\n",
       "      <td>0.000000</td>\n",
       "      <td>0.000000</td>\n",
       "      <td>0.000000</td>\n",
       "      <td>0.000000</td>\n",
       "      <td>-3.170000</td>\n",
       "      <td>3.530000</td>\n",
       "    </tr>\n",
       "    <tr>\n",
       "      <th>1</th>\n",
       "      <td>0.000000</td>\n",
       "      <td>0.000000</td>\n",
       "      <td>145.899994</td>\n",
       "      <td>145.899994</td>\n",
       "      <td>-3.170000</td>\n",
       "      <td>3.530000</td>\n",
       "    </tr>\n",
       "    <tr>\n",
       "      <th>2</th>\n",
       "      <td>4.427726</td>\n",
       "      <td>0.002618</td>\n",
       "      <td>153.399994</td>\n",
       "      <td>153.399985</td>\n",
       "      <td>-3.172757</td>\n",
       "      <td>3.520578</td>\n",
       "    </tr>\n",
       "    <tr>\n",
       "      <th>3</th>\n",
       "      <td>2.548530</td>\n",
       "      <td>0.004887</td>\n",
       "      <td>234.199997</td>\n",
       "      <td>234.199627</td>\n",
       "      <td>-3.366177</td>\n",
       "      <td>3.529412</td>\n",
       "    </tr>\n",
       "    <tr>\n",
       "      <th>4</th>\n",
       "      <td>2.377313</td>\n",
       "      <td>0.013614</td>\n",
       "      <td>274.600006</td>\n",
       "      <td>274.597786</td>\n",
       "      <td>-3.646544</td>\n",
       "      <td>3.774881</td>\n",
       "    </tr>\n",
       "    <tr>\n",
       "      <th>...</th>\n",
       "      <td>...</td>\n",
       "      <td>...</td>\n",
       "      <td>...</td>\n",
       "      <td>...</td>\n",
       "      <td>...</td>\n",
       "      <td>...</td>\n",
       "    </tr>\n",
       "    <tr>\n",
       "      <th>75</th>\n",
       "      <td>4.469265</td>\n",
       "      <td>0.382925</td>\n",
       "      <td>3118.280029</td>\n",
       "      <td>2938.419040</td>\n",
       "      <td>-699.230295</td>\n",
       "      <td>-217.451880</td>\n",
       "    </tr>\n",
       "    <tr>\n",
       "      <th>76</th>\n",
       "      <td>4.471534</td>\n",
       "      <td>0.390081</td>\n",
       "      <td>3158.540039</td>\n",
       "      <td>2975.709107</td>\n",
       "      <td>-702.866857</td>\n",
       "      <td>-232.185777</td>\n",
       "    </tr>\n",
       "    <tr>\n",
       "      <th>77</th>\n",
       "      <td>4.470487</td>\n",
       "      <td>0.371232</td>\n",
       "      <td>3199.020020</td>\n",
       "      <td>3013.291014</td>\n",
       "      <td>-706.461696</td>\n",
       "      <td>-246.789120</td>\n",
       "    </tr>\n",
       "    <tr>\n",
       "      <th>78</th>\n",
       "      <td>4.460363</td>\n",
       "      <td>0.366170</td>\n",
       "      <td>3211.780029</td>\n",
       "      <td>3025.193506</td>\n",
       "      <td>-707.585751</td>\n",
       "      <td>-251.248326</td>\n",
       "    </tr>\n",
       "    <tr>\n",
       "      <th>79</th>\n",
       "      <td>4.460363</td>\n",
       "      <td>0.366170</td>\n",
       "      <td>3232.000000</td>\n",
       "      <td>3044.073003</td>\n",
       "      <td>-709.391062</td>\n",
       "      <td>-258.259222</td>\n",
       "    </tr>\n",
       "  </tbody>\n",
       "</table>\n",
       "<p>80 rows × 6 columns</p>\n",
       "</div>"
      ],
      "text/plain": [
       "         azi      incl           md          tvd      dispns      dispew\n",
       "0   0.000000  0.000000     0.000000     0.000000   -3.170000    3.530000\n",
       "1   0.000000  0.000000   145.899994   145.899994   -3.170000    3.530000\n",
       "2   4.427726  0.002618   153.399994   153.399985   -3.172757    3.520578\n",
       "3   2.548530  0.004887   234.199997   234.199627   -3.366177    3.529412\n",
       "4   2.377313  0.013614   274.600006   274.597786   -3.646544    3.774881\n",
       "..       ...       ...          ...          ...         ...         ...\n",
       "75  4.469265  0.382925  3118.280029  2938.419040 -699.230295 -217.451880\n",
       "76  4.471534  0.390081  3158.540039  2975.709107 -702.866857 -232.185777\n",
       "77  4.470487  0.371232  3199.020020  3013.291014 -706.461696 -246.789120\n",
       "78  4.460363  0.366170  3211.780029  3025.193506 -707.585751 -251.248326\n",
       "79  4.460363  0.366170  3232.000000  3044.073003 -709.391062 -258.259222\n",
       "\n",
       "[80 rows x 6 columns]"
      ]
     },
     "execution_count": 27,
     "metadata": {},
     "output_type": "execute_result"
    }
   ],
   "source": [
    "columns = ['azi', 'incl', 'md', 'tvd', 'dispns', 'dispew']\n",
    "df = pd.DataFrame()\n",
    "for col in columns:\n",
    "    df[col] = [float(x.text) for x in data_xml.find_all(col)] \n",
    "\n",
    "df "
   ]
  },
  {
   "cell_type": "code",
   "execution_count": 28,
   "metadata": {
    "pycharm": {
     "name": "#%%\n"
    }
   },
   "outputs": [
    {
     "data": {
      "text/html": [
       "<div>\n",
       "<style scoped>\n",
       "    .dataframe tbody tr th:only-of-type {\n",
       "        vertical-align: middle;\n",
       "    }\n",
       "\n",
       "    .dataframe tbody tr th {\n",
       "        vertical-align: top;\n",
       "    }\n",
       "\n",
       "    .dataframe thead th {\n",
       "        text-align: right;\n",
       "    }\n",
       "</style>\n",
       "<table border=\"1\" class=\"dataframe\">\n",
       "  <thead>\n",
       "    <tr style=\"text-align: right;\">\n",
       "      <th></th>\n",
       "      <th>azi</th>\n",
       "      <th>incl</th>\n",
       "      <th>md</th>\n",
       "      <th>tvd</th>\n",
       "      <th>dispns</th>\n",
       "      <th>dispew</th>\n",
       "    </tr>\n",
       "  </thead>\n",
       "  <tbody>\n",
       "    <tr>\n",
       "      <th>0</th>\n",
       "      <td>0.000000</td>\n",
       "      <td>0.000000</td>\n",
       "      <td>0.000000</td>\n",
       "      <td>0.000000</td>\n",
       "      <td>-3.170000</td>\n",
       "      <td>3.530000</td>\n",
       "    </tr>\n",
       "    <tr>\n",
       "      <th>1</th>\n",
       "      <td>0.000000</td>\n",
       "      <td>0.000000</td>\n",
       "      <td>145.899994</td>\n",
       "      <td>145.899994</td>\n",
       "      <td>-3.170000</td>\n",
       "      <td>3.530000</td>\n",
       "    </tr>\n",
       "    <tr>\n",
       "      <th>2</th>\n",
       "      <td>4.427726</td>\n",
       "      <td>0.002618</td>\n",
       "      <td>153.399994</td>\n",
       "      <td>153.399985</td>\n",
       "      <td>-3.172757</td>\n",
       "      <td>3.520578</td>\n",
       "    </tr>\n",
       "    <tr>\n",
       "      <th>3</th>\n",
       "      <td>2.548530</td>\n",
       "      <td>0.004887</td>\n",
       "      <td>234.199997</td>\n",
       "      <td>234.199627</td>\n",
       "      <td>-3.366177</td>\n",
       "      <td>3.529412</td>\n",
       "    </tr>\n",
       "    <tr>\n",
       "      <th>4</th>\n",
       "      <td>2.377313</td>\n",
       "      <td>0.013614</td>\n",
       "      <td>274.600006</td>\n",
       "      <td>274.597786</td>\n",
       "      <td>-3.646544</td>\n",
       "      <td>3.774881</td>\n",
       "    </tr>\n",
       "  </tbody>\n",
       "</table>\n",
       "</div>"
      ],
      "text/plain": [
       "        azi      incl          md         tvd    dispns    dispew\n",
       "0  0.000000  0.000000    0.000000    0.000000 -3.170000  3.530000\n",
       "1  0.000000  0.000000  145.899994  145.899994 -3.170000  3.530000\n",
       "2  4.427726  0.002618  153.399994  153.399985 -3.172757  3.520578\n",
       "3  2.548530  0.004887  234.199997  234.199627 -3.366177  3.529412\n",
       "4  2.377313  0.013614  274.600006  274.597786 -3.646544  3.774881"
      ]
     },
     "execution_count": 28,
     "metadata": {},
     "output_type": "execute_result"
    }
   ],
   "source": [
    "df.head()"
   ]
  },
  {
   "cell_type": "code",
   "execution_count": 29,
   "metadata": {
    "pycharm": {
     "name": "#%%\n"
    }
   },
   "outputs": [],
   "source": [
    "wells = ['F-1 C',\n",
    "        'F-4',\n",
    "        'F-5',\n",
    "        'F-7',\n",
    "        'F-9',\n",
    "        'F-11',\n",
    "        'F-12',\n",
    "        'F-14',\n",
    "        'F-15']\n",
    "\n",
    "preffix = \"Data/input/\"\n",
    "suffix = \"/1.xml\"\n",
    "\n",
    "df_all_wells = pd.DataFrame()\n",
    "for well in wells:\n",
    "    df = pd.DataFrame()\n",
    "    WITSML_file = preffix + well + suffix\n",
    "    with open(WITSML_file) as f:\n",
    "        data = f.read()\n",
    "    data_xml = BeautifulSoup(data, 'html.parser')\n",
    "    for col in columns:\n",
    "        df[col] = [float(x.text) for x in data_xml.find_all(col)]\n",
    "    df['Well'] = well\n",
    "    df_all_wells = pd.concat([df_all_wells, df], ignore_index=True)"
   ]
  },
  {
   "cell_type": "code",
   "execution_count": 31,
   "metadata": {
    "pycharm": {
     "name": "#%%\n"
    }
   },
   "outputs": [
    {
     "data": {
      "text/html": [
       "<div>\n",
       "<style scoped>\n",
       "    .dataframe tbody tr th:only-of-type {\n",
       "        vertical-align: middle;\n",
       "    }\n",
       "\n",
       "    .dataframe tbody tr th {\n",
       "        vertical-align: top;\n",
       "    }\n",
       "\n",
       "    .dataframe thead th {\n",
       "        text-align: right;\n",
       "    }\n",
       "</style>\n",
       "<table border=\"1\" class=\"dataframe\">\n",
       "  <thead>\n",
       "    <tr style=\"text-align: right;\">\n",
       "      <th></th>\n",
       "      <th>azi</th>\n",
       "      <th>incl</th>\n",
       "      <th>md</th>\n",
       "      <th>tvd</th>\n",
       "      <th>dispns</th>\n",
       "      <th>dispew</th>\n",
       "      <th>Well</th>\n",
       "    </tr>\n",
       "  </thead>\n",
       "  <tbody>\n",
       "    <tr>\n",
       "      <th>0</th>\n",
       "      <td>0.000000</td>\n",
       "      <td>0.000000</td>\n",
       "      <td>0.000000</td>\n",
       "      <td>0.000000</td>\n",
       "      <td>3.170000</td>\n",
       "      <td>-3.530000</td>\n",
       "      <td>F-1 C</td>\n",
       "    </tr>\n",
       "    <tr>\n",
       "      <th>1</th>\n",
       "      <td>0.000000</td>\n",
       "      <td>0.000000</td>\n",
       "      <td>210.699997</td>\n",
       "      <td>210.699997</td>\n",
       "      <td>3.170000</td>\n",
       "      <td>-3.530000</td>\n",
       "      <td>F-1 C</td>\n",
       "    </tr>\n",
       "    <tr>\n",
       "      <th>2</th>\n",
       "      <td>5.275083</td>\n",
       "      <td>0.032114</td>\n",
       "      <td>237.600006</td>\n",
       "      <td>237.595383</td>\n",
       "      <td>3.400403</td>\n",
       "      <td>-3.895308</td>\n",
       "      <td>F-1 C</td>\n",
       "    </tr>\n",
       "    <tr>\n",
       "      <th>3</th>\n",
       "      <td>5.318018</td>\n",
       "      <td>0.033336</td>\n",
       "      <td>251.100006</td>\n",
       "      <td>251.088156</td>\n",
       "      <td>3.644096</td>\n",
       "      <td>-4.263587</td>\n",
       "      <td>F-1 C</td>\n",
       "    </tr>\n",
       "    <tr>\n",
       "      <th>4</th>\n",
       "      <td>5.336519</td>\n",
       "      <td>0.043110</td>\n",
       "      <td>264.899994</td>\n",
       "      <td>264.878010</td>\n",
       "      <td>3.948795</td>\n",
       "      <td>-4.693964</td>\n",
       "      <td>F-1 C</td>\n",
       "    </tr>\n",
       "  </tbody>\n",
       "</table>\n",
       "</div>"
      ],
      "text/plain": [
       "        azi      incl          md         tvd    dispns    dispew   Well\n",
       "0  0.000000  0.000000    0.000000    0.000000  3.170000 -3.530000  F-1 C\n",
       "1  0.000000  0.000000  210.699997  210.699997  3.170000 -3.530000  F-1 C\n",
       "2  5.275083  0.032114  237.600006  237.595383  3.400403 -3.895308  F-1 C\n",
       "3  5.318018  0.033336  251.100006  251.088156  3.644096 -4.263587  F-1 C\n",
       "4  5.336519  0.043110  264.899994  264.878010  3.948795 -4.693964  F-1 C"
      ]
     },
     "execution_count": 31,
     "metadata": {},
     "output_type": "execute_result"
    }
   ],
   "source": [
    "df_all_wells.head()"
   ]
  },
  {
   "cell_type": "code",
   "execution_count": 32,
   "metadata": {
    "pycharm": {
     "name": "#%%\n"
    }
   },
   "outputs": [
    {
     "data": {
      "text/plain": [
       "array(['F-1 C', 'F-4', 'F-5', 'F-7', 'F-9', 'F-11', 'F-12', 'F-14',\n",
       "       'F-15'], dtype=object)"
      ]
     },
     "execution_count": 32,
     "metadata": {},
     "output_type": "execute_result"
    }
   ],
   "source": [
    "df_all_wells[\"Well\"].unique()"
   ]
  },
  {
   "cell_type": "code",
   "execution_count": 33,
   "metadata": {
    "pycharm": {
     "name": "#%%\n"
    }
   },
   "outputs": [
    {
     "data": {
      "text/plain": [
       "(861, 7)"
      ]
     },
     "execution_count": 33,
     "metadata": {},
     "output_type": "execute_result"
    }
   ],
   "source": [
    "df_all_wells.shape"
   ]
  },
  {
   "cell_type": "code",
   "execution_count": 34,
   "metadata": {
    "pycharm": {
     "name": "#%%\n"
    }
   },
   "outputs": [
    {
     "data": {
      "text/html": [
       "<div>\n",
       "<style scoped>\n",
       "    .dataframe tbody tr th:only-of-type {\n",
       "        vertical-align: middle;\n",
       "    }\n",
       "\n",
       "    .dataframe tbody tr th {\n",
       "        vertical-align: top;\n",
       "    }\n",
       "\n",
       "    .dataframe thead th {\n",
       "        text-align: right;\n",
       "    }\n",
       "</style>\n",
       "<table border=\"1\" class=\"dataframe\">\n",
       "  <thead>\n",
       "    <tr style=\"text-align: right;\">\n",
       "      <th></th>\n",
       "      <th>azi</th>\n",
       "      <th>incl</th>\n",
       "      <th>md</th>\n",
       "      <th>Well</th>\n",
       "    </tr>\n",
       "  </thead>\n",
       "  <tbody>\n",
       "    <tr>\n",
       "      <th>475</th>\n",
       "      <td>0.000000</td>\n",
       "      <td>0.000000</td>\n",
       "      <td>0.000000</td>\n",
       "      <td>F-12</td>\n",
       "    </tr>\n",
       "    <tr>\n",
       "      <th>476</th>\n",
       "      <td>0.000000</td>\n",
       "      <td>0.000000</td>\n",
       "      <td>145.899994</td>\n",
       "      <td>F-12</td>\n",
       "    </tr>\n",
       "    <tr>\n",
       "      <th>477</th>\n",
       "      <td>2.900912</td>\n",
       "      <td>0.002094</td>\n",
       "      <td>174.000000</td>\n",
       "      <td>F-12</td>\n",
       "    </tr>\n",
       "    <tr>\n",
       "      <th>478</th>\n",
       "      <td>2.788861</td>\n",
       "      <td>0.001396</td>\n",
       "      <td>204.000000</td>\n",
       "      <td>F-12</td>\n",
       "    </tr>\n",
       "    <tr>\n",
       "      <th>479</th>\n",
       "      <td>1.976934</td>\n",
       "      <td>0.002618</td>\n",
       "      <td>234.000000</td>\n",
       "      <td>F-12</td>\n",
       "    </tr>\n",
       "    <tr>\n",
       "      <th>...</th>\n",
       "      <td>...</td>\n",
       "      <td>...</td>\n",
       "      <td>...</td>\n",
       "      <td>...</td>\n",
       "    </tr>\n",
       "    <tr>\n",
       "      <th>682</th>\n",
       "      <td>1.860346</td>\n",
       "      <td>0.925199</td>\n",
       "      <td>3375.409912</td>\n",
       "      <td>F-12</td>\n",
       "    </tr>\n",
       "    <tr>\n",
       "      <th>683</th>\n",
       "      <td>1.867851</td>\n",
       "      <td>0.927468</td>\n",
       "      <td>3416.550049</td>\n",
       "      <td>F-12</td>\n",
       "    </tr>\n",
       "    <tr>\n",
       "      <th>684</th>\n",
       "      <td>1.862964</td>\n",
       "      <td>0.924501</td>\n",
       "      <td>3456.149902</td>\n",
       "      <td>F-12</td>\n",
       "    </tr>\n",
       "    <tr>\n",
       "      <th>685</th>\n",
       "      <td>1.842893</td>\n",
       "      <td>0.922756</td>\n",
       "      <td>3495.520020</td>\n",
       "      <td>F-12</td>\n",
       "    </tr>\n",
       "    <tr>\n",
       "      <th>686</th>\n",
       "      <td>1.842893</td>\n",
       "      <td>0.922756</td>\n",
       "      <td>3520.000000</td>\n",
       "      <td>F-12</td>\n",
       "    </tr>\n",
       "  </tbody>\n",
       "</table>\n",
       "<p>212 rows × 4 columns</p>\n",
       "</div>"
      ],
      "text/plain": [
       "          azi      incl           md  Well\n",
       "475  0.000000  0.000000     0.000000  F-12\n",
       "476  0.000000  0.000000   145.899994  F-12\n",
       "477  2.900912  0.002094   174.000000  F-12\n",
       "478  2.788861  0.001396   204.000000  F-12\n",
       "479  1.976934  0.002618   234.000000  F-12\n",
       "..        ...       ...          ...   ...\n",
       "682  1.860346  0.925199  3375.409912  F-12\n",
       "683  1.867851  0.927468  3416.550049  F-12\n",
       "684  1.862964  0.924501  3456.149902  F-12\n",
       "685  1.842893  0.922756  3495.520020  F-12\n",
       "686  1.842893  0.922756  3520.000000  F-12\n",
       "\n",
       "[212 rows x 4 columns]"
      ]
     },
     "execution_count": 34,
     "metadata": {},
     "output_type": "execute_result"
    }
   ],
   "source": [
    "df_all_wells.loc[df_all_wells['Well'] == 'F-12', ['azi', \"incl\", \"md\", \"Well\"]]"
   ]
  },
  {
   "cell_type": "code",
   "execution_count": 41,
   "metadata": {
    "pycharm": {
     "name": "#%%\n"
    }
   },
   "outputs": [
    {
     "data": {
      "text/html": [
       "<div>\n",
       "<style scoped>\n",
       "    .dataframe tbody tr th:only-of-type {\n",
       "        vertical-align: middle;\n",
       "    }\n",
       "\n",
       "    .dataframe tbody tr th {\n",
       "        vertical-align: top;\n",
       "    }\n",
       "\n",
       "    .dataframe thead th {\n",
       "        text-align: right;\n",
       "    }\n",
       "</style>\n",
       "<table border=\"1\" class=\"dataframe\">\n",
       "  <thead>\n",
       "    <tr style=\"text-align: right;\">\n",
       "      <th></th>\n",
       "      <th>Well</th>\n",
       "      <th>md</th>\n",
       "    </tr>\n",
       "  </thead>\n",
       "  <tbody>\n",
       "    <tr>\n",
       "      <th>0</th>\n",
       "      <td>F-1 C</td>\n",
       "      <td>1680.828890</td>\n",
       "    </tr>\n",
       "    <tr>\n",
       "      <th>1</th>\n",
       "      <td>F-11</td>\n",
       "      <td>2055.355497</td>\n",
       "    </tr>\n",
       "    <tr>\n",
       "      <th>2</th>\n",
       "      <td>F-12</td>\n",
       "      <td>1705.767971</td>\n",
       "    </tr>\n",
       "    <tr>\n",
       "      <th>3</th>\n",
       "      <td>F-14</td>\n",
       "      <td>1940.982018</td>\n",
       "    </tr>\n",
       "    <tr>\n",
       "      <th>4</th>\n",
       "      <td>F-15</td>\n",
       "      <td>1692.437750</td>\n",
       "    </tr>\n",
       "    <tr>\n",
       "      <th>5</th>\n",
       "      <td>F-4</td>\n",
       "      <td>1823.509203</td>\n",
       "    </tr>\n",
       "    <tr>\n",
       "      <th>6</th>\n",
       "      <td>F-5</td>\n",
       "      <td>1958.233773</td>\n",
       "    </tr>\n",
       "    <tr>\n",
       "      <th>7</th>\n",
       "      <td>F-7</td>\n",
       "      <td>457.161190</td>\n",
       "    </tr>\n",
       "    <tr>\n",
       "      <th>8</th>\n",
       "      <td>F-9</td>\n",
       "      <td>637.872396</td>\n",
       "    </tr>\n",
       "  </tbody>\n",
       "</table>\n",
       "</div>"
      ],
      "text/plain": [
       "    Well           md\n",
       "0  F-1 C  1680.828890\n",
       "1   F-11  2055.355497\n",
       "2   F-12  1705.767971\n",
       "3   F-14  1940.982018\n",
       "4   F-15  1692.437750\n",
       "5    F-4  1823.509203\n",
       "6    F-5  1958.233773\n",
       "7    F-7   457.161190\n",
       "8    F-9   637.872396"
      ]
     },
     "execution_count": 41,
     "metadata": {},
     "output_type": "execute_result"
    }
   ],
   "source": [
    "df_group = df_all_wells.groupby('Well')['md'].mean().reset_index()\n",
    "df_group"
   ]
  },
  {
   "cell_type": "code",
   "execution_count": 46,
   "metadata": {},
   "outputs": [
    {
     "data": {
      "image/png": "[encoded data removed]",
      "text/plain": [
       "<Figure size 1000x800 with 1 Axes>"
      ]
     },
     "metadata": {},
     "output_type": "display_data"
    }
   ],
   "source": [
    "fig, ax = plt.subplots(figsize=(10, 8))\n",
    "\n",
    "md_order = df_group.sort_values(by=[\"md\"], ascending=True)\n",
    "\n",
    "ax.bar(x=df_group[\"Well\"], height=md_order[\"md\"])\n",
    "\n",
    "ax.set_xlabel(\"Wells\")\n",
    "ax.set_ylabel(\"MD (m)\")\n",
    "\n",
    "plt.show()"
   ]
  },
  {
   "cell_type": "code",
   "execution_count": 47,
   "metadata": {},
   "outputs": [
    {
     "name": "stdout",
     "output_type": "stream",
     "text": [
      "<class 'pandas.core.frame.DataFrame'>\n",
      "RangeIndex: 861 entries, 0 to 860\n",
      "Data columns (total 7 columns):\n",
      " #   Column  Non-Null Count  Dtype  \n",
      "---  ------  --------------  -----  \n",
      " 0   azi     861 non-null    float64\n",
      " 1   incl    861 non-null    float64\n",
      " 2   md      861 non-null    float64\n",
      " 3   tvd     861 non-null    float64\n",
      " 4   dispns  861 non-null    float64\n",
      " 5   dispew  861 non-null    float64\n",
      " 6   Well    861 non-null    object \n",
      "dtypes: float64(6), object(1)\n",
      "memory usage: 47.2+ KB\n"
     ]
    }
   ],
   "source": [
    "df_all_wells.info()"
   ]
  },
  {
   "cell_type": "markdown",
   "metadata": {
    "pycharm": {
     "name": "#%% md\n"
    }
   },
   "source": [
    "# Convert to negative all TVD Values"
   ]
  },
  {
   "cell_type": "code",
   "execution_count": 48,
   "metadata": {
    "pycharm": {
     "name": "#%%\n"
    }
   },
   "outputs": [],
   "source": [
    "df_all_wells['neg_tvd'] = df_all_wells['tvd']*-1"
   ]
  },
  {
   "cell_type": "code",
   "execution_count": 50,
   "metadata": {
    "pycharm": {
     "name": "#%%\n"
    }
   },
   "outputs": [
    {
     "data": {
      "application/vnd.plotly.v1+json": {
       "config": {
        "plotlyServerURL": "https://plot.ly"
       },
       "data": [
        {
         "hovertemplate": "Well=F-1 C<br>dispns=%{x}<br>dispew=%{y}<br>neg_tvd=%{z}<extra></extra>",
         "legendgroup": "F-1 C",
         "line": {
          "color": "#636efa",
          "dash": "solid"
         },
         "marker": {
          "symbol": "circle"
         },
         "mode": "lines",
         "name": "F-1 C",
         "scene": "scene",
         "showlegend": true,
         "type": "scatter3d",
         "x": [
          3.17,
          3.17,
          3.40040275458976,
          3.6440961243433,
          3.94879519172635,
          4.28211680928004,
          4.54535184649994,
          4.72092400509067,
          4.9695975775312,
          5.39670403033298,
          5.66820442100012,
          6.05692211168271,
          6.52708174843613,
          7.4235203987449,
          8.31199910213936,
          9.07127330647252,
          9.79921392067948,
          10.4942764626205,
          11.6354199898195,
          14.0444239268841,
          17.9961513568665,
          20.8433358413907,
          23.2420274436914,
          25.9827885260719,
          31.6856356342291,
          36.7528110686621,
          40.4436310284229,
          41.7212442518626,
          46.8917760335652,
          57.060636716499,
          66.7324927975115,
          71.8855546058579,
          77.0945641070537,
          82.108371686604,
          87.3732476264821,
          92.8242909170203,
          97.9981870030386,
          99.5396727913455,
          105.394685964779,
          111.357484680338,
          119.135339301822,
          127.767068375383,
          137.331139031132,
          146.574248342661,
          157.592816855314,
          168.085622088882,
          184.627502313464,
          199.940814992928,
          215.902819500539,
          232.254237798615,
          248.313642601972,
          264.651020275759,
          281.168745305317,
          297.716858349289,
          311.774692607889,
          327.709031064328,
          346.979924723039,
          363.632056914352,
          379.596333799813,
          395.504872066679,
          411.414453434743,
          423.789244181222,
          460.689053763515,
          477.12060215377,
          490.96110385028,
          509.690566306662,
          526.334618060295,
          538.481725294016,
          552.156116810332,
          561.129892015651,
          574.960149852757,
          586.876341521075,
          597.466728615053,
          608.277985296805,
          618.859915563114,
          628.793184471665,
          637.981467869639,
          647.568851360531,
          658.028649132791,
          668.782308293796,
          675.480199793788,
          689.001125731999,
          697.983024244119,
          706.906801448751,
          714.395635338452,
          719.307957733571,
          721.903240023792,
          723.69313467749,
          725.45952489419,
          727.076926598607
         ],
         "y": [
          -3.53,
          -3.53,
          -3.89530766629776,
          -4.26358654061696,
          -4.69396441520297,
          -5.14878668101245,
          -5.51788014457111,
          -5.69809692576711,
          -5.82984291449972,
          -6.17327750708852,
          -6.53088736711559,
          -7.30061031334763,
          -8.27532001498148,
          -10.110810947843,
          -12.1841268004001,
          -14.1008651013533,
          -15.9279248185743,
          -17.8474879005984,
          -20.0473843566642,
          -22.6428414535428,
          -25.7569810279303,
          -27.8673794273549,
          -29.7722013169434,
          -32.0315330288969,
          -36.760075989628,
          -41.308031560033,
          -45.3262077820944,
          -46.8449386368244,
          -52.386699833099,
          -61.6622899710021,
          -69.7456566133985,
          -74.7581754668769,
          -81.0016589390679,
          -87.4947324121478,
          -94.0958828881862,
          -100.711348535024,
          -106.895182244749,
          -108.744703844824,
          -113.983028716184,
          -116.265035084717,
          -116.69699395444,
          -114.399831812695,
          -109.637273409926,
          -104.005056004456,
          -96.800733269893,
          -89.8025319839802,
          -78.7510664755453,
          -67.9627033243882,
          -56.1533794528342,
          -44.0185820515969,
          -32.0526457542041,
          -20.1471823968215,
          -8.53817851558742,
          3.05989667406234,
          12.9711068466389,
          24.1139198200381,
          37.735343703591,
          49.5037546209496,
          61.0535249564063,
          73.3155931132412,
          85.6623262866976,
          94.8143984320277,
          121.115156568888,
          132.822791213744,
          142.958176967344,
          156.926288641989,
          168.864614057268,
          177.02251618329,
          186.29418106685,
          192.991922993997,
          205.080979807346,
          218.231039574893,
          232.157986875074,
          246.393116430444,
          260.271758827175,
          274.921666806688,
          289.700387561376,
          304.357027680895,
          318.471081785313,
          331.962116544473,
          340.531701084609,
          358.283398525659,
          368.898956592664,
          377.555312194386,
          384.454074232962,
          389.952176314284,
          393.617445215026,
          396.171430314228,
          398.651791926873,
          401.24186639454
         ],
         "z": [
          0,
          -210.699996948242,
          -237.595382621425,
          -251.088155931079,
          -264.878009905107,
          -279.166873841177,
          -292.659247507222,
          -302.755975497072,
          -315.452856275105,
          -332.143587087627,
          -342.133440302316,
          -358.410509331331,
          -377.880421524402,
          -414.623612024496,
          -455.160880554587,
          -495.107681344878,
          -535.2595130239,
          -575.407562198807,
          -616.030945597051,
          -656.172149712215,
          -696.154162758392,
          -718.777725548778,
          -735.905720643116,
          -754.977719033822,
          -796.420687734993,
          -835.227504415765,
          -864.421128019646,
          -874.426193027047,
          -913.49713128589,
          -993.315205935039,
          -1073.12595357101,
          -1113.08053279855,
          -1152.6532859814,
          -1192.00727676023,
          -1231.5147420712,
          -1270.99483332173,
          -1310.78537368716,
          -1323.76380330805,
          -1374.65034204887,
          -1415.04166099099,
          -1454.57174247424,
          -1493.96393802092,
          -1535.19859666988,
          -1571.4127176671,
          -1609.60432907471,
          -1641.06600895577,
          -1683.64136237149,
          -1718.86576958285,
          -1753.70464884038,
          -1788.94473297843,
          -1823.57003570188,
          -1858.6638966027,
          -1893.88817882085,
          -1929.10195168698,
          -1959.00839063923,
          -1992.81569010403,
          -2033.92320380446,
          -2069.492881305,
          -2103.84204607465,
          -2138.89479285565,
          -2173.91770972207,
          -2200.59567102275,
          -2279.04977392536,
          -2313.82002405741,
          -2343.29067774538,
          -2383.37869483976,
          -2418.54828616671,
          -2443.70176115528,
          -2472.84310242065,
          -2493.6162442158,
          -2529.81741927887,
          -2566.10546949109,
          -2601.85277233874,
          -2638.52786526456,
          -2674.63009177364,
          -2711.38909418175,
          -2747.51626380436,
          -2783.92155475817,
          -2820.52277222241,
          -2856.83231830545,
          -2880.11707877215,
          -2933.09778319581,
          -2970.7068055322,
          -3009.03237358504,
          -3048.32848337802,
          -3087.73311744052,
          -3127.57307283752,
          -3167.95273617121,
          -3208.23777350905,
          -3248.72274852108
         ]
        },
        {
         "hovertemplate": "Well=F-4<br>dispns=%{x}<br>dispew=%{y}<br>neg_tvd=%{z}<extra></extra>",
         "legendgroup": "F-4",
         "line": {
          "color": "#EF553B",
          "dash": "dot"
         },
         "marker": {
          "symbol": "circle"
         },
         "mode": "lines",
         "name": "F-4",
         "scene": "scene",
         "showlegend": true,
         "type": "scatter3d",
         "x": [
          0,
          0,
          -0.0956658632801162,
          -0.154708942398546,
          -0.423542432270751,
          -1.13965568077797,
          -2.27667832660518,
          -3.7739052931315,
          -5.83984266432239,
          -9.08294669662406,
          -13.8921859181592,
          -19.7407823320751,
          -25.9201986071358,
          -32.185397569277,
          -38.5829516802753,
          -45.185637948699,
          -52.350766298523,
          -60.7053446724808,
          -70.1560243548402,
          -80.2467034004203,
          -90.4090772820271,
          -100.134764416032,
          -109.19527757166,
          -117.50251123672,
          -125.217176730942,
          -132.686005947506,
          -140.856987510731,
          -150.747034271432,
          -161.409387114543,
          -171.199347001951,
          -180.200402938082,
          -189.099756274722,
          -197.411784915117,
          -204.401935383258,
          -209.741703154688,
          -214.500748013761,
          -220.05006602123,
          -226.380632488479,
          -233.627952999686,
          -240.669974197365,
          -246.209346813836,
          -251.0158064148,
          -256.081373278622,
          -261.207226545777,
          -266.192874572858,
          -271.445419650566,
          -276.883692415134,
          -282.277444471003,
          -287.635592790107,
          -293.260528306328,
          -299.228005817175,
          -305.288179598425,
          -311.442890714205,
          -317.50363187128,
          -323.038961094772,
          -328.173870844148,
          -333.281706007559,
          -338.327848812427,
          -343.247794255186,
          -348.234706990003,
          -353.404132497481,
          -358.471093698511,
          -363.613971356563,
          -370.055775157633,
          -378.849434416168,
          -381.802039907545,
          -395.351576639618,
          -407.584469708215,
          -418.726641927185,
          -436.403695428559,
          -454.974612795312,
          -474.94192754325,
          -495.413556898882,
          -518.495628409839,
          -541.687552237491,
          -565.669377856181,
          -591.312447322949,
          -618.861786874306,
          -647.619143284505,
          -677.684986478453,
          -708.843958035416,
          -740.367928115308,
          -771.95193331929,
          -803.197216308251,
          -834.240580285019,
          -864.826572688869,
          -883.654858304044
         ],
         "y": [
          0,
          0,
          -0.128112127864178,
          -0.197881974514614,
          -0.424266903996858,
          -0.893629625780904,
          -1.89968718278803,
          -4.23031676830105,
          -7.9870496069409,
          -12.1036243641151,
          -15.4225467397729,
          -17.3879331337846,
          -18.0960663772317,
          -18.2242609680955,
          -17.8183669988018,
          -16.6946805645471,
          -14.8742860586928,
          -11.9677417494499,
          -7.87497491015121,
          -2.88024652495772,
          2.26779299926803,
          6.9237456686947,
          11.1157196626807,
          15.2566262527264,
          19.3697593670973,
          23.7486129307432,
          29.3787366994694,
          35.7900201753367,
          42.6562395732124,
          49.5953024547605,
          55.8761735201642,
          61.9411396958301,
          68.8367664235397,
          77.4082280924085,
          88.022396742278,
          100.949081657654,
          115.398144114335,
          130.516998219452,
          146.201544362366,
          162.357350543315,
          178.913899270102,
          195.642893053703,
          212.326686114603,
          228.925922375119,
          245.591541509414,
          262.210849385433,
          278.736587466351,
          295.457129319039,
          312.337495222405,
          329.305422127997,
          346.327106053903,
          363.238888389238,
          380.19507616503,
          397.209804486243,
          414.321238836246,
          431.551473500612,
          448.81237130968,
          466.181520627396,
          483.55573627526,
          501.035081330936,
          518.788408604797,
          536.670352176065,
          554.328986552071,
          571.587920522126,
          588.126853656934,
          592.600130223207,
          609.150011591271,
          620.585495503152,
          628.997886482128,
          639.972774224287,
          649.483652013571,
          657.598239685038,
          664.439096152533,
          671.088168119413,
          675.82218155561,
          677.834492311265,
          677.290731303776,
          674.966947098853,
          671.535971461841,
          666.840298099596,
          660.406507110815,
          652.467771668873,
          643.627874301893,
          634.316353088177,
          623.933829722329,
          611.994585194131,
          604.110818755705
         ],
         "z": [
          0,
          -0.899999976158142,
          -184.119902097195,
          -224.449798435682,
          -264.788040577866,
          -305.08863363528,
          -345.409167660095,
          -385.660505929091,
          -425.750104986556,
          -465.684897949416,
          -505.504436404244,
          -545.336883233155,
          -585.173115792948,
          -624.942359105964,
          -664.515542245201,
          -704.285283993388,
          -743.919672514903,
          -783.222862104068,
          -822.22388547171,
          -860.960005002656,
          -899.668162992647,
          -938.539657479738,
          -977.634291289389,
          -1016.93239293166,
          -1056.30304976707,
          -1095.73303379718,
          -1134.84845117093,
          -1173.42374961929,
          -1211.72773272893,
          -1250.20722207803,
          -1289.03539041804,
          -1327.92172987183,
          -1366.75335263268,
          -1405.52152429112,
          -1444.08278544108,
          -1481.99087738126,
          -1519.2525130419,
          -1556.12230021821,
          -1592.58404093887,
          -1628.85668366395,
          -1665.24239386469,
          -1701.61183759274,
          -1738.05542627554,
          -1774.46292621968,
          -1810.85952439343,
          -1847.25052345875,
          -1883.66826404306,
          -1920.00342017303,
          -1956.25893393435,
          -1992.43248573115,
          -2028.51534485096,
          -2064.63439437898,
          -2100.72752873335,
          -2136.82045931061,
          -2172.9733405845,
          -2209.15238720898,
          -2245.26443527238,
          -2281.3447145479,
          -2317.42847596673,
          -2353.4523046424,
          -2389.33872725443,
          -2425.14180663137,
          -2461.05587394245,
          -2496.94905089661,
          -2532.69055181271,
          -2542.76292971314,
          -2581.61245668251,
          -2610.16932997226,
          -2632.99493607733,
          -2666.73177829292,
          -2700.32662323723,
          -2734.27897073666,
          -2766.77110320479,
          -2801.24631544128,
          -2833.9270121571,
          -2865.6509971482,
          -2896.93047162969,
          -2927.27948114331,
          -2955.89625791343,
          -2982.68446332382,
          -3008.00950048913,
          -3031.8885759961,
          -3054.82056585033,
          -3077.48960348043,
          -3100.40431921957,
          -3123.5942460909,
          -3138.06294557917
         ]
        },
        {
         "hovertemplate": "Well=F-5<br>dispns=%{x}<br>dispew=%{y}<br>neg_tvd=%{z}<extra></extra>",
         "legendgroup": "F-5",
         "line": {
          "color": "#00cc96",
          "dash": "dash"
         },
         "marker": {
          "symbol": "circle"
         },
         "mode": "lines",
         "name": "F-5",
         "scene": "scene",
         "showlegend": true,
         "type": "scatter3d",
         "x": [
          0,
          0,
          0,
          -0.00937430037960078,
          -0.0659219468531975,
          0.0830024699805438,
          -0.280829083938829,
          -1.5865457319852,
          -3.79773298580725,
          -7.90264526029032,
          -13.7734927401819,
          -20.6702580590495,
          -28.349901619647,
          -36.2523490972709,
          -44.2984736825201,
          -52.5813637408808,
          -60.792724629802,
          -68.8836226328052,
          -76.9363787182192,
          -84.8697224368899,
          -92.5379452178725,
          -99.9663147785146,
          -107.567588054714,
          -115.226156961799,
          -122.616511300573,
          -129.504329244271,
          -135.587774993058,
          -141.421623661169,
          -147.44365683764,
          -153.551921428992,
          -159.746362490858,
          -166.415426904478,
          -173.614807308693,
          -180.90444863221,
          -188.768200742858,
          -197.153413571958,
          -205.536280843081,
          -213.868837258586,
          -221.938604292067,
          -229.219609710724,
          -235.78787221693,
          -241.586996020032,
          -246.544084891687,
          -251.61716909003,
          -257.367269957248,
          -263.699604287286,
          -270.989083455174,
          -279.373483652489,
          -288.538119590875,
          -298.044032542633,
          -307.56119495685,
          -316.682961101656,
          -324.868162690837,
          -332.135992762027,
          -338.214002393799,
          -343.0564185591,
          -346.937794819257,
          -349.661970376404,
          -351.478209428275,
          -352.830499116217,
          -353.794806407749,
          -354.550435532021,
          -355.001944867441,
          -354.535195334015,
          -353.014387392838,
          -350.936042596185,
          -349.075481652378,
          -347.309963534099,
          -344.915986817939,
          -343.799712257675,
          -340.139486578146,
          -336.190094948154,
          -331.921717778447,
          -330.863151496758,
          -329.090394508462,
          -325.029894636952,
          -315.65015720847,
          -302.71471958903,
          -287.597271216882,
          -270.534014085285,
          -252.035706545065,
          -232.815253940114,
          -213.288981234497,
          -205.140741589355,
          -193.724650789764,
          -174.825472323229,
          -155.046588321387,
          -134.136999814849,
          -110.357751576322,
          -85.3938829608185,
          -57.7255417360112,
          -29.3032867703236,
          2.00890688277305,
          32.5736477227614,
          63.1791521955242,
          93.604499414182,
          122.420062709283,
          144.701000924271
         ],
         "y": [
          0,
          0,
          0,
          -0.0081575760035624,
          0.0525312114991852,
          0.305338057400394,
          0.38670311065455,
          0.335317575043737,
          0.526995767377924,
          1.07525176826545,
          1.51685562246208,
          1.5728966769556,
          1.76201123044246,
          2.7532826429332,
          4.96221235713363,
          8.58664192590011,
          13.7105613954135,
          20.2736220565668,
          28.922327321014,
          40.2181329698475,
          53.8101168721466,
          69.4226517957793,
          85.4233829129441,
          99.8841638891991,
          112.43746446,
          123.255250037477,
          132.629374247113,
          142.394134746494,
          154.629696898725,
          169.793470052295,
          187.625293825555,
          206.896464136467,
          225.64727702136,
          242.454918897687,
          259.500293404679,
          278.151968851265,
          297.527700270754,
          317.138940336851,
          337.158351398598,
          357.969262386489,
          379.561568388979,
          401.759895794093,
          424.590520981028,
          447.73045199197,
          470.673113520952,
          493.492965707567,
          516.048997549958,
          538.458140462793,
          560.657442509327,
          582.436819915062,
          603.746876416809,
          624.533796235454,
          644.816614195,
          665.239727431634,
          686.315675531927,
          707.746959949864,
          729.457212104096,
          751.327000932682,
          773.475827753299,
          795.711838619716,
          817.923695996477,
          839.896178763681,
          861.397203725646,
          882.610846009257,
          903.570486284029,
          924.373122705896,
          945.310068884927,
          966.177508645133,
          985.15039050575,
          992.166627285813,
          1012.37032951286,
          1031.10385769211,
          1049.9731730641,
          1054.50544094302,
          1061.93179948188,
          1076.0755205361,
          1097.51816982094,
          1118.39324227331,
          1137.48940886613,
          1155.15072243414,
          1170.27639110212,
          1182.24294887092,
          1191.45969870384,
          1194.46152165546,
          1198.13579761767,
          1204.86007737106,
          1214.1186001865,
          1225.85996231906,
          1240.24451262538,
          1254.51646497173,
          1268.70827738194,
          1281.73358903395,
          1294.84660085219,
          1307.33847325794,
          1319.82528228193,
          1332.20512936356,
          1343.87078070009,
          1352.89096378674
         ],
         "z": [
          0,
          -145.899993896484,
          -146,
          -154.899982329159,
          -195.299828055585,
          -235.598619795656,
          -275.994708438332,
          -316.373263396974,
          -356.610232610649,
          -396.790896906599,
          -436.757953233376,
          -476.462260778656,
          -516.124736185931,
          -555.628370774127,
          -595.155692418875,
          -634.528192725852,
          -673.646383828782,
          -712.677774336902,
          -751.302412664742,
          -789.156600650452,
          -826.415925129163,
          -862.923313831545,
          -899.118941170234,
          -936.051658927386,
          -973.729377490509,
          -1012.03615119381,
          -1050.75322374015,
          -1089.51405749682,
          -1127.53242065403,
          -1164.35586763648,
          -1200.06693353046,
          -1234.9406928032,
          -1269.98983263698,
          -1305.8785126788,
          -1341.64133835987,
          -1376.36624171803,
          -1410.81093395769,
          -1445.01709839789,
          -1479.16645864824,
          -1512.8979989401,
          -1546.40544024172,
          -1579.65635901903,
          -1612.49225970323,
          -1645.21704717808,
          -1677.84581830471,
          -1710.57617445414,
          -1743.28844350017,
          -1775.71607031035,
          -1808.20126742641,
          -1840.87303440108,
          -1873.72649330591,
          -1907.14419339083,
          -1940.99078389262,
          -1974.96231031561,
          -2008.88560496782,
          -2042.66831385393,
          -2076.51616068697,
          -2110.2538270262,
          -2143.99209936186,
          -2177.6948210556,
          -2211.4269908942,
          -2245.3204943766,
          -2279.40192663094,
          -2313.77901429914,
          -2348.28235907567,
          -2382.73523110685,
          -2417.23615990715,
          -2451.78405260208,
          -2483.80725634644,
          -2495.78929196558,
          -2530.27979253626,
          -2562.30269486186,
          -2594.46208817786,
          -2602.04823766265,
          -2614.2100918422,
          -2636.71272939606,
          -2669.93558862639,
          -2703.00679828919,
          -2735.09068011154,
          -2767.21473396531,
          -2799.69765629974,
          -2832.11738449506,
          -2865.57275424313,
          -2880.09357577753,
          -2901.5132460829,
          -2936.84851521173,
          -2970.62048449964,
          -3001.68364528821,
          -3031.92288028787,
          -3059.38448587376,
          -3086.14459411727,
          -3110.30409189147,
          -3134.65778015464,
          -3157.9716848577,
          -3181.12978405117,
          -3204.73318715138,
          -3228.0997027948,
          -3246.43130961155
         ]
        },
        {
         "hovertemplate": "Well=F-7<br>dispns=%{x}<br>dispew=%{y}<br>neg_tvd=%{z}<extra></extra>",
         "legendgroup": "F-7",
         "line": {
          "color": "#ab63fa",
          "dash": "longdash"
         },
         "marker": {
          "symbol": "circle"
         },
         "mode": "lines",
         "name": "F-7",
         "scene": "scene",
         "showlegend": true,
         "type": "scatter3d",
         "x": [
          0,
          0,
          0.00217611256679503,
          0.00481990329520846,
          0.00234019169882226,
          -0.00202048441767585,
          -0.00693590220576999,
          -0.0278218913822924,
          -0.0612319125364835,
          -0.0858402160039975,
          -0.122840748634318,
          -0.137251948754337,
          -0.111156891578474,
          -0.0895932410280106,
          -0.0610440640780426,
          -0.0184490481830084,
          -0.00316334872858417,
          0.00656498518969095,
          0.00909437599219616,
          0.00664612699439902,
          0.0317634936471379,
          0.0646904532190003,
          0.10358083162281,
          0.130725568278521,
          0.144278148170527,
          0.109296242558358,
          0.120813837967837,
          0.252535198836498,
          0.298524924281213,
          0.22208482711196,
          -0.0369299329846091,
          -0.743433530284389,
          -1.67139294194,
          -2.62741247906097,
          -3.89700859324552,
          -5.27294218291113,
          -6.55832750042922,
          -7.41816916276704,
          -8.71043836324307,
          -9.55056336090051,
          -10.2364799076423,
          -10.9059988397976
         ],
         "y": [
          0,
          0,
          -0.0282167005182392,
          -0.0708910096674693,
          -0.119487380586474,
          -0.164603957100617,
          -0.206645388198819,
          -0.249164954826443,
          -0.300452699758729,
          -0.35772477990468,
          -0.413767318408246,
          -0.461568399383896,
          -0.48475326734653,
          -0.488862827963658,
          -0.477450415184233,
          -0.453778298887797,
          -0.453509041014228,
          -0.48906187296266,
          -0.536674457248823,
          -0.722885579739357,
          -0.790403647135105,
          -0.843907847068642,
          -1.00315018732145,
          -1.178931928794,
          -1.43095894430523,
          -1.72079398329819,
          -2.30441579122027,
          -3.40840618800254,
          -4.81220881827835,
          -6.16713047871551,
          -9.3276231650989,
          -13.7677948105577,
          -19.3709807685938,
          -25.3506562475968,
          -31.5721139097062,
          -37.8081853609089,
          -44.4122915253716,
          -50.4087520710749,
          -60.8660692425072,
          -67.1021599060392,
          -72.8223623072697,
          -78.6623950557126
         ],
         "z": [
          0,
          -145.899993896484,
          -159.999962131498,
          -169.999870606391,
          -179.999751674367,
          -189.999648057494,
          -198.999547247796,
          -207.999418781121,
          -217.999228880932,
          -228.999049003598,
          -239.998835804023,
          -249.998684379979,
          -258.998615033478,
          -269.998585910954,
          -279.99852909229,
          -288.998394304764,
          -295.998355223774,
          -304.998278401713,
          -316.998177114578,
          -349.62761964327,
          -359.367340790371,
          -368.257133314902,
          -387.93641502714,
          -408.575615781474,
          -437.434487899788,
          -465.082939613532,
          -489.105026561815,
          -515.961961924092,
          -545.848712539354,
          -569.149004783711,
          -609.393080526666,
          -650.072910051674,
          -689.44396027722,
          -728.790501217932,
          -768.920533095858,
          -807.394090642695,
          -848.618597560135,
          -887.28655986494,
          -958.22809893514,
          -1000.76516169368,
          -1038.88221064769,
          -1077.47716383976
         ]
        },
        {
         "hovertemplate": "Well=F-9<br>dispns=%{x}<br>dispew=%{y}<br>neg_tvd=%{z}<extra></extra>",
         "legendgroup": "F-9",
         "line": {
          "color": "#FFA15A",
          "dash": "dashdot"
         },
         "marker": {
          "symbol": "circle"
         },
         "mode": "lines",
         "name": "F-9",
         "scene": "scene",
         "showlegend": true,
         "type": "scatter3d",
         "x": [
          0,
          0,
          -0.15734866769927,
          -0.261258411846125,
          -0.337569373530604,
          -0.270300270343405,
          0.0601244257323992,
          0.215884328488736,
          -1.01517025823536,
          -5.80309867656592,
          -13.4321107084137,
          -20.942133235072,
          -34.1232394154689,
          -68.8005751781678,
          -88.8827245312754,
          -110.435967438228,
          -133.774533336164,
          -159.033317572523,
          -186.398607720244,
          -216.235233346902,
          -247.186047851247,
          -322.094466483563,
          -390.465195484457,
          -424.423063956488,
          -445.427086751779
         ],
         "y": [
          0,
          0,
          -0.0487376649834312,
          -0.137463729492307,
          -0.307076135811547,
          -0.326044681064981,
          -0.251844687348343,
          -0.283746774498279,
          -0.724446823120318,
          -2.36819136333631,
          -4.52341371544425,
          -5.78351904863248,
          -6.88005265993663,
          -8.51772453483146,
          -9.43929288985077,
          -11.0694783329038,
          -13.734105324379,
          -17.6057796861614,
          -22.191482969295,
          -27.0189346180655,
          -32.4280731995755,
          -46.7676129067717,
          -59.9957262093326,
          -66.4029848777211,
          -70.3148137306933
         ],
         "z": [
          0,
          -145.899993896484,
          -218.499750835389,
          -258.999494367678,
          -299.499050410572,
          -339.998685228317,
          -394.297533276001,
          -420.397054207417,
          -454.861403443589,
          -497.350999073859,
          -536.441281821541,
          -563.463288887256,
          -600.406719244141,
          -673.902844790946,
          -709.335275127248,
          -743.76651262018,
          -776.341261012406,
          -807.28693149096,
          -836.120744804075,
          -862.931856941295,
          -887.217668137214,
          -937.37441126051,
          -979.19282400641,
          -1000.04314088661,
          -1012.96707443467
         ]
        },
        {
         "hovertemplate": "Well=F-11<br>dispns=%{x}<br>dispew=%{y}<br>neg_tvd=%{z}<extra></extra>",
         "legendgroup": "F-11",
         "line": {
          "color": "#19d3f3",
          "dash": "longdashdot"
         },
         "marker": {
          "symbol": "circle"
         },
         "mode": "lines",
         "name": "F-11",
         "scene": "scene",
         "showlegend": true,
         "type": "scatter3d",
         "x": [
          4.65,
          4.65,
          4.64801435560033,
          4.6059475749867,
          4.57586237318444,
          4.52416240689397,
          4.48936469288912,
          4.47036176162526,
          4.43102872907166,
          4.37131302195678,
          4.29505139901181,
          4.32213003515867,
          4.52391237891406,
          4.72810090558734,
          4.9714533067939,
          5.20647374522567,
          5.37950572842719,
          5.5984243396968,
          5.79017215993011,
          5.99354691002932,
          6.19886651237791,
          6.42345576973853,
          6.69935494859252,
          7.46520470899534,
          8.0213590480426,
          9.31673089843988,
          10.5674271430453,
          11.9762347135912,
          13.429402903594,
          14.4005845641248,
          14.4656596640035,
          14.5166728897257,
          13.518164631134,
          10.926525298947,
          7.16222079119635,
          3.61815517378133,
          1.46560075234093,
          0.191235499382737,
          -0.401409931003901,
          -0.330631417843787,
          0.243960961242945,
          1.8361502565874,
          5.51077463532131,
          10.4005820121906,
          14.2480155760806,
          19.0358208391044,
          22.9289984068498,
          26.5094670241192,
          26.996830373098,
          29.9601621180327,
          30.726732289615,
          28.5452725046093,
          26.8430825497548,
          24.761932283726,
          20.5879499059414,
          16.2618511661151,
          11.7365627529751,
          6.99521253816139,
          2.07680033802914,
          -2.4803916488177,
          -3.85334610787841,
          -6.13167146597396,
          -9.02251832927186,
          -11.5610451266002,
          -13.8016637711894,
          -15.3395952041605,
          -16.1773718324998,
          -16.3487234819066,
          -15.7266454781658,
          -15.0459096790416,
          -14.4364590271241,
          -13.571029336562,
          -12.6130658100687,
          -9.71042947976604,
          -6.13336626518498,
          -2.24734385211925,
          1.89746303750703,
          6.63288843472247,
          11.8801960553596,
          17.7741924252654,
          24.7701938633311,
          32.7007495974251,
          41.2030407650907,
          41.883876668943,
          53.6778524696781,
          62.6951252127044,
          72.0341321672441,
          81.9525238220772,
          92.7055725046368,
          103.789476144338,
          115.360457228406,
          127.062908676108,
          139.112042168859,
          151.854414881393,
          165.03777203604,
          178.169123998467,
          191.524563402049,
          205.231378373296,
          219.313395640691,
          233.588246348305,
          247.825120212818,
          262.157909248548,
          276.816816123106,
          291.423241497286,
          306.231861471084,
          320.764665310318,
          335.509783768385,
          350.135566264185,
          364.749119545468,
          379.050389116697,
          392.99440298094,
          406.635504042758,
          420.263548569326,
          434.168529950054,
          447.926228767228,
          461.264558992589,
          474.057180634734,
          486.13435932553,
          497.505783415076,
          508.347240195714,
          518.54702036725,
          528.136545188827,
          536.689213839611,
          544.2959257154,
          551.285582487304,
          557.62973791607,
          562.916083431309,
          566.816335644029,
          569.977012997278,
          573.142607082723,
          576.458826573499,
          580.083819523009,
          584.162744191457
         ],
         "y": [
          -0.93,
          -0.93,
          -0.932634082996628,
          -1.00839524261441,
          -1.04901501811827,
          -1.08185053794088,
          -1.11229302932129,
          -1.12359896438784,
          -1.12996109915564,
          -1.15184722789049,
          -1.19599723573478,
          -1.28631391461181,
          -1.50767418235518,
          -1.72048165183282,
          -1.94143966216691,
          -2.13938948917074,
          -2.26419797597889,
          -2.42110559229936,
          -2.56233738237411,
          -2.72218439998123,
          -2.89707839720728,
          -3.09142766097617,
          -3.33223963914183,
          -4.07573056476564,
          -4.63790392732101,
          -5.80897836089687,
          -6.87156788719438,
          -7.95618099355647,
          -8.98379622799573,
          -10.0586293926195,
          -10.2666650605147,
          -11.6513477862994,
          -14.1894314575248,
          -18.1213633356526,
          -23.8323507367063,
          -31.5916518760935,
          -40.1600187378649,
          -48.1091872562553,
          -54.1711234576984,
          -63.0657707756008,
          -70.5130167674423,
          -78.2635461642597,
          -88.2060688022147,
          -101.158876619371,
          -113.00108469927,
          -130.684500790533,
          -146.017733182742,
          -160.361059364655,
          -162.435376657023,
          -178.299707780938,
          -196.179369444859,
          -215.181840516037,
          -224.487973591966,
          -235.443111451406,
          -257.22323062838,
          -279.459018105487,
          -301.473239068006,
          -323.608779812169,
          -346.006930730133,
          -367.64811768175,
          -374.684861106595,
          -387.320758623366,
          -405.06094335206,
          -420.745246231383,
          -434.410494071776,
          -446.035514184375,
          -455.655637627787,
          -462.562660883737,
          -467.329060642754,
          -469.17346385212,
          -470.109193123979,
          -470.774957180024,
          -470.993141220377,
          -469.975736168053,
          -466.391251513417,
          -460.104668366491,
          -451.564908957767,
          -440.866147062079,
          -428.160542861157,
          -413.413239993445,
          -396.5732726974,
          -377.820963381663,
          -357.051849226468,
          -355.354389357504,
          -324.585457430671,
          -299.001185059339,
          -271.176702693347,
          -241.638614690897,
          -210.263322965042,
          -178.393915585483,
          -144.860028454676,
          -110.690986021393,
          -76.2609192299916,
          -41.1463942531273,
          -4.80671256954872,
          32.3180555600615,
          69.8958516428511,
          107.381889907724,
          144.727707760662,
          182.002432776629,
          219.187713820742,
          256.652891032489,
          294.524195143503,
          331.566842046612,
          368.741483812218,
          405.066886742351,
          442.090987011475,
          479.27770791671,
          516.663110426862,
          553.841405680472,
          591.255925169998,
          628.481645568824,
          665.256404508507,
          701.799616244186,
          737.59997344035,
          772.565612866727,
          806.179870653747,
          838.344084772597,
          868.876833329046,
          897.760718759136,
          924.916562468985,
          950.748903251028,
          974.712185444725,
          996.576561051942,
          1016.03155942552,
          1033.09000278624,
          1047.89380760053,
          1059.96148746944,
          1069.86330238555,
          1079.06739754949,
          1088.15166654893,
          1097.37879977053,
          1106.38147130626
         ],
         "z": [
          0,
          -145.9,
          -147.699992918164,
          -167.699802674954,
          -179.999697734842,
          -192.99955020507,
          -201.999429178839,
          -207.999385002772,
          -217.999305023606,
          -227.999095838109,
          -238.498723917445,
          -248.998126890705,
          -263.995111298727,
          -276.391598596147,
          -290.187681725535,
          -304.984478243927,
          -316.982578970269,
          -331.980156917089,
          -344.677923128238,
          -358.175440906467,
          -371.672745891047,
          -384.969418805115,
          -398.164313203121,
          -426.443942315079,
          -444.52665305092,
          -485.189164264246,
          -522.553133865904,
          -562.913960281945,
          -603.274732501417,
          -643.747764085107,
          -651.644741750649,
          -692.120451434042,
          -732.522454182859,
          -772.341202886185,
          -811.948431238415,
          -851.637091925009,
          -891.057417260474,
          -930.543218774791,
          -963.077581215716,
          -1010.34700875758,
          -1050.05048211621,
          -1088.84691981066,
          -1128.02363153114,
          -1165.9647288326,
          -1196.3090079819,
          -1239.58924848671,
          -1278.16394566976,
          -1315.87232828667,
          -1321.05102502708,
          -1358.62936385511,
          -1396.60798887074,
          -1432.0682666123,
          -1448.19656987914,
          -1466.34400787336,
          -1500.35000249195,
          -1533.92224870969,
          -1567.01132640218,
          -1600.11031867083,
          -1633.61392708954,
          -1667.77506918139,
          -1679.79968843812,
          -1702.75098370369,
          -1738.59099507403,
          -1775.51117361905,
          -1813.35269931148,
          -1851.58945185321,
          -1891.63390967902,
          -1931.33020835402,
          -1971.13694097607,
          -1993.75068088641,
          -2011.31474498476,
          -2033.18707655257,
          -2051.35553386534,
          -2091.43584984548,
          -2132.01327846609,
          -2171.62105044065,
          -2210.47465525895,
          -2249.65981542857,
          -2287.53623688173,
          -2324.35102456881,
          -2360.28090922706,
          -2395.0538212642,
          -2428.39581939892,
          -2430.89883100726,
          -2472.00523472116,
          -2500.98039374365,
          -2528.44096064121,
          -2553.82649528453,
          -2577.58043954468,
          -2598.86176083535,
          -2618.60248997692,
          -2637.14445649058,
          -2654.26693208804,
          -2669.3710512793,
          -2681.73812176216,
          -2690.71005074043,
          -2697.14789355748,
          -2702.71484109845,
          -2708.28871814337,
          -2713.84863544168,
          -2719.38085841328,
          -2724.96486741676,
          -2730.6107417026,
          -2736.13603232093,
          -2741.69577613146,
          -2747.12825296945,
          -2753.11268426343,
          -2759.70645714745,
          -2766.43440422231,
          -2773.1719051464,
          -2779.9505020763,
          -2786.59925526896,
          -2794.43241128553,
          -2804.94196972569,
          -2817.94969647794,
          -2833.65413121586,
          -2851.82986129387,
          -2872.29459060302,
          -2895.64653831874,
          -2921.71810248369,
          -2949.5408294849,
          -2979.34962672006,
          -3010.59280544436,
          -3043.44632207969,
          -3077.91358294338,
          -3113.52552603268,
          -3150.7260065981,
          -3188.97598351217,
          -3227.79660976664,
          -3267.21740486859,
          -3306.442860909,
          -3345.81362604216,
          -3384.26309864175
         ]
        },
        {
         "hovertemplate": "Well=F-12<br>dispns=%{x}<br>dispew=%{y}<br>neg_tvd=%{z}<extra></extra>",
         "legendgroup": "F-12",
         "line": {
          "color": "#FF6692",
          "dash": "solid"
         },
         "marker": {
          "symbol": "circle"
         },
         "mode": "lines",
         "name": "F-12",
         "scene": "scene",
         "showlegend": true,
         "type": "scatter3d",
         "x": [
          0,
          0,
          -0.0285780618419118,
          -0.0787429142891628,
          -0.113911536497539,
          -0.134162124497558,
          -0.12923907714649,
          -0.105665234041383,
          -0.069515643185545,
          0.0194274868517003,
          0.308330061336658,
          1.20464985799925,
          3.01863694467378,
          5.65640656763947,
          8.88523711263175,
          12.1549107853089,
          14.9471391451807,
          17.4207080300011,
          19.9691512327093,
          22.7032050657765,
          25.3910239962982,
          27.6599293122748,
          29.3343271833592,
          30.4481141018931,
          31.0073407099338,
          30.8905043277348,
          30.2593116552204,
          29.9751765757931,
          29.6570882938791,
          29.3023494569125,
          28.920306205416,
          28.5276964474459,
          28.1332058111218,
          27.7528359937474,
          27.4230058825311,
          27.1628935647626,
          26.9554421047342,
          26.7811074272097,
          26.6438411607741,
          26.5431628654689,
          26.4681026373387,
          26.4207931397533,
          26.3972970240377,
          26.3821081541358,
          26.3579213811599,
          26.2963480920563,
          26.1596888745422,
          25.9240983986129,
          25.5793627397458,
          25.1200658963792,
          24.5431387402288,
          23.8459029498047,
          23.0073195272943,
          22.0100111595279,
          20.8630869764163,
          19.6032291155952,
          18.2906903841143,
          16.9612056618818,
          15.6500821150827,
          14.4088326928937,
          13.2679597313282,
          12.2204786794792,
          11.2301262624355,
          10.2552521153787,
          9.2713151235728,
          8.27391890982851,
          7.26769753293151,
          6.26679768037229,
          5.29347416751383,
          4.36920716470368,
          3.49829384856867,
          2.65646552716114,
          1.79620291209902,
          0.879141973354624,
          -0.109510326429216,
          -1.17715495967478,
          -2.32579658019769,
          -3.55607663782964,
          -4.87579157233453,
          -6.30660021807491,
          -7.87007147387184,
          -9.56501727892518,
          -11.3874376295134,
          -13.3293610813169,
          -15.3383844522469,
          -17.3443631548102,
          -19.2858401318472,
          -21.1216342859742,
          -22.8603671529966,
          -24.5328502208523,
          -26.1472769574524,
          -27.6784604375,
          -29.1039447370158,
          -30.4315657801622,
          -31.6716718170549,
          -32.8308526945208,
          -33.9328915121304,
          -35.0125581509733,
          -36.0932996293346,
          -37.1854155954809,
          -38.2968349593217,
          -39.4305223980583,
          -40.5846930036676,
          -41.75387333359,
          -42.930179900129,
          -44.1088755309879,
          -45.291165194033,
          -46.4764414983036,
          -47.6609122718528,
          -48.8430636512749,
          -50.0222314967594,
          -51.1983180166155,
          -52.3710208929735,
          -53.5457677091069,
          -54.7203860618164,
          -55.893609165877,
          -57.0726846743058,
          -58.2543113784772,
          -59.4366352343991,
          -60.6204280705483,
          -61.8100176316048,
          -63.0047419846965,
          -64.1918868639104,
          -65.3715811336777,
          -66.5507110936752,
          -67.726375734039,
          -68.8915405640846,
          -70.0504804169624,
          -71.2094807522257,
          -72.3623216302601,
          -73.5020266766701,
          -74.6326956913793,
          -75.764260670201,
          -76.8886580847782,
          -77.9892061801373,
          -79.0660154965713,
          -80.1321102361756,
          -81.2039614485991,
          -82.2943597055634,
          -83.4116811286377,
          -84.5525676036273,
          -85.7017659027148,
          -86.8431318679788,
          -87.9559993073865,
          -89.0253171949799,
          -90.0509184355472,
          -91.0428771967721,
          -92.0128287487648,
          -92.9505453094174,
          -93.8495941343713,
          -94.7334170934762,
          -95.619187690311,
          -96.5080383331601,
          -97.4183106608349,
          -98.380154525536,
          -99.4093652794363,
          -100.512101954438,
          -101.692401317373,
          -102.950027467502,
          -104.277465807564,
          -105.66495364711,
          -107.101902499337,
          -108.584706116548,
          -110.117669668606,
          -111.70354438064,
          -113.339254794947,
          -115.022702217935,
          -116.755493933271,
          -118.521979637018,
          -120.300682704596,
          -122.095786675957,
          -123.922542924308,
          -125.778732114558,
          -127.665581967976,
          -129.59565514107,
          -131.570882519186,
          -133.593824087449,
          -135.663853605112,
          -137.77702432972,
          -139.92259963136,
          -142.081337906847,
          -144.244550648265,
          -146.40270907782,
          -148.550029036315,
          -148.882161281867,
          -155.002197573296,
          -163.631948061283,
          -172.215944902468,
          -181.823074267778,
          -192.30217120981,
          -202.863830237888,
          -212.886194168014,
          -223.38652491524,
          -234.334224511738,
          -244.649849241448,
          -253.54470955564,
          -260.794914884498,
          -268.051012749763,
          -273.333713651311,
          -281.931180443364,
          -284.430373320355,
          -289.465827266041,
          -292.962599548318,
          -298.945450692562,
          -305.93979539425,
          -314.109631317817,
          -323.237604137213,
          -331.969783604291,
          -341.478369673462,
          -350.668210616482,
          -359.412631888574,
          -364.657885905799
         ],
         "y": [
          0,
          0,
          0.00701415318296816,
          0.021737908052476,
          0.0650486548131914,
          0.166402116346646,
          0.320165783786796,
          0.50186575060202,
          0.713436073405237,
          0.988337908953033,
          1.32391706304415,
          1.85732829032359,
          2.76789598124642,
          4.11853162279143,
          5.92931256156587,
          7.90829074404324,
          9.59637976683256,
          10.7128287698577,
          11.112695525758,
          10.4561545270167,
          8.72173451562419,
          6.1755154834991,
          2.60651935419102,
          -2.3528441041505,
          -8.62775799563621,
          -15.8620661578555,
          -23.2908097196677,
          -25.8208400611331,
          -28.2692980235243,
          -30.6528511882765,
          -33.0065150177161,
          -35.3627535784565,
          -37.7341389132225,
          -40.1309254669158,
          -42.5750673676946,
          -45.0761074081536,
          -47.6228933364082,
          -50.2009395984734,
          -52.7997337270064,
          -55.4087001028344,
          -58.013480684018,
          -60.5682930659857,
          -63.0525301688934,
          -65.5038646541645,
          -67.9542643380488,
          -70.4233359224482,
          -72.9204569324121,
          -75.4346991283921,
          -77.9558248970685,
          -80.4989698306768,
          -83.0949238097299,
          -85.7733907282605,
          -88.5745554061869,
          -91.5339858889158,
          -94.6386574641733,
          -97.8499881192536,
          -101.123212477338,
          -104.420414620654,
          -107.706483417142,
          -110.932031540376,
          -114.076730717641,
          -117.167853166248,
          -120.244066118273,
          -123.341708108413,
          -126.481456042138,
          -129.651507121967,
          -132.796271713928,
          -135.813295063401,
          -138.61780709167,
          -141.196700136603,
          -143.598081783668,
          -145.906684178733,
          -148.19393263665,
          -150.506369465235,
          -152.894577199596,
          -155.404751252777,
          -158.040563315066,
          -160.775217014298,
          -163.595864425969,
          -166.510875710582,
          -169.530393361336,
          -172.648800600671,
          -175.862023129867,
          -179.156578612879,
          -182.477781667043,
          -185.764124258719,
          -188.981909301299,
          -192.127510551915,
          -195.231125131442,
          -198.338547872193,
          -201.491067775428,
          -204.712571684617,
          -208.008839708111,
          -211.381771000524,
          -214.831940777186,
          -218.352126549308,
          -221.928100539168,
          -225.546429752644,
          -229.197301035516,
          -232.875918583631,
          -236.587426570615,
          -240.337557477396,
          -244.12087282513,
          -247.927240786821,
          -251.747325307102,
          -255.57755197851,
          -259.415872193715,
          -263.25912558148,
          -267.109313658804,
          -270.962721401497,
          -274.811195643204,
          -278.655599926578,
          -282.498531488751,
          -286.334984836742,
          -290.161444795689,
          -293.977453759203,
          -297.778250625817,
          -301.567356497521,
          -305.35288797974,
          -309.139639122615,
          -312.932125904547,
          -316.730554978362,
          -320.528001099423,
          -324.320225445311,
          -328.11765581847,
          -331.926213679311,
          -335.739667423212,
          -339.554186796714,
          -343.373704976385,
          -347.201767269101,
          -351.03459320016,
          -354.870100953162,
          -358.706178090524,
          -362.511815972788,
          -366.233254184447,
          -369.842291630193,
          -373.341988464853,
          -376.733325220087,
          -380.005150431065,
          -383.15659576165,
          -386.197782347901,
          -389.13401181771,
          -391.961784342144,
          -394.670805287338,
          -397.245803988395,
          -399.673359598236,
          -401.965791017052,
          -404.150539359992,
          -406.205501282529,
          -408.110344968497,
          -409.903027907573,
          -411.612260598591,
          -413.229413085235,
          -414.740721860866,
          -416.148133145547,
          -417.458017518885,
          -418.662123844444,
          -419.751200832144,
          -420.72177062315,
          -421.565861223074,
          -422.279244548004,
          -422.862597996155,
          -423.32660876449,
          -423.668046885886,
          -423.871240062467,
          -423.927107775743,
          -423.834440496632,
          -423.613039614735,
          -423.276230096818,
          -422.820783575678,
          -422.261285916392,
          -421.602733069453,
          -420.83538380423,
          -419.959046799629,
          -418.972790981739,
          -417.872413911562,
          -416.6432774161,
          -415.280929847699,
          -413.787148143922,
          -412.162343544815,
          -410.420719185028,
          -408.575533008364,
          -406.617392769842,
          -404.531916371345,
          -404.197220099188,
          -397.402359003596,
          -386.140713302605,
          -374.214746683145,
          -360.609524569701,
          -344.48953172216,
          -325.77211249919,
          -305.727101728946,
          -282.938317371543,
          -257.231034826921,
          -229.736750878112,
          -199.857654746026,
          -169.50586619859,
          -137.532933714027,
          -115.04651539343,
          -73.4550926711707,
          -56.8990874490252,
          -12.4347329930555,
          16.3537552012268,
          51.2829313922615,
          83.2506177261159,
          114.651944662566,
          145.671923515292,
          174.575831935189,
          206.059501519849,
          236.344540783574,
          266.511066919279,
          285.310127300838
         ],
         "z": [
          0,
          -145.899993896484,
          -173.999979456602,
          -203.999933246462,
          -233.999876652791,
          -263.999693225607,
          -293.999294620988,
          -323.998734880888,
          -353.997963161228,
          -383.996552671442,
          -413.993147376207,
          -443.973702488599,
          -473.903521167552,
          -503.75575216964,
          -533.525883215159,
          -563.281208957304,
          -593.102465817316,
          -622.978832611874,
          -652.866839341857,
          -682.732208797736,
          -712.560181320532,
          -742.364278001231,
          -772.101492135723,
          -801.66390407653,
          -830.992775079098,
          -860.10531504884,
          -888.130441592727,
          -897.800885876159,
          -907.491253444609,
          -917.196535005925,
          -926.908088779848,
          -936.618597577987,
          -946.325341778817,
          -956.026401719539,
          -965.717460769747,
          -975.396123810305,
          -985.064142899212,
          -994.724534618028,
          -1004.37995921202,
          -1014.03309837908,
          -1023.68760121653,
          -1033.35558487727,
          -1043.04205738774,
          -1052.73693811306,
          -1062.43203562499,
          -1072.1222147541,
          -1081.80440934179,
          -1091.48026488346,
          -1101.15104463371,
          -1110.811285206,
          -1120.4511236116,
          -1130.06037148269,
          -1139.62310371142,
          -1149.12270917074,
          -1158.55892852518,
          -1167.94502349973,
          -1177.30253741055,
          -1186.64924302184,
          -1196.00244562903,
          -1205.38613566829,
          -1214.80992065436,
          -1224.26228050405,
          -1233.72568427682,
          -1243.18370114272,
          -1252.62688132162,
          -1262.05852675879,
          -1271.49767695782,
          -1280.97884111763,
          -1290.52777313744,
          -1300.14497606587,
          -1309.81311497593,
          -1319.50648856598,
          -1329.20330559105,
          -1338.88891562857,
          -1348.54901718104,
          -1358.16966096573,
          -1367.74731318443,
          -1377.2870600913,
          -1386.78973383034,
          -1396.24769631811,
          -1405.65169895558,
          -1415.00052054681,
          -1424.29307004792,
          -1433.53283888933,
          -1442.74876895018,
          -1451.97783035944,
          -1461.24470831262,
          -1470.55778753626,
          -1479.90357743559,
          -1489.26020250492,
          -1498.61191703827,
          -1507.95408139902,
          -1517.28688146387,
          -1526.60673061915,
          -1535.91034923235,
          -1545.1981785861,
          -1554.47166665896,
          -1563.73135793668,
          -1572.97814409947,
          -1582.21258828896,
          -1591.43155030482,
          -1600.63215236563,
          -1609.8166123236,
          -1618.98964537831,
          -1628.15606495962,
          -1637.31794399452,
          -1646.47597235997,
          -1655.63154558241,
          -1664.7843087131,
          -1673.93601705077,
          -1683.09018565396,
          -1692.24646084061,
          -1701.40378814179,
          -1710.56356871145,
          -1719.72754500323,
          -1728.89605677857,
          -1738.07013368688,
          -1747.24871923916,
          -1756.4286898516,
          -1765.60796802905,
          -1774.78412761625,
          -1783.95716241195,
          -1793.13158704064,
          -1802.30913327723,
          -1811.48459824678,
          -1820.65589525408,
          -1829.82649743181,
          -1838.99744612599,
          -1848.16630599493,
          -1857.33237830326,
          -1866.4981023406,
          -1875.66382467032,
          -1884.82919812976,
          -1894.00811331888,
          -1903.22431703445,
          -1912.4879033665,
          -1921.79459587617,
          -1931.1406523775,
          -1940.52706110579,
          -1949.95142950354,
          -1959.40915178791,
          -1968.89898435711,
          -1978.42262785032,
          -1987.98407017469,
          -1997.5873962897,
          -2007.23379095475,
          -2016.91673740207,
          -2026.62679552455,
          -2036.36821627489,
          -2046.14377650129,
          -2055.94196423228,
          -2065.75488401744,
          -2075.58309950944,
          -2085.42618081758,
          -2095.27975213103,
          -2105.13996282408,
          -2115.0056852352,
          -2124.8758023541,
          -2134.74872580751,
          -2144.62413406813,
          -2154.50159515089,
          -2164.38053076316,
          -2174.25903066647,
          -2184.13484577877,
          -2194.00610575111,
          -2203.87115658715,
          -2213.72790297075,
          -2223.57407735949,
          -2233.41099165852,
          -2243.24092578792,
          -2253.06252603937,
          -2262.87212107929,
          -2272.6682781821,
          -2282.44941743713,
          -2292.21163418057,
          -2301.9525941158,
          -2311.66830317591,
          -2321.35630857001,
          -2331.01557002978,
          -2340.64651560669,
          -2350.25409488806,
          -2359.84132332068,
          -2369.40723345019,
          -2378.9486371048,
          -2380.42522679514,
          -2408.14432092219,
          -2448.02342828274,
          -2486.21312156207,
          -2523.58869743298,
          -2559.08610167506,
          -2593.72456343433,
          -2626.5626635438,
          -2658.24186746248,
          -2687.90526608886,
          -2715.04894246299,
          -2740.77675172789,
          -2764.61248082736,
          -2788.50750871181,
          -2804.89260100757,
          -2834.92155364023,
          -2846.95425612367,
          -2879.52848758814,
          -2900.70373536382,
          -2926.57425445654,
          -2950.704409433,
          -2974.65321806023,
          -2998.62070969795,
          -3021.32839472848,
          -3046.0441869825,
          -3069.84562548707,
          -3093.58353635682,
          -3108.36027763545
         ]
        },
        {
         "hovertemplate": "Well=F-14<br>dispns=%{x}<br>dispew=%{y}<br>neg_tvd=%{z}<extra></extra>",
         "legendgroup": "F-14",
         "line": {
          "color": "#B6E880",
          "dash": "dot"
         },
         "marker": {
          "symbol": "circle"
         },
         "mode": "lines",
         "name": "F-14",
         "scene": "scene",
         "showlegend": true,
         "type": "scatter3d",
         "x": [
          0,
          0,
          0.0143710699409874,
          0.169309503629925,
          0.374321647704972,
          0.739888422741262,
          1.20541661487409,
          1.62877722055241,
          1.87948579034528,
          2.08768890936401,
          2.75213663726645,
          4.00791411471262,
          5.43861482501488,
          6.38410848609754,
          6.68107471036173,
          6.73180738617879,
          6.77567421082989,
          6.80372052971979,
          6.77453166659657,
          6.58164639817263,
          6.26610596741754,
          5.98635286438415,
          5.77775189222533,
          5.61560941357944,
          5.46124549782024,
          5.3072801921169,
          5.15463490517077,
          5.00819455360802,
          4.87274533387115,
          4.73918034047321,
          4.6060446240895,
          4.47328692261799,
          4.37040327944815,
          4.29813037634326,
          4.22613528382715,
          4.15255885450024,
          4.0771150733325,
          3.99793250967648,
          3.91726516930619,
          3.82851933405731,
          3.73176005354015,
          3.63667913214344,
          3.5424223813762,
          3.44917259681555,
          3.35832487632488,
          3.30280151406617,
          3.28277248050398,
          3.26586717116225,
          3.24491379006915,
          3.19574930251374,
          3.16575539701327,
          3.76957518918069,
          5.70684077682469,
          9.70702614707623,
          15.0336842771564,
          20.4377719341129,
          26.3751575100354,
          33.4698856520488,
          41.8758501377009,
          51.5782770905036,
          61.6684099741973,
          71.9549706808633,
          82.5835896775138,
          94.0623048403819,
          106.432945419662,
          112.616364757553,
          124.436336091797,
          139.068756070808,
          154.821358771367,
          169.751782467246,
          184.993105622227,
          201.500294460709,
          218.564956351784,
          237.020797683954,
          254.056573230842,
          267.947391055434,
          279.177230599581,
          289.728101145801,
          298.690997316708,
          305.28693698497,
          309.691652979367,
          313.00389775677,
          316.003130629621,
          318.976370597778,
          321.620345582468,
          323.063039988277,
          323.360281185364,
          322.940909448737,
          321.765987320306,
          319.865899945424,
          317.818312433409,
          315.807108992382,
          315.250305968037,
          314.240129049548
         ],
         "y": [
          0,
          0,
          0.00136352753413607,
          0.0785375175852996,
          0.332375545163661,
          0.999863431048733,
          1.98759456681054,
          3.12342054573864,
          5.03043164337241,
          7.81043231182724,
          10.6305777578051,
          12.8628025687149,
          14.1163813917985,
          14.5290452812992,
          14.6863216056839,
          14.8619740085639,
          15.0435594068983,
          15.2380126138586,
          15.4576861196083,
          15.6314891460742,
          15.7437735560969,
          15.824805229601,
          15.8762606444543,
          15.9247091376299,
          15.9600106152016,
          15.9197891554345,
          15.8185062413197,
          15.7543256847902,
          15.740256613856,
          15.7497486714726,
          15.7646469474491,
          15.782537518176,
          15.8439127778216,
          15.948229742737,
          16.0523591096737,
          16.1557764823731,
          16.2574172040903,
          16.3565897387663,
          16.4541691280195,
          16.4565038842625,
          16.3638446479968,
          16.2699674841672,
          16.1747683240899,
          16.0790614445857,
          15.9806107022974,
          15.8647245372483,
          15.7326008310546,
          15.5997142417999,
          15.4678666244209,
          15.3444158337583,
          15.2324186645998,
          15.3092011826143,
          15.8433323739443,
          17.1477095730669,
          19.0416750943801,
          21.1289280178108,
          23.6545287256478,
          27.079651288662,
          31.4891859828484,
          37.0286749116309,
          44.552605587536,
          55.2083446987141,
          69.3346504703399,
          86.1431964613441,
          103.786309102042,
          112.521875677666,
          129.441052301025,
          150.743935125802,
          173.546689800656,
          195.839675828419,
          220.470523536275,
          248.011721599192,
          276.278946083373,
          307.17444344747,
          340.040273463496,
          375.101552274624,
          410.814958071114,
          448.727788483105,
          486.64797876085,
          524.92890910543,
          564.26449720681,
          605.024722107804,
          643.813354732719,
          682.193308612838,
          719.806500866782,
          756.808127038617,
          791.068269628746,
          826.525030498725,
          859.236158404162,
          891.305938199183,
          921.744721389101,
          952.63406670219,
          961.084085760183,
          976.537743230292
         ],
         "z": [
          0,
          -145.899993896484,
          -155.089981220949,
          -195.439595077765,
          -235.798223592277,
          -276.19060818526,
          -316.575835135076,
          -356.857516485121,
          -397.20990356073,
          -437.513324909413,
          -477.708429538265,
          -518.026227381835,
          -558.279924730908,
          -598.665725241313,
          -639.064108545793,
          -679.363681537598,
          -719.763273927723,
          -760.062781846055,
          -800.462189194783,
          -840.861244188675,
          -881.259880236818,
          -921.558805365692,
          -961.958253946647,
          -1002.35786207882,
          -1042.75751468464,
          -1083.05723078496,
          -1123.45683965631,
          -1163.75644489087,
          -1204.15623825376,
          -1244.55604068829,
          -1284.95584297949,
          -1325.35564529047,
          -1365.65538326256,
          -1406.05520833819,
          -1446.35505831764,
          -1486.75476129601,
          -1527.05461130539,
          -1567.45443638376,
          -1607.75416427004,
          -1648.15405340708,
          -1688.55385568991,
          -1728.85368298669,
          -1769.25336320622,
          -1809.55319048624,
          -1849.95299278751,
          -1890.35280691562,
          -1930.65251210437,
          -1971.05231441572,
          -2011.35214196449,
          -2052.05187392877,
          -2092.05169925389,
          -2132.44541333239,
          -2172.69273978793,
          -2212.8649245948,
          -2252.76618420602,
          -2292.74877712013,
          -2332.52730655573,
          -2372.1486026978,
          -2411.31165098334,
          -2450.23678595658,
          -2488.51254516192,
          -2526.0843738624,
          -2562.39529996428,
          -2597.2835478869,
          -2629.30264378683,
          -2643.77427480357,
          -2669.61007909459,
          -2700.38836179372,
          -2733.56502540135,
          -2763.70135845333,
          -2791.14845629349,
          -2816.37968953962,
          -2837.6262683444,
          -2856.59307984919,
          -2873.41320519383,
          -2888.45717671982,
          -2901.4983385612,
          -2913.30163788611,
          -2922.85529798751,
          -2930.23371758395,
          -2936.56560153726,
          -2944.51841812104,
          -2955.36245085386,
          -2968.13820742411,
          -2982.11664819944,
          -2998.1293120168,
          -3015.16725467832,
          -3036.08094120378,
          -3059.52952350339,
          -3086.32612091838,
          -3112.68760179472,
          -3138.72625749636,
          -3145.77806203533,
          -3158.65359256608
         ]
        },
        {
         "hovertemplate": "Well=F-15<br>dispns=%{x}<br>dispew=%{y}<br>neg_tvd=%{z}<extra></extra>",
         "legendgroup": "F-15",
         "line": {
          "color": "#FF97FF",
          "dash": "dash"
         },
         "marker": {
          "symbol": "circle"
         },
         "mode": "lines",
         "name": "F-15",
         "scene": "scene",
         "showlegend": true,
         "type": "scatter3d",
         "x": [
          -3.17,
          -3.17,
          -3.17275708166112,
          -3.36617678909471,
          -3.64654363356456,
          -4.16397215233374,
          -5.15361921297353,
          -6.9133401426761,
          -9.46796005979813,
          -12.5207062278732,
          -16.3562800145766,
          -21.0999335597133,
          -26.2527738276146,
          -31.9133791389253,
          -38.0118533448808,
          -44.4008087060729,
          -51.2438299574217,
          -58.857664598876,
          -67.4175077298723,
          -76.8155973228791,
          -86.1237347060786,
          -95.2456026110816,
          -105.315771201689,
          -116.010530971491,
          -126.371822490253,
          -136.633724651254,
          -146.391000383414,
          -154.571992655953,
          -161.355287691508,
          -168.032419532882,
          -174.979218953581,
          -182.345341327305,
          -186.005951848408,
          -191.261033325195,
          -202.067729693675,
          -215.086488421151,
          -233.88294658732,
          -247.931025855731,
          -262.586429341267,
          -276.397232316614,
          -289.726106062563,
          -303.78119771452,
          -318.320496095552,
          -333.61114192696,
          -348.660166542637,
          -363.520960092549,
          -378.547492382126,
          -393.423676491142,
          -408.576824569731,
          -424.587137066603,
          -440.704392763018,
          -456.969018011996,
          -473.519886509095,
          -489.783667261791,
          -506.102063902913,
          -522.865717192169,
          -539.338620943386,
          -556.030812030111,
          -572.028717731508,
          -592.776859004576,
          -602.732901728179,
          -620.906729318773,
          -634.785048991319,
          -647.043261912128,
          -657.7580517681,
          -667.368851664271,
          -674.34278112578,
          -678.421210094003,
          -682.394939453968,
          -685.613022550277,
          -689.298912996616,
          -690.904522923606,
          -691.999504901048,
          -693.940720872264,
          -696.168734952727,
          -699.230294726366,
          -702.866856842772,
          -706.461695870375,
          -707.585751196357,
          -709.391061655067
         ],
         "y": [
          3.53,
          3.53,
          3.52057761952774,
          3.52941204318279,
          3.77488080851873,
          4.36914464926912,
          5.76505216170548,
          8.20338759589088,
          10.9193556246557,
          12.9971481024102,
          14.5508294362351,
          15.5853755083965,
          16.2204361720767,
          16.7848166724109,
          17.3110507387328,
          17.6984137746423,
          17.5001182343261,
          16.1778816796926,
          13.6340756542599,
          10.139935307674,
          6.30765201950994,
          2.57076938037603,
          -1.28342250301903,
          -5.36809836726817,
          -9.81128353084324,
          -15.4283407003433,
          -22.6642857734946,
          -30.9992819297987,
          -39.5261814294145,
          -49.0889147569495,
          -60.7446925296605,
          -74.6717570481597,
          -81.8525098725726,
          -90.569238300056,
          -102.972634538099,
          -112.841054806232,
          -120.420419402895,
          -122.112977987134,
          -121.097464720598,
          -117.507490849533,
          -111.429916711855,
          -103.128760488105,
          -93.323275731272,
          -82.1940527459568,
          -71.0441437837838,
          -59.962518518016,
          -48.768548416237,
          -37.811150567131,
          -26.9471898343286,
          -16.705144751979,
          -8.26497147942112,
          -1.95872610684978,
          1.98881109561453,
          4.1230134413575,
          4.65353303696289,
          3.06172331990575,
          -0.320051218066591,
          -5.92322744086318,
          -13.8855706315359,
          -28.2903371283772,
          -37.1139807422491,
          -56.497654858738,
          -73.2617688420294,
          -89.1379476342694,
          -103.796704325906,
          -117.108535406144,
          -128.473012595884,
          -137.564910839396,
          -147.568799248488,
          -155.386893125991,
          -165.045230477283,
          -171.678158060946,
          -178.447160003934,
          -190.491567441898,
          -203.530428596683,
          -217.451880014091,
          -232.185777111003,
          -246.789119860046,
          -251.248326344671,
          -258.259221843938
         ],
         "z": [
          0,
          -145.899993896484,
          -153.399985329122,
          -234.199626766874,
          -274.597785842106,
          -314.989846534385,
          -355.251530360782,
          -395.537947928627,
          -435.764788997019,
          -473.885528872798,
          -514.072222717289,
          -556.091726334666,
          -596.156455639109,
          -636.052629031064,
          -675.986127053258,
          -715.774441222718,
          -755.58883869207,
          -795.240118326849,
          -834.638410673829,
          -873.669849850426,
          -912.794556416634,
          -951.972960279996,
          -990.801595401751,
          -1029.64982710593,
          -1068.34015572451,
          -1107.00635003635,
          -1145.42760389981,
          -1184.09759810452,
          -1222.89621632029,
          -1261.67535962245,
          -1299.61625666363,
          -1336.81044672788,
          -1353.46106589011,
          -1374.08150922387,
          -1409.42758722557,
          -1448.10259250163,
          -1501.3450045614,
          -1538.74925677114,
          -1577.01965042036,
          -1614.37912124911,
          -1651.59401232128,
          -1689.19932673994,
          -1725.14560835218,
          -1761.52305491262,
          -1796.86705757554,
          -1832.31148686347,
          -1868.77920485493,
          -1904.25634915138,
          -1939.64478069465,
          -1975.97037646512,
          -2011.58998555711,
          -2047.57742782649,
          -2084.87381966907,
          -2121.35410687021,
          -2157.86531652162,
          -2195.24231873981,
          -2231.53289647749,
          -2268.55128229675,
          -2304.3308755445,
          -2352.04287037068,
          -2375.53514444483,
          -2418.4420112151,
          -2452.38297016637,
          -2487.38114116397,
          -2523.35759385403,
          -2560.1747237229,
          -2598.20567582666,
          -2634.8915051072,
          -2682.57897722011,
          -2722.08400263227,
          -2768.28110179221,
          -2797.51257728141,
          -2824.0187649204,
          -2863.46866835701,
          -2901.03742351499,
          -2938.41904008205,
          -2975.70910663215,
          -3013.2910144302,
          -3025.19350568949,
          -3044.07300286715
         ]
        }
       ],
       "layout": {
        "legend": {
         "title": {
          "text": "Well"
         },
         "tracegroupgap": 0
        },
        "margin": {
         "t": 60
        },
        "scene": {
         "domain": {
          "x": [
           0,
           1
          ],
          "y": [
           0,
           1
          ]
         },
         "xaxis": {
          "title": {
           "text": "dispns"
          }
         },
         "yaxis": {
          "title": {
           "text": "dispew"
          }
         },
         "zaxis": {
          "title": {
           "text": "neg_tvd"
          }
         }
        },
        "template": {
         "data": {
          "bar": [
           {
            "error_x": {
             "color": "#2a3f5f"
            },
            "error_y": {
             "color": "#2a3f5f"
            },
            "marker": {
             "line": {
              "color": "#E5ECF6",
              "width": 0.5
             },
             "pattern": {
              "fillmode": "overlay",
              "size": 10,
              "solidity": 0.2
             }
            },
            "type": "bar"
           }
          ],
          "barpolar": [
           {
            "marker": {
             "line": {
              "color": "#E5ECF6",
              "width": 0.5
             },
             "pattern": {
              "fillmode": "overlay",
              "size": 10,
              "solidity": 0.2
             }
            },
            "type": "barpolar"
           }
          ],
          "carpet": [
           {
            "aaxis": {
             "endlinecolor": "#2a3f5f",
             "gridcolor": "white",
             "linecolor": "white",
             "minorgridcolor": "white",
             "startlinecolor": "#2a3f5f"
            },
            "baxis": {
             "endlinecolor": "#2a3f5f",
             "gridcolor": "white",
             "linecolor": "white",
             "minorgridcolor": "white",
             "startlinecolor": "#2a3f5f"
            },
            "type": "carpet"
           }
          ],
          "choropleth": [
           {
            "colorbar": {
             "outlinewidth": 0,
             "ticks": ""
            },
            "type": "choropleth"
           }
          ],
          "contour": [
           {
            "colorbar": {
             "outlinewidth": 0,
             "ticks": ""
            },
            "colorscale": [
             [
              0,
              "#0d0887"
             ],
             [
              0.1111111111111111,
              "#46039f"
             ],
             [
              0.2222222222222222,
              "#7201a8"
             ],
             [
              0.3333333333333333,
              "#9c179e"
             ],
             [
              0.4444444444444444,
              "#bd3786"
             ],
             [
              0.5555555555555556,
              "#d8576b"
             ],
             [
              0.6666666666666666,
              "#ed7953"
             ],
             [
              0.7777777777777778,
              "#fb9f3a"
             ],
             [
              0.8888888888888888,
              "#fdca26"
             ],
             [
              1,
              "#f0f921"
             ]
            ],
            "type": "contour"
           }
          ],
          "contourcarpet": [
           {
            "colorbar": {
             "outlinewidth": 0,
             "ticks": ""
            },
            "type": "contourcarpet"
           }
          ],
          "heatmap": [
           {
            "colorbar": {
             "outlinewidth": 0,
             "ticks": ""
            },
            "colorscale": [
             [
              0,
              "#0d0887"
             ],
             [
              0.1111111111111111,
              "#46039f"
             ],
             [
              0.2222222222222222,
              "#7201a8"
             ],
             [
              0.3333333333333333,
              "#9c179e"
             ],
             [
              0.4444444444444444,
              "#bd3786"
             ],
             [
              0.5555555555555556,
              "#d8576b"
             ],
             [
              0.6666666666666666,
              "#ed7953"
             ],
             [
              0.7777777777777778,
              "#fb9f3a"
             ],
             [
              0.8888888888888888,
              "#fdca26"
             ],
             [
              1,
              "#f0f921"
             ]
            ],
            "type": "heatmap"
           }
          ],
          "heatmapgl": [
           {
            "colorbar": {
             "outlinewidth": 0,
             "ticks": ""
            },
            "colorscale": [
             [
              0,
              "#0d0887"
             ],
             [
              0.1111111111111111,
              "#46039f"
             ],
             [
              0.2222222222222222,
              "#7201a8"
             ],
             [
              0.3333333333333333,
              "#9c179e"
             ],
             [
              0.4444444444444444,
              "#bd3786"
             ],
             [
              0.5555555555555556,
              "#d8576b"
             ],
             [
              0.6666666666666666,
              "#ed7953"
             ],
             [
              0.7777777777777778,
              "#fb9f3a"
             ],
             [
              0.8888888888888888,
              "#fdca26"
             ],
             [
              1,
              "#f0f921"
             ]
            ],
            "type": "heatmapgl"
           }
          ],
          "histogram": [
           {
            "marker": {
             "pattern": {
              "fillmode": "overlay",
              "size": 10,
              "solidity": 0.2
             }
            },
            "type": "histogram"
           }
          ],
          "histogram2d": [
           {
            "colorbar": {
             "outlinewidth": 0,
             "ticks": ""
            },
            "colorscale": [
             [
              0,
              "#0d0887"
             ],
             [
              0.1111111111111111,
              "#46039f"
             ],
             [
              0.2222222222222222,
              "#7201a8"
             ],
             [
              0.3333333333333333,
              "#9c179e"
             ],
             [
              0.4444444444444444,
              "#bd3786"
             ],
             [
              0.5555555555555556,
              "#d8576b"
             ],
             [
              0.6666666666666666,
              "#ed7953"
             ],
             [
              0.7777777777777778,
              "#fb9f3a"
             ],
             [
              0.8888888888888888,
              "#fdca26"
             ],
             [
              1,
              "#f0f921"
             ]
            ],
            "type": "histogram2d"
           }
          ],
          "histogram2dcontour": [
           {
            "colorbar": {
             "outlinewidth": 0,
             "ticks": ""
            },
            "colorscale": [
             [
              0,
              "#0d0887"
             ],
             [
              0.1111111111111111,
              "#46039f"
             ],
             [
              0.2222222222222222,
              "#7201a8"
             ],
             [
              0.3333333333333333,
              "#9c179e"
             ],
             [
              0.4444444444444444,
              "#bd3786"
             ],
             [
              0.5555555555555556,
              "#d8576b"
             ],
             [
              0.6666666666666666,
              "#ed7953"
             ],
             [
              0.7777777777777778,
              "#fb9f3a"
             ],
             [
              0.8888888888888888,
              "#fdca26"
             ],
             [
              1,
              "#f0f921"
             ]
            ],
            "type": "histogram2dcontour"
           }
          ],
          "mesh3d": [
           {
            "colorbar": {
             "outlinewidth": 0,
             "ticks": ""
            },
            "type": "mesh3d"
           }
          ],
          "parcoords": [
           {
            "line": {
             "colorbar": {
              "outlinewidth": 0,
              "ticks": ""
             }
            },
            "type": "parcoords"
           }
          ],
          "pie": [
           {
            "automargin": true,
            "type": "pie"
           }
          ],
          "scatter": [
           {
            "fillpattern": {
             "fillmode": "overlay",
             "size": 10,
             "solidity": 0.2
            },
            "type": "scatter"
           }
          ],
          "scatter3d": [
           {
            "line": {
             "colorbar": {
              "outlinewidth": 0,
              "ticks": ""
             }
            },
            "marker": {
             "colorbar": {
              "outlinewidth": 0,
              "ticks": ""
             }
            },
            "type": "scatter3d"
           }
          ],
          "scattercarpet": [
           {
            "marker": {
             "colorbar": {
              "outlinewidth": 0,
              "ticks": ""
             }
            },
            "type": "scattercarpet"
           }
          ],
          "scattergeo": [
           {
            "marker": {
             "colorbar": {
              "outlinewidth": 0,
              "ticks": ""
             }
            },
            "type": "scattergeo"
           }
          ],
          "scattergl": [
           {
            "marker": {
             "colorbar": {
              "outlinewidth": 0,
              "ticks": ""
             }
            },
            "type": "scattergl"
           }
          ],
          "scattermapbox": [
           {
            "marker": {
             "colorbar": {
              "outlinewidth": 0,
              "ticks": ""
             }
            },
            "type": "scattermapbox"
           }
          ],
          "scatterpolar": [
           {
            "marker": {
             "colorbar": {
              "outlinewidth": 0,
              "ticks": ""
             }
            },
            "type": "scatterpolar"
           }
          ],
          "scatterpolargl": [
           {
            "marker": {
             "colorbar": {
              "outlinewidth": 0,
              "ticks": ""
             }
            },
            "type": "scatterpolargl"
           }
          ],
          "scatterternary": [
           {
            "marker": {
             "colorbar": {
              "outlinewidth": 0,
              "ticks": ""
             }
            },
            "type": "scatterternary"
           }
          ],
          "surface": [
           {
            "colorbar": {
             "outlinewidth": 0,
             "ticks": ""
            },
            "colorscale": [
             [
              0,
              "#0d0887"
             ],
             [
              0.1111111111111111,
              "#46039f"
             ],
             [
              0.2222222222222222,
              "#7201a8"
             ],
             [
              0.3333333333333333,
              "#9c179e"
             ],
             [
              0.4444444444444444,
              "#bd3786"
             ],
             [
              0.5555555555555556,
              "#d8576b"
             ],
             [
              0.6666666666666666,
              "#ed7953"
             ],
             [
              0.7777777777777778,
              "#fb9f3a"
             ],
             [
              0.8888888888888888,
              "#fdca26"
             ],
             [
              1,
              "#f0f921"
             ]
            ],
            "type": "surface"
           }
          ],
          "table": [
           {
            "cells": {
             "fill": {
              "color": "#EBF0F8"
             },
             "line": {
              "color": "white"
             }
            },
            "header": {
             "fill": {
              "color": "#C8D4E3"
             },
             "line": {
              "color": "white"
             }
            },
            "type": "table"
           }
          ]
         },
         "layout": {
          "annotationdefaults": {
           "arrowcolor": "#2a3f5f",
           "arrowhead": 0,
           "arrowwidth": 1
          },
          "autotypenumbers": "strict",
          "coloraxis": {
           "colorbar": {
            "outlinewidth": 0,
            "ticks": ""
           }
          },
          "colorscale": {
           "diverging": [
            [
             0,
             "#8e0152"
            ],
            [
             0.1,
             "#c51b7d"
            ],
            [
             0.2,
             "#de77ae"
            ],
            [
             0.3,
             "#f1b6da"
            ],
            [
             0.4,
             "#fde0ef"
            ],
            [
             0.5,
             "#f7f7f7"
            ],
            [
             0.6,
             "#e6f5d0"
            ],
            [
             0.7,
             "#b8e186"
            ],
            [
             0.8,
             "#7fbc41"
            ],
            [
             0.9,
             "#4d9221"
            ],
            [
             1,
             "#276419"
            ]
           ],
           "sequential": [
            [
             0,
             "#0d0887"
            ],
            [
             0.1111111111111111,
             "#46039f"
            ],
            [
             0.2222222222222222,
             "#7201a8"
            ],
            [
             0.3333333333333333,
             "#9c179e"
            ],
            [
             0.4444444444444444,
             "#bd3786"
            ],
            [
             0.5555555555555556,
             "#d8576b"
            ],
            [
             0.6666666666666666,
             "#ed7953"
            ],
            [
             0.7777777777777778,
             "#fb9f3a"
            ],
            [
             0.8888888888888888,
             "#fdca26"
            ],
            [
             1,
             "#f0f921"
            ]
           ],
           "sequentialminus": [
            [
             0,
             "#0d0887"
            ],
            [
             0.1111111111111111,
             "#46039f"
            ],
            [
             0.2222222222222222,
             "#7201a8"
            ],
            [
             0.3333333333333333,
             "#9c179e"
            ],
            [
             0.4444444444444444,
             "#bd3786"
            ],
            [
             0.5555555555555556,
             "#d8576b"
            ],
            [
             0.6666666666666666,
             "#ed7953"
            ],
            [
             0.7777777777777778,
             "#fb9f3a"
            ],
            [
             0.8888888888888888,
             "#fdca26"
            ],
            [
             1,
             "#f0f921"
            ]
           ]
          },
          "colorway": [
           "#636efa",
           "#EF553B",
           "#00cc96",
           "#ab63fa",
           "#FFA15A",
           "#19d3f3",
           "#FF6692",
           "#B6E880",
           "#FF97FF",
           "#FECB52"
          ],
          "font": {
           "color": "#2a3f5f"
          },
          "geo": {
           "bgcolor": "white",
           "lakecolor": "white",
           "landcolor": "#E5ECF6",
           "showlakes": true,
           "showland": true,
           "subunitcolor": "white"
          },
          "hoverlabel": {
           "align": "left"
          },
          "hovermode": "closest",
          "mapbox": {
           "style": "light"
          },
          "paper_bgcolor": "white",
          "plot_bgcolor": "#E5ECF6",
          "polar": {
           "angularaxis": {
            "gridcolor": "white",
            "linecolor": "white",
            "ticks": ""
           },
           "bgcolor": "#E5ECF6",
           "radialaxis": {
            "gridcolor": "white",
            "linecolor": "white",
            "ticks": ""
           }
          },
          "scene": {
           "xaxis": {
            "backgroundcolor": "#E5ECF6",
            "gridcolor": "white",
            "gridwidth": 2,
            "linecolor": "white",
            "showbackground": true,
            "ticks": "",
            "zerolinecolor": "white"
           },
           "yaxis": {
            "backgroundcolor": "#E5ECF6",
            "gridcolor": "white",
            "gridwidth": 2,
            "linecolor": "white",
            "showbackground": true,
            "ticks": "",
            "zerolinecolor": "white"
           },
           "zaxis": {
            "backgroundcolor": "#E5ECF6",
            "gridcolor": "white",
            "gridwidth": 2,
            "linecolor": "white",
            "showbackground": true,
            "ticks": "",
            "zerolinecolor": "white"
           }
          },
          "shapedefaults": {
           "line": {
            "color": "#2a3f5f"
           }
          },
          "ternary": {
           "aaxis": {
            "gridcolor": "white",
            "linecolor": "white",
            "ticks": ""
           },
           "baxis": {
            "gridcolor": "white",
            "linecolor": "white",
            "ticks": ""
           },
           "bgcolor": "#E5ECF6",
           "caxis": {
            "gridcolor": "white",
            "linecolor": "white",
            "ticks": ""
           }
          },
          "title": {
           "x": 0.05
          },
          "xaxis": {
           "automargin": true,
           "gridcolor": "white",
           "linecolor": "white",
           "ticks": "",
           "title": {
            "standoff": 15
           },
           "zerolinecolor": "white",
           "zerolinewidth": 2
          },
          "yaxis": {
           "automargin": true,
           "gridcolor": "white",
           "linecolor": "white",
           "ticks": "",
           "title": {
            "standoff": 15
           },
           "zerolinecolor": "white",
           "zerolinewidth": 2
          }
         }
        }
       }
      },
      "image/png": "[encoded data removed]",
      "text/html": [
       "<div>                            <div id=\"4da522bd-56ca-46bb-afa2-78a6b3881339\" class=\"plotly-graph-div\" style=\"height:525px; width:100%;\"></div>            <script type=\"text/javascript\">                require([\"plotly\"], function(Plotly) {                    window.PLOTLYENV=window.PLOTLYENV || {};                                    if (document.getElementById(\"4da522bd-56ca-46bb-afa2-78a6b3881339\")) {                    Plotly.newPlot(                        \"4da522bd-56ca-46bb-afa2-78a6b3881339\",                        [{\"hovertemplate\":\"Well=F-1 C\\u003cbr\\u003edispns=%{x}\\u003cbr\\u003edispew=%{y}\\u003cbr\\u003eneg_tvd=%{z}\\u003cextra\\u003e\\u003c\\u002fextra\\u003e\",\"legendgroup\":\"F-1 C\",\"line\":{\"color\":\"#636efa\",\"dash\":\"solid\"},\"marker\":{\"symbol\":\"circle\"},\"mode\":\"lines\",\"name\":\"F-1 C\",\"scene\":\"scene\",\"showlegend\":true,\"x\":[3.17,3.17,3.40040275458976,3.6440961243433,3.94879519172635,4.28211680928004,4.54535184649994,4.72092400509067,4.9695975775312,5.39670403033298,5.66820442100012,6.05692211168271,6.52708174843613,7.4235203987449,8.31199910213936,9.07127330647252,9.79921392067948,10.4942764626205,11.6354199898195,14.0444239268841,17.9961513568665,20.8433358413907,23.2420274436914,25.9827885260719,31.6856356342291,36.7528110686621,40.4436310284229,41.7212442518626,46.8917760335652,57.060636716499,66.7324927975115,71.8855546058579,77.0945641070537,82.108371686604,87.3732476264821,92.8242909170203,97.9981870030386,99.5396727913455,105.394685964779,111.357484680338,119.135339301822,127.767068375383,137.331139031132,146.574248342661,157.592816855314,168.085622088882,184.627502313464,199.940814992928,215.902819500539,232.254237798615,248.313642601972,264.651020275759,281.168745305317,297.716858349289,311.774692607889,327.709031064328,346.979924723039,363.632056914352,379.596333799813,395.504872066679,411.414453434743,423.789244181222,460.689053763515,477.12060215377,490.96110385028,509.690566306662,526.334618060295,538.481725294016,552.156116810332,561.129892015651,574.960149852757,586.876341521075,597.466728615053,608.277985296805,618.859915563114,628.793184471665,637.981467869639,647.568851360531,658.028649132791,668.782308293796,675.480199793788,689.001125731999,697.983024244119,706.906801448751,714.395635338452,719.307957733571,721.903240023792,723.69313467749,725.45952489419,727.076926598607],\"y\":[-3.53,-3.53,-3.89530766629776,-4.26358654061696,-4.69396441520297,-5.14878668101245,-5.51788014457111,-5.69809692576711,-5.82984291449972,-6.17327750708852,-6.53088736711559,-7.30061031334763,-8.27532001498148,-10.110810947843,-12.1841268004001,-14.1008651013533,-15.9279248185743,-17.8474879005984,-20.0473843566642,-22.6428414535428,-25.7569810279303,-27.8673794273549,-29.7722013169434,-32.0315330288969,-36.760075989628,-41.308031560033,-45.3262077820944,-46.8449386368244,-52.386699833099,-61.6622899710021,-69.7456566133985,-74.7581754668769,-81.0016589390679,-87.4947324121478,-94.0958828881862,-100.711348535024,-106.895182244749,-108.744703844824,-113.983028716184,-116.265035084717,-116.69699395444,-114.399831812695,-109.637273409926,-104.005056004456,-96.800733269893,-89.8025319839802,-78.7510664755453,-67.9627033243882,-56.1533794528342,-44.0185820515969,-32.0526457542041,-20.1471823968215,-8.53817851558742,3.05989667406234,12.9711068466389,24.1139198200381,37.735343703591,49.5037546209496,61.0535249564063,73.3155931132412,85.6623262866976,94.8143984320277,121.115156568888,132.822791213744,142.958176967344,156.926288641989,168.864614057268,177.02251618329,186.29418106685,192.991922993997,205.080979807346,218.231039574893,232.157986875074,246.393116430444,260.271758827175,274.921666806688,289.700387561376,304.357027680895,318.471081785313,331.962116544473,340.531701084609,358.283398525659,368.898956592664,377.555312194386,384.454074232962,389.952176314284,393.617445215026,396.171430314228,398.651791926873,401.24186639454],\"z\":[-0.0,-210.699996948242,-237.595382621425,-251.088155931079,-264.878009905107,-279.166873841177,-292.659247507222,-302.755975497072,-315.452856275105,-332.143587087627,-342.133440302316,-358.410509331331,-377.880421524402,-414.623612024496,-455.160880554587,-495.107681344878,-535.2595130239,-575.407562198807,-616.030945597051,-656.172149712215,-696.154162758392,-718.777725548778,-735.905720643116,-754.977719033822,-796.420687734993,-835.227504415765,-864.421128019646,-874.426193027047,-913.49713128589,-993.315205935039,-1073.12595357101,-1113.08053279855,-1152.6532859814,-1192.00727676023,-1231.5147420712,-1270.99483332173,-1310.78537368716,-1323.76380330805,-1374.65034204887,-1415.04166099099,-1454.57174247424,-1493.96393802092,-1535.19859666988,-1571.4127176671,-1609.60432907471,-1641.06600895577,-1683.64136237149,-1718.86576958285,-1753.70464884038,-1788.94473297843,-1823.57003570188,-1858.6638966027,-1893.88817882085,-1929.10195168698,-1959.00839063923,-1992.81569010403,-2033.92320380446,-2069.492881305,-2103.84204607465,-2138.89479285565,-2173.91770972207,-2200.59567102275,-2279.04977392536,-2313.82002405741,-2343.29067774538,-2383.37869483976,-2418.54828616671,-2443.70176115528,-2472.84310242065,-2493.6162442158,-2529.81741927887,-2566.10546949109,-2601.85277233874,-2638.52786526456,-2674.63009177364,-2711.38909418175,-2747.51626380436,-2783.92155475817,-2820.52277222241,-2856.83231830545,-2880.11707877215,-2933.09778319581,-2970.7068055322,-3009.03237358504,-3048.32848337802,-3087.73311744052,-3127.57307283752,-3167.95273617121,-3208.23777350905,-3248.72274852108],\"type\":\"scatter3d\"},{\"hovertemplate\":\"Well=F-4\\u003cbr\\u003edispns=%{x}\\u003cbr\\u003edispew=%{y}\\u003cbr\\u003eneg_tvd=%{z}\\u003cextra\\u003e\\u003c\\u002fextra\\u003e\",\"legendgroup\":\"F-4\",\"line\":{\"color\":\"#EF553B\",\"dash\":\"dot\"},\"marker\":{\"symbol\":\"circle\"},\"mode\":\"lines\",\"name\":\"F-4\",\"scene\":\"scene\",\"showlegend\":true,\"x\":[0.0,0.0,-0.0956658632801162,-0.154708942398546,-0.423542432270751,-1.13965568077797,-2.27667832660518,-3.7739052931315,-5.83984266432239,-9.08294669662406,-13.8921859181592,-19.7407823320751,-25.9201986071358,-32.185397569277,-38.5829516802753,-45.185637948699,-52.350766298523,-60.7053446724808,-70.1560243548402,-80.2467034004203,-90.4090772820271,-100.134764416032,-109.19527757166,-117.50251123672,-125.217176730942,-132.686005947506,-140.856987510731,-150.747034271432,-161.409387114543,-171.199347001951,-180.200402938082,-189.099756274722,-197.411784915117,-204.401935383258,-209.741703154688,-214.500748013761,-220.05006602123,-226.380632488479,-233.627952999686,-240.669974197365,-246.209346813836,-251.0158064148,-256.081373278622,-261.207226545777,-266.192874572858,-271.445419650566,-276.883692415134,-282.277444471003,-287.635592790107,-293.260528306328,-299.228005817175,-305.288179598425,-311.442890714205,-317.50363187128,-323.038961094772,-328.173870844148,-333.281706007559,-338.327848812427,-343.247794255186,-348.234706990003,-353.404132497481,-358.471093698511,-363.613971356563,-370.055775157633,-378.849434416168,-381.802039907545,-395.351576639618,-407.584469708215,-418.726641927185,-436.403695428559,-454.974612795312,-474.94192754325,-495.413556898882,-518.495628409839,-541.687552237491,-565.669377856181,-591.312447322949,-618.861786874306,-647.619143284505,-677.684986478453,-708.843958035416,-740.367928115308,-771.95193331929,-803.197216308251,-834.240580285019,-864.826572688869,-883.654858304044],\"y\":[0.0,0.0,-0.128112127864178,-0.197881974514614,-0.424266903996858,-0.893629625780904,-1.89968718278803,-4.23031676830105,-7.9870496069409,-12.1036243641151,-15.4225467397729,-17.3879331337846,-18.0960663772317,-18.2242609680955,-17.8183669988018,-16.6946805645471,-14.8742860586928,-11.9677417494499,-7.87497491015121,-2.88024652495772,2.26779299926803,6.9237456686947,11.1157196626807,15.2566262527264,19.3697593670973,23.7486129307432,29.3787366994694,35.7900201753367,42.6562395732124,49.5953024547605,55.8761735201642,61.9411396958301,68.8367664235397,77.4082280924085,88.022396742278,100.949081657654,115.398144114335,130.516998219452,146.201544362366,162.357350543315,178.913899270102,195.642893053703,212.326686114603,228.925922375119,245.591541509414,262.210849385433,278.736587466351,295.457129319039,312.337495222405,329.305422127997,346.327106053903,363.238888389238,380.19507616503,397.209804486243,414.321238836246,431.551473500612,448.81237130968,466.181520627396,483.55573627526,501.035081330936,518.788408604797,536.670352176065,554.328986552071,571.587920522126,588.126853656934,592.600130223207,609.150011591271,620.585495503152,628.997886482128,639.972774224287,649.483652013571,657.598239685038,664.439096152533,671.088168119413,675.82218155561,677.834492311265,677.290731303776,674.966947098853,671.535971461841,666.840298099596,660.406507110815,652.467771668873,643.627874301893,634.316353088177,623.933829722329,611.994585194131,604.110818755705],\"z\":[-0.0,-0.899999976158142,-184.119902097195,-224.449798435682,-264.788040577866,-305.08863363528,-345.409167660095,-385.660505929091,-425.750104986556,-465.684897949416,-505.504436404244,-545.336883233155,-585.173115792948,-624.942359105964,-664.515542245201,-704.285283993388,-743.919672514903,-783.222862104068,-822.22388547171,-860.960005002656,-899.668162992647,-938.539657479738,-977.634291289389,-1016.93239293166,-1056.30304976707,-1095.73303379718,-1134.84845117093,-1173.42374961929,-1211.72773272893,-1250.20722207803,-1289.03539041804,-1327.92172987183,-1366.75335263268,-1405.52152429112,-1444.08278544108,-1481.99087738126,-1519.2525130419,-1556.12230021821,-1592.58404093887,-1628.85668366395,-1665.24239386469,-1701.61183759274,-1738.05542627554,-1774.46292621968,-1810.85952439343,-1847.25052345875,-1883.66826404306,-1920.00342017303,-1956.25893393435,-1992.43248573115,-2028.51534485096,-2064.63439437898,-2100.72752873335,-2136.82045931061,-2172.9733405845,-2209.15238720898,-2245.26443527238,-2281.3447145479,-2317.42847596673,-2353.4523046424,-2389.33872725443,-2425.14180663137,-2461.05587394245,-2496.94905089661,-2532.69055181271,-2542.76292971314,-2581.61245668251,-2610.16932997226,-2632.99493607733,-2666.73177829292,-2700.32662323723,-2734.27897073666,-2766.77110320479,-2801.24631544128,-2833.9270121571,-2865.6509971482,-2896.93047162969,-2927.27948114331,-2955.89625791343,-2982.68446332382,-3008.00950048913,-3031.8885759961,-3054.82056585033,-3077.48960348043,-3100.40431921957,-3123.5942460909,-3138.06294557917],\"type\":\"scatter3d\"},{\"hovertemplate\":\"Well=F-5\\u003cbr\\u003edispns=%{x}\\u003cbr\\u003edispew=%{y}\\u003cbr\\u003eneg_tvd=%{z}\\u003cextra\\u003e\\u003c\\u002fextra\\u003e\",\"legendgroup\":\"F-5\",\"line\":{\"color\":\"#00cc96\",\"dash\":\"dash\"},\"marker\":{\"symbol\":\"circle\"},\"mode\":\"lines\",\"name\":\"F-5\",\"scene\":\"scene\",\"showlegend\":true,\"x\":[0.0,0.0,0.0,-0.00937430037960078,-0.0659219468531975,0.0830024699805438,-0.280829083938829,-1.5865457319852,-3.79773298580725,-7.90264526029032,-13.7734927401819,-20.6702580590495,-28.349901619647,-36.2523490972709,-44.2984736825201,-52.5813637408808,-60.792724629802,-68.8836226328052,-76.9363787182192,-84.8697224368899,-92.5379452178725,-99.9663147785146,-107.567588054714,-115.226156961799,-122.616511300573,-129.504329244271,-135.587774993058,-141.421623661169,-147.44365683764,-153.551921428992,-159.746362490858,-166.415426904478,-173.614807308693,-180.90444863221,-188.768200742858,-197.153413571958,-205.536280843081,-213.868837258586,-221.938604292067,-229.219609710724,-235.78787221693,-241.586996020032,-246.544084891687,-251.61716909003,-257.367269957248,-263.699604287286,-270.989083455174,-279.373483652489,-288.538119590875,-298.044032542633,-307.56119495685,-316.682961101656,-324.868162690837,-332.135992762027,-338.214002393799,-343.0564185591,-346.937794819257,-349.661970376404,-351.478209428275,-352.830499116217,-353.794806407749,-354.550435532021,-355.001944867441,-354.535195334015,-353.014387392838,-350.936042596185,-349.075481652378,-347.309963534099,-344.915986817939,-343.799712257675,-340.139486578146,-336.190094948154,-331.921717778447,-330.863151496758,-329.090394508462,-325.029894636952,-315.65015720847,-302.71471958903,-287.597271216882,-270.534014085285,-252.035706545065,-232.815253940114,-213.288981234497,-205.140741589355,-193.724650789764,-174.825472323229,-155.046588321387,-134.136999814849,-110.357751576322,-85.3938829608185,-57.7255417360112,-29.3032867703236,2.00890688277305,32.5736477227614,63.1791521955242,93.604499414182,122.420062709283,144.701000924271],\"y\":[0.0,0.0,0.0,-0.0081575760035624,0.0525312114991852,0.305338057400394,0.38670311065455,0.335317575043737,0.526995767377924,1.07525176826545,1.51685562246208,1.5728966769556,1.76201123044246,2.7532826429332,4.96221235713363,8.58664192590011,13.7105613954135,20.2736220565668,28.922327321014,40.2181329698475,53.8101168721466,69.4226517957793,85.4233829129441,99.8841638891991,112.43746446,123.255250037477,132.629374247113,142.394134746494,154.629696898725,169.793470052295,187.625293825555,206.896464136467,225.64727702136,242.454918897687,259.500293404679,278.151968851265,297.527700270754,317.138940336851,337.158351398598,357.969262386489,379.561568388979,401.759895794093,424.590520981028,447.73045199197,470.673113520952,493.492965707567,516.048997549958,538.458140462793,560.657442509327,582.436819915062,603.746876416809,624.533796235454,644.816614195,665.239727431634,686.315675531927,707.746959949864,729.457212104096,751.327000932682,773.475827753299,795.711838619716,817.923695996477,839.896178763681,861.397203725646,882.610846009257,903.570486284029,924.373122705896,945.310068884927,966.177508645133,985.15039050575,992.166627285813,1012.37032951286,1031.10385769211,1049.9731730641,1054.50544094302,1061.93179948188,1076.0755205361,1097.51816982094,1118.39324227331,1137.48940886613,1155.15072243414,1170.27639110212,1182.24294887092,1191.45969870384,1194.46152165546,1198.13579761767,1204.86007737106,1214.1186001865,1225.85996231906,1240.24451262538,1254.51646497173,1268.70827738194,1281.73358903395,1294.84660085219,1307.33847325794,1319.82528228193,1332.20512936356,1343.87078070009,1352.89096378674],\"z\":[-0.0,-145.899993896484,-146.0,-154.899982329159,-195.299828055585,-235.598619795656,-275.994708438332,-316.373263396974,-356.610232610649,-396.790896906599,-436.757953233376,-476.462260778656,-516.124736185931,-555.628370774127,-595.155692418875,-634.528192725852,-673.646383828782,-712.677774336902,-751.302412664742,-789.156600650452,-826.415925129163,-862.923313831545,-899.118941170234,-936.051658927386,-973.729377490509,-1012.03615119381,-1050.75322374015,-1089.51405749682,-1127.53242065403,-1164.35586763648,-1200.06693353046,-1234.9406928032,-1269.98983263698,-1305.8785126788,-1341.64133835987,-1376.36624171803,-1410.81093395769,-1445.01709839789,-1479.16645864824,-1512.8979989401,-1546.40544024172,-1579.65635901903,-1612.49225970323,-1645.21704717808,-1677.84581830471,-1710.57617445414,-1743.28844350017,-1775.71607031035,-1808.20126742641,-1840.87303440108,-1873.72649330591,-1907.14419339083,-1940.99078389262,-1974.96231031561,-2008.88560496782,-2042.66831385393,-2076.51616068697,-2110.2538270262,-2143.99209936186,-2177.6948210556,-2211.4269908942,-2245.3204943766,-2279.40192663094,-2313.77901429914,-2348.28235907567,-2382.73523110685,-2417.23615990715,-2451.78405260208,-2483.80725634644,-2495.78929196558,-2530.27979253626,-2562.30269486186,-2594.46208817786,-2602.04823766265,-2614.2100918422,-2636.71272939606,-2669.93558862639,-2703.00679828919,-2735.09068011154,-2767.21473396531,-2799.69765629974,-2832.11738449506,-2865.57275424313,-2880.09357577753,-2901.5132460829,-2936.84851521173,-2970.62048449964,-3001.68364528821,-3031.92288028787,-3059.38448587376,-3086.14459411727,-3110.30409189147,-3134.65778015464,-3157.9716848577,-3181.12978405117,-3204.73318715138,-3228.0997027948,-3246.43130961155],\"type\":\"scatter3d\"},{\"hovertemplate\":\"Well=F-7\\u003cbr\\u003edispns=%{x}\\u003cbr\\u003edispew=%{y}\\u003cbr\\u003eneg_tvd=%{z}\\u003cextra\\u003e\\u003c\\u002fextra\\u003e\",\"legendgroup\":\"F-7\",\"line\":{\"color\":\"#ab63fa\",\"dash\":\"longdash\"},\"marker\":{\"symbol\":\"circle\"},\"mode\":\"lines\",\"name\":\"F-7\",\"scene\":\"scene\",\"showlegend\":true,\"x\":[0.0,0.0,0.00217611256679503,0.00481990329520846,0.00234019169882226,-0.00202048441767585,-0.00693590220576999,-0.0278218913822924,-0.0612319125364835,-0.0858402160039975,-0.122840748634318,-0.137251948754337,-0.111156891578474,-0.0895932410280106,-0.0610440640780426,-0.0184490481830084,-0.00316334872858417,0.00656498518969095,0.00909437599219616,0.00664612699439902,0.0317634936471379,0.0646904532190003,0.10358083162281,0.130725568278521,0.144278148170527,0.109296242558358,0.120813837967837,0.252535198836498,0.298524924281213,0.22208482711196,-0.0369299329846091,-0.743433530284389,-1.67139294194,-2.62741247906097,-3.89700859324552,-5.27294218291113,-6.55832750042922,-7.41816916276704,-8.71043836324307,-9.55056336090051,-10.2364799076423,-10.9059988397976],\"y\":[0.0,0.0,-0.0282167005182392,-0.0708910096674693,-0.119487380586474,-0.164603957100617,-0.206645388198819,-0.249164954826443,-0.300452699758729,-0.35772477990468,-0.413767318408246,-0.461568399383896,-0.48475326734653,-0.488862827963658,-0.477450415184233,-0.453778298887797,-0.453509041014228,-0.48906187296266,-0.536674457248823,-0.722885579739357,-0.790403647135105,-0.843907847068642,-1.00315018732145,-1.178931928794,-1.43095894430523,-1.72079398329819,-2.30441579122027,-3.40840618800254,-4.81220881827835,-6.16713047871551,-9.3276231650989,-13.7677948105577,-19.3709807685938,-25.3506562475968,-31.5721139097062,-37.8081853609089,-44.4122915253716,-50.4087520710749,-60.8660692425072,-67.1021599060392,-72.8223623072697,-78.6623950557126],\"z\":[-0.0,-145.899993896484,-159.999962131498,-169.999870606391,-179.999751674367,-189.999648057494,-198.999547247796,-207.999418781121,-217.999228880932,-228.999049003598,-239.998835804023,-249.998684379979,-258.998615033478,-269.998585910954,-279.99852909229,-288.998394304764,-295.998355223774,-304.998278401713,-316.998177114578,-349.62761964327,-359.367340790371,-368.257133314902,-387.93641502714,-408.575615781474,-437.434487899788,-465.082939613532,-489.105026561815,-515.961961924092,-545.848712539354,-569.149004783711,-609.393080526666,-650.072910051674,-689.44396027722,-728.790501217932,-768.920533095858,-807.394090642695,-848.618597560135,-887.28655986494,-958.22809893514,-1000.76516169368,-1038.88221064769,-1077.47716383976],\"type\":\"scatter3d\"},{\"hovertemplate\":\"Well=F-9\\u003cbr\\u003edispns=%{x}\\u003cbr\\u003edispew=%{y}\\u003cbr\\u003eneg_tvd=%{z}\\u003cextra\\u003e\\u003c\\u002fextra\\u003e\",\"legendgroup\":\"F-9\",\"line\":{\"color\":\"#FFA15A\",\"dash\":\"dashdot\"},\"marker\":{\"symbol\":\"circle\"},\"mode\":\"lines\",\"name\":\"F-9\",\"scene\":\"scene\",\"showlegend\":true,\"x\":[0.0,0.0,-0.15734866769927,-0.261258411846125,-0.337569373530604,-0.270300270343405,0.0601244257323992,0.215884328488736,-1.01517025823536,-5.80309867656592,-13.4321107084137,-20.942133235072,-34.1232394154689,-68.8005751781678,-88.8827245312754,-110.435967438228,-133.774533336164,-159.033317572523,-186.398607720244,-216.235233346902,-247.186047851247,-322.094466483563,-390.465195484457,-424.423063956488,-445.427086751779],\"y\":[0.0,0.0,-0.0487376649834312,-0.137463729492307,-0.307076135811547,-0.326044681064981,-0.251844687348343,-0.283746774498279,-0.724446823120318,-2.36819136333631,-4.52341371544425,-5.78351904863248,-6.88005265993663,-8.51772453483146,-9.43929288985077,-11.0694783329038,-13.734105324379,-17.6057796861614,-22.191482969295,-27.0189346180655,-32.4280731995755,-46.7676129067717,-59.9957262093326,-66.4029848777211,-70.3148137306933],\"z\":[-0.0,-145.899993896484,-218.499750835389,-258.999494367678,-299.499050410572,-339.998685228317,-394.297533276001,-420.397054207417,-454.861403443589,-497.350999073859,-536.441281821541,-563.463288887256,-600.406719244141,-673.902844790946,-709.335275127248,-743.76651262018,-776.341261012406,-807.28693149096,-836.120744804075,-862.931856941295,-887.217668137214,-937.37441126051,-979.19282400641,-1000.04314088661,-1012.96707443467],\"type\":\"scatter3d\"},{\"hovertemplate\":\"Well=F-11\\u003cbr\\u003edispns=%{x}\\u003cbr\\u003edispew=%{y}\\u003cbr\\u003eneg_tvd=%{z}\\u003cextra\\u003e\\u003c\\u002fextra\\u003e\",\"legendgroup\":\"F-11\",\"line\":{\"color\":\"#19d3f3\",\"dash\":\"longdashdot\"},\"marker\":{\"symbol\":\"circle\"},\"mode\":\"lines\",\"name\":\"F-11\",\"scene\":\"scene\",\"showlegend\":true,\"x\":[4.65,4.65,4.64801435560033,4.6059475749867,4.57586237318444,4.52416240689397,4.48936469288912,4.47036176162526,4.43102872907166,4.37131302195678,4.29505139901181,4.32213003515867,4.52391237891406,4.72810090558734,4.9714533067939,5.20647374522567,5.37950572842719,5.5984243396968,5.79017215993011,5.99354691002932,6.19886651237791,6.42345576973853,6.69935494859252,7.46520470899534,8.0213590480426,9.31673089843988,10.5674271430453,11.9762347135912,13.429402903594,14.4005845641248,14.4656596640035,14.5166728897257,13.518164631134,10.926525298947,7.16222079119635,3.61815517378133,1.46560075234093,0.191235499382737,-0.401409931003901,-0.330631417843787,0.243960961242945,1.8361502565874,5.51077463532131,10.4005820121906,14.2480155760806,19.0358208391044,22.9289984068498,26.5094670241192,26.996830373098,29.9601621180327,30.726732289615,28.5452725046093,26.8430825497548,24.761932283726,20.5879499059414,16.2618511661151,11.7365627529751,6.99521253816139,2.07680033802914,-2.4803916488177,-3.85334610787841,-6.13167146597396,-9.02251832927186,-11.5610451266002,-13.8016637711894,-15.3395952041605,-16.1773718324998,-16.3487234819066,-15.7266454781658,-15.0459096790416,-14.4364590271241,-13.571029336562,-12.6130658100687,-9.71042947976604,-6.13336626518498,-2.24734385211925,1.89746303750703,6.63288843472247,11.8801960553596,17.7741924252654,24.7701938633311,32.7007495974251,41.2030407650907,41.883876668943,53.6778524696781,62.6951252127044,72.0341321672441,81.9525238220772,92.7055725046368,103.789476144338,115.360457228406,127.062908676108,139.112042168859,151.854414881393,165.03777203604,178.169123998467,191.524563402049,205.231378373296,219.313395640691,233.588246348305,247.825120212818,262.157909248548,276.816816123106,291.423241497286,306.231861471084,320.764665310318,335.509783768385,350.135566264185,364.749119545468,379.050389116697,392.99440298094,406.635504042758,420.263548569326,434.168529950054,447.926228767228,461.264558992589,474.057180634734,486.13435932553,497.505783415076,508.347240195714,518.54702036725,528.136545188827,536.689213839611,544.2959257154,551.285582487304,557.62973791607,562.916083431309,566.816335644029,569.977012997278,573.142607082723,576.458826573499,580.083819523009,584.162744191457],\"y\":[-0.93,-0.93,-0.932634082996628,-1.00839524261441,-1.04901501811827,-1.08185053794088,-1.11229302932129,-1.12359896438784,-1.12996109915564,-1.15184722789049,-1.19599723573478,-1.28631391461181,-1.50767418235518,-1.72048165183282,-1.94143966216691,-2.13938948917074,-2.26419797597889,-2.42110559229936,-2.56233738237411,-2.72218439998123,-2.89707839720728,-3.09142766097617,-3.33223963914183,-4.07573056476564,-4.63790392732101,-5.80897836089687,-6.87156788719438,-7.95618099355647,-8.98379622799573,-10.0586293926195,-10.2666650605147,-11.6513477862994,-14.1894314575248,-18.1213633356526,-23.8323507367063,-31.5916518760935,-40.1600187378649,-48.1091872562553,-54.1711234576984,-63.0657707756008,-70.5130167674423,-78.2635461642597,-88.2060688022147,-101.158876619371,-113.00108469927,-130.684500790533,-146.017733182742,-160.361059364655,-162.435376657023,-178.299707780938,-196.179369444859,-215.181840516037,-224.487973591966,-235.443111451406,-257.22323062838,-279.459018105487,-301.473239068006,-323.608779812169,-346.006930730133,-367.64811768175,-374.684861106595,-387.320758623366,-405.06094335206,-420.745246231383,-434.410494071776,-446.035514184375,-455.655637627787,-462.562660883737,-467.329060642754,-469.17346385212,-470.109193123979,-470.774957180024,-470.993141220377,-469.975736168053,-466.391251513417,-460.104668366491,-451.564908957767,-440.866147062079,-428.160542861157,-413.413239993445,-396.5732726974,-377.820963381663,-357.051849226468,-355.354389357504,-324.585457430671,-299.001185059339,-271.176702693347,-241.638614690897,-210.263322965042,-178.393915585483,-144.860028454676,-110.690986021393,-76.2609192299916,-41.1463942531273,-4.80671256954872,32.3180555600615,69.8958516428511,107.381889907724,144.727707760662,182.002432776629,219.187713820742,256.652891032489,294.524195143503,331.566842046612,368.741483812218,405.066886742351,442.090987011475,479.27770791671,516.663110426862,553.841405680472,591.255925169998,628.481645568824,665.256404508507,701.799616244186,737.59997344035,772.565612866727,806.179870653747,838.344084772597,868.876833329046,897.760718759136,924.916562468985,950.748903251028,974.712185444725,996.576561051942,1016.03155942552,1033.09000278624,1047.89380760053,1059.96148746944,1069.86330238555,1079.06739754949,1088.15166654893,1097.37879977053,1106.38147130626],\"z\":[-0.0,-145.9,-147.699992918164,-167.699802674954,-179.999697734842,-192.99955020507,-201.999429178839,-207.999385002772,-217.999305023606,-227.999095838109,-238.498723917445,-248.998126890705,-263.995111298727,-276.391598596147,-290.187681725535,-304.984478243927,-316.982578970269,-331.980156917089,-344.677923128238,-358.175440906467,-371.672745891047,-384.969418805115,-398.164313203121,-426.443942315079,-444.52665305092,-485.189164264246,-522.553133865904,-562.913960281945,-603.274732501417,-643.747764085107,-651.644741750649,-692.120451434042,-732.522454182859,-772.341202886185,-811.948431238415,-851.637091925009,-891.057417260474,-930.543218774791,-963.077581215716,-1010.34700875758,-1050.05048211621,-1088.84691981066,-1128.02363153114,-1165.9647288326,-1196.3090079819,-1239.58924848671,-1278.16394566976,-1315.87232828667,-1321.05102502708,-1358.62936385511,-1396.60798887074,-1432.0682666123,-1448.19656987914,-1466.34400787336,-1500.35000249195,-1533.92224870969,-1567.01132640218,-1600.11031867083,-1633.61392708954,-1667.77506918139,-1679.79968843812,-1702.75098370369,-1738.59099507403,-1775.51117361905,-1813.35269931148,-1851.58945185321,-1891.63390967902,-1931.33020835402,-1971.13694097607,-1993.75068088641,-2011.31474498476,-2033.18707655257,-2051.35553386534,-2091.43584984548,-2132.01327846609,-2171.62105044065,-2210.47465525895,-2249.65981542857,-2287.53623688173,-2324.35102456881,-2360.28090922706,-2395.0538212642,-2428.39581939892,-2430.89883100726,-2472.00523472116,-2500.98039374365,-2528.44096064121,-2553.82649528453,-2577.58043954468,-2598.86176083535,-2618.60248997692,-2637.14445649058,-2654.26693208804,-2669.3710512793,-2681.73812176216,-2690.71005074043,-2697.14789355748,-2702.71484109845,-2708.28871814337,-2713.84863544168,-2719.38085841328,-2724.96486741676,-2730.6107417026,-2736.13603232093,-2741.69577613146,-2747.12825296945,-2753.11268426343,-2759.70645714745,-2766.43440422231,-2773.1719051464,-2779.9505020763,-2786.59925526896,-2794.43241128553,-2804.94196972569,-2817.94969647794,-2833.65413121586,-2851.82986129387,-2872.29459060302,-2895.64653831874,-2921.71810248369,-2949.5408294849,-2979.34962672006,-3010.59280544436,-3043.44632207969,-3077.91358294338,-3113.52552603268,-3150.7260065981,-3188.97598351217,-3227.79660976664,-3267.21740486859,-3306.442860909,-3345.81362604216,-3384.26309864175],\"type\":\"scatter3d\"},{\"hovertemplate\":\"Well=F-12\\u003cbr\\u003edispns=%{x}\\u003cbr\\u003edispew=%{y}\\u003cbr\\u003eneg_tvd=%{z}\\u003cextra\\u003e\\u003c\\u002fextra\\u003e\",\"legendgroup\":\"F-12\",\"line\":{\"color\":\"#FF6692\",\"dash\":\"solid\"},\"marker\":{\"symbol\":\"circle\"},\"mode\":\"lines\",\"name\":\"F-12\",\"scene\":\"scene\",\"showlegend\":true,\"x\":[0.0,0.0,-0.0285780618419118,-0.0787429142891628,-0.113911536497539,-0.134162124497558,-0.12923907714649,-0.105665234041383,-0.069515643185545,0.0194274868517003,0.308330061336658,1.20464985799925,3.01863694467378,5.65640656763947,8.88523711263175,12.1549107853089,14.9471391451807,17.4207080300011,19.9691512327093,22.7032050657765,25.3910239962982,27.6599293122748,29.3343271833592,30.4481141018931,31.0073407099338,30.8905043277348,30.2593116552204,29.9751765757931,29.6570882938791,29.3023494569125,28.920306205416,28.5276964474459,28.1332058111218,27.7528359937474,27.4230058825311,27.1628935647626,26.9554421047342,26.7811074272097,26.6438411607741,26.5431628654689,26.4681026373387,26.4207931397533,26.3972970240377,26.3821081541358,26.3579213811599,26.2963480920563,26.1596888745422,25.9240983986129,25.5793627397458,25.1200658963792,24.5431387402288,23.8459029498047,23.0073195272943,22.0100111595279,20.8630869764163,19.6032291155952,18.2906903841143,16.9612056618818,15.6500821150827,14.4088326928937,13.2679597313282,12.2204786794792,11.2301262624355,10.2552521153787,9.2713151235728,8.27391890982851,7.26769753293151,6.26679768037229,5.29347416751383,4.36920716470368,3.49829384856867,2.65646552716114,1.79620291209902,0.879141973354624,-0.109510326429216,-1.17715495967478,-2.32579658019769,-3.55607663782964,-4.87579157233453,-6.30660021807491,-7.87007147387184,-9.56501727892518,-11.3874376295134,-13.3293610813169,-15.3383844522469,-17.3443631548102,-19.2858401318472,-21.1216342859742,-22.8603671529966,-24.5328502208523,-26.1472769574524,-27.6784604375,-29.1039447370158,-30.4315657801622,-31.6716718170549,-32.8308526945208,-33.9328915121304,-35.0125581509733,-36.0932996293346,-37.1854155954809,-38.2968349593217,-39.4305223980583,-40.5846930036676,-41.75387333359,-42.930179900129,-44.1088755309879,-45.291165194033,-46.4764414983036,-47.6609122718528,-48.8430636512749,-50.0222314967594,-51.1983180166155,-52.3710208929735,-53.5457677091069,-54.7203860618164,-55.893609165877,-57.0726846743058,-58.2543113784772,-59.4366352343991,-60.6204280705483,-61.8100176316048,-63.0047419846965,-64.1918868639104,-65.3715811336777,-66.5507110936752,-67.726375734039,-68.8915405640846,-70.0504804169624,-71.2094807522257,-72.3623216302601,-73.5020266766701,-74.6326956913793,-75.764260670201,-76.8886580847782,-77.9892061801373,-79.0660154965713,-80.1321102361756,-81.2039614485991,-82.2943597055634,-83.4116811286377,-84.5525676036273,-85.7017659027148,-86.8431318679788,-87.9559993073865,-89.0253171949799,-90.0509184355472,-91.0428771967721,-92.0128287487648,-92.9505453094174,-93.8495941343713,-94.7334170934762,-95.619187690311,-96.5080383331601,-97.4183106608349,-98.380154525536,-99.4093652794363,-100.512101954438,-101.692401317373,-102.950027467502,-104.277465807564,-105.66495364711,-107.101902499337,-108.584706116548,-110.117669668606,-111.70354438064,-113.339254794947,-115.022702217935,-116.755493933271,-118.521979637018,-120.300682704596,-122.095786675957,-123.922542924308,-125.778732114558,-127.665581967976,-129.59565514107,-131.570882519186,-133.593824087449,-135.663853605112,-137.77702432972,-139.92259963136,-142.081337906847,-144.244550648265,-146.40270907782,-148.550029036315,-148.882161281867,-155.002197573296,-163.631948061283,-172.215944902468,-181.823074267778,-192.30217120981,-202.863830237888,-212.886194168014,-223.38652491524,-234.334224511738,-244.649849241448,-253.54470955564,-260.794914884498,-268.051012749763,-273.333713651311,-281.931180443364,-284.430373320355,-289.465827266041,-292.962599548318,-298.945450692562,-305.93979539425,-314.109631317817,-323.237604137213,-331.969783604291,-341.478369673462,-350.668210616482,-359.412631888574,-364.657885905799],\"y\":[0.0,0.0,0.00701415318296816,0.021737908052476,0.0650486548131914,0.166402116346646,0.320165783786796,0.50186575060202,0.713436073405237,0.988337908953033,1.32391706304415,1.85732829032359,2.76789598124642,4.11853162279143,5.92931256156587,7.90829074404324,9.59637976683256,10.7128287698577,11.112695525758,10.4561545270167,8.72173451562419,6.1755154834991,2.60651935419102,-2.3528441041505,-8.62775799563621,-15.8620661578555,-23.2908097196677,-25.8208400611331,-28.2692980235243,-30.6528511882765,-33.0065150177161,-35.3627535784565,-37.7341389132225,-40.1309254669158,-42.5750673676946,-45.0761074081536,-47.6228933364082,-50.2009395984734,-52.7997337270064,-55.4087001028344,-58.013480684018,-60.5682930659857,-63.0525301688934,-65.5038646541645,-67.9542643380488,-70.4233359224482,-72.9204569324121,-75.4346991283921,-77.9558248970685,-80.4989698306768,-83.0949238097299,-85.7733907282605,-88.5745554061869,-91.5339858889158,-94.6386574641733,-97.8499881192536,-101.123212477338,-104.420414620654,-107.706483417142,-110.932031540376,-114.076730717641,-117.167853166248,-120.244066118273,-123.341708108413,-126.481456042138,-129.651507121967,-132.796271713928,-135.813295063401,-138.61780709167,-141.196700136603,-143.598081783668,-145.906684178733,-148.19393263665,-150.506369465235,-152.894577199596,-155.404751252777,-158.040563315066,-160.775217014298,-163.595864425969,-166.510875710582,-169.530393361336,-172.648800600671,-175.862023129867,-179.156578612879,-182.477781667043,-185.764124258719,-188.981909301299,-192.127510551915,-195.231125131442,-198.338547872193,-201.491067775428,-204.712571684617,-208.008839708111,-211.381771000524,-214.831940777186,-218.352126549308,-221.928100539168,-225.546429752644,-229.197301035516,-232.875918583631,-236.587426570615,-240.337557477396,-244.12087282513,-247.927240786821,-251.747325307102,-255.57755197851,-259.415872193715,-263.25912558148,-267.109313658804,-270.962721401497,-274.811195643204,-278.655599926578,-282.498531488751,-286.334984836742,-290.161444795689,-293.977453759203,-297.778250625817,-301.567356497521,-305.35288797974,-309.139639122615,-312.932125904547,-316.730554978362,-320.528001099423,-324.320225445311,-328.11765581847,-331.926213679311,-335.739667423212,-339.554186796714,-343.373704976385,-347.201767269101,-351.03459320016,-354.870100953162,-358.706178090524,-362.511815972788,-366.233254184447,-369.842291630193,-373.341988464853,-376.733325220087,-380.005150431065,-383.15659576165,-386.197782347901,-389.13401181771,-391.961784342144,-394.670805287338,-397.245803988395,-399.673359598236,-401.965791017052,-404.150539359992,-406.205501282529,-408.110344968497,-409.903027907573,-411.612260598591,-413.229413085235,-414.740721860866,-416.148133145547,-417.458017518885,-418.662123844444,-419.751200832144,-420.72177062315,-421.565861223074,-422.279244548004,-422.862597996155,-423.32660876449,-423.668046885886,-423.871240062467,-423.927107775743,-423.834440496632,-423.613039614735,-423.276230096818,-422.820783575678,-422.261285916392,-421.602733069453,-420.83538380423,-419.959046799629,-418.972790981739,-417.872413911562,-416.6432774161,-415.280929847699,-413.787148143922,-412.162343544815,-410.420719185028,-408.575533008364,-406.617392769842,-404.531916371345,-404.197220099188,-397.402359003596,-386.140713302605,-374.214746683145,-360.609524569701,-344.48953172216,-325.77211249919,-305.727101728946,-282.938317371543,-257.231034826921,-229.736750878112,-199.857654746026,-169.50586619859,-137.532933714027,-115.04651539343,-73.4550926711707,-56.8990874490252,-12.4347329930555,16.3537552012268,51.2829313922615,83.2506177261159,114.651944662566,145.671923515292,174.575831935189,206.059501519849,236.344540783574,266.511066919279,285.310127300838],\"z\":[-0.0,-145.899993896484,-173.999979456602,-203.999933246462,-233.999876652791,-263.999693225607,-293.999294620988,-323.998734880888,-353.997963161228,-383.996552671442,-413.993147376207,-443.973702488599,-473.903521167552,-503.75575216964,-533.525883215159,-563.281208957304,-593.102465817316,-622.978832611874,-652.866839341857,-682.732208797736,-712.560181320532,-742.364278001231,-772.101492135723,-801.66390407653,-830.992775079098,-860.10531504884,-888.130441592727,-897.800885876159,-907.491253444609,-917.196535005925,-926.908088779848,-936.618597577987,-946.325341778817,-956.026401719539,-965.717460769747,-975.396123810305,-985.064142899212,-994.724534618028,-1004.37995921202,-1014.03309837908,-1023.68760121653,-1033.35558487727,-1043.04205738774,-1052.73693811306,-1062.43203562499,-1072.1222147541,-1081.80440934179,-1091.48026488346,-1101.15104463371,-1110.811285206,-1120.4511236116,-1130.06037148269,-1139.62310371142,-1149.12270917074,-1158.55892852518,-1167.94502349973,-1177.30253741055,-1186.64924302184,-1196.00244562903,-1205.38613566829,-1214.80992065436,-1224.26228050405,-1233.72568427682,-1243.18370114272,-1252.62688132162,-1262.05852675879,-1271.49767695782,-1280.97884111763,-1290.52777313744,-1300.14497606587,-1309.81311497593,-1319.50648856598,-1329.20330559105,-1338.88891562857,-1348.54901718104,-1358.16966096573,-1367.74731318443,-1377.2870600913,-1386.78973383034,-1396.24769631811,-1405.65169895558,-1415.00052054681,-1424.29307004792,-1433.53283888933,-1442.74876895018,-1451.97783035944,-1461.24470831262,-1470.55778753626,-1479.90357743559,-1489.26020250492,-1498.61191703827,-1507.95408139902,-1517.28688146387,-1526.60673061915,-1535.91034923235,-1545.1981785861,-1554.47166665896,-1563.73135793668,-1572.97814409947,-1582.21258828896,-1591.43155030482,-1600.63215236563,-1609.8166123236,-1618.98964537831,-1628.15606495962,-1637.31794399452,-1646.47597235997,-1655.63154558241,-1664.7843087131,-1673.93601705077,-1683.09018565396,-1692.24646084061,-1701.40378814179,-1710.56356871145,-1719.72754500323,-1728.89605677857,-1738.07013368688,-1747.24871923916,-1756.4286898516,-1765.60796802905,-1774.78412761625,-1783.95716241195,-1793.13158704064,-1802.30913327723,-1811.48459824678,-1820.65589525408,-1829.82649743181,-1838.99744612599,-1848.16630599493,-1857.33237830326,-1866.4981023406,-1875.66382467032,-1884.82919812976,-1894.00811331888,-1903.22431703445,-1912.4879033665,-1921.79459587617,-1931.1406523775,-1940.52706110579,-1949.95142950354,-1959.40915178791,-1968.89898435711,-1978.42262785032,-1987.98407017469,-1997.5873962897,-2007.23379095475,-2016.91673740207,-2026.62679552455,-2036.36821627489,-2046.14377650129,-2055.94196423228,-2065.75488401744,-2075.58309950944,-2085.42618081758,-2095.27975213103,-2105.13996282408,-2115.0056852352,-2124.8758023541,-2134.74872580751,-2144.62413406813,-2154.50159515089,-2164.38053076316,-2174.25903066647,-2184.13484577877,-2194.00610575111,-2203.87115658715,-2213.72790297075,-2223.57407735949,-2233.41099165852,-2243.24092578792,-2253.06252603937,-2262.87212107929,-2272.6682781821,-2282.44941743713,-2292.21163418057,-2301.9525941158,-2311.66830317591,-2321.35630857001,-2331.01557002978,-2340.64651560669,-2350.25409488806,-2359.84132332068,-2369.40723345019,-2378.9486371048,-2380.42522679514,-2408.14432092219,-2448.02342828274,-2486.21312156207,-2523.58869743298,-2559.08610167506,-2593.72456343433,-2626.5626635438,-2658.24186746248,-2687.90526608886,-2715.04894246299,-2740.77675172789,-2764.61248082736,-2788.50750871181,-2804.89260100757,-2834.92155364023,-2846.95425612367,-2879.52848758814,-2900.70373536382,-2926.57425445654,-2950.704409433,-2974.65321806023,-2998.62070969795,-3021.32839472848,-3046.0441869825,-3069.84562548707,-3093.58353635682,-3108.36027763545],\"type\":\"scatter3d\"},{\"hovertemplate\":\"Well=F-14\\u003cbr\\u003edispns=%{x}\\u003cbr\\u003edispew=%{y}\\u003cbr\\u003eneg_tvd=%{z}\\u003cextra\\u003e\\u003c\\u002fextra\\u003e\",\"legendgroup\":\"F-14\",\"line\":{\"color\":\"#B6E880\",\"dash\":\"dot\"},\"marker\":{\"symbol\":\"circle\"},\"mode\":\"lines\",\"name\":\"F-14\",\"scene\":\"scene\",\"showlegend\":true,\"x\":[0.0,0.0,0.0143710699409874,0.169309503629925,0.374321647704972,0.739888422741262,1.20541661487409,1.62877722055241,1.87948579034528,2.08768890936401,2.75213663726645,4.00791411471262,5.43861482501488,6.38410848609754,6.68107471036173,6.73180738617879,6.77567421082989,6.80372052971979,6.77453166659657,6.58164639817263,6.26610596741754,5.98635286438415,5.77775189222533,5.61560941357944,5.46124549782024,5.3072801921169,5.15463490517077,5.00819455360802,4.87274533387115,4.73918034047321,4.6060446240895,4.47328692261799,4.37040327944815,4.29813037634326,4.22613528382715,4.15255885450024,4.0771150733325,3.99793250967648,3.91726516930619,3.82851933405731,3.73176005354015,3.63667913214344,3.5424223813762,3.44917259681555,3.35832487632488,3.30280151406617,3.28277248050398,3.26586717116225,3.24491379006915,3.19574930251374,3.16575539701327,3.76957518918069,5.70684077682469,9.70702614707623,15.0336842771564,20.4377719341129,26.3751575100354,33.4698856520488,41.8758501377009,51.5782770905036,61.6684099741973,71.9549706808633,82.5835896775138,94.0623048403819,106.432945419662,112.616364757553,124.436336091797,139.068756070808,154.821358771367,169.751782467246,184.993105622227,201.500294460709,218.564956351784,237.020797683954,254.056573230842,267.947391055434,279.177230599581,289.728101145801,298.690997316708,305.28693698497,309.691652979367,313.00389775677,316.003130629621,318.976370597778,321.620345582468,323.063039988277,323.360281185364,322.940909448737,321.765987320306,319.865899945424,317.818312433409,315.807108992382,315.250305968037,314.240129049548],\"y\":[0.0,0.0,0.00136352753413607,0.0785375175852996,0.332375545163661,0.999863431048733,1.98759456681054,3.12342054573864,5.03043164337241,7.81043231182724,10.6305777578051,12.8628025687149,14.1163813917985,14.5290452812992,14.6863216056839,14.8619740085639,15.0435594068983,15.2380126138586,15.4576861196083,15.6314891460742,15.7437735560969,15.824805229601,15.8762606444543,15.9247091376299,15.9600106152016,15.9197891554345,15.8185062413197,15.7543256847902,15.740256613856,15.7497486714726,15.7646469474491,15.782537518176,15.8439127778216,15.948229742737,16.0523591096737,16.1557764823731,16.2574172040903,16.3565897387663,16.4541691280195,16.4565038842625,16.3638446479968,16.2699674841672,16.1747683240899,16.0790614445857,15.9806107022974,15.8647245372483,15.7326008310546,15.5997142417999,15.4678666244209,15.3444158337583,15.2324186645998,15.3092011826143,15.8433323739443,17.1477095730669,19.0416750943801,21.1289280178108,23.6545287256478,27.079651288662,31.4891859828484,37.0286749116309,44.552605587536,55.2083446987141,69.3346504703399,86.1431964613441,103.786309102042,112.521875677666,129.441052301025,150.743935125802,173.546689800656,195.839675828419,220.470523536275,248.011721599192,276.278946083373,307.17444344747,340.040273463496,375.101552274624,410.814958071114,448.727788483105,486.64797876085,524.92890910543,564.26449720681,605.024722107804,643.813354732719,682.193308612838,719.806500866782,756.808127038617,791.068269628746,826.525030498725,859.236158404162,891.305938199183,921.744721389101,952.63406670219,961.084085760183,976.537743230292],\"z\":[-0.0,-145.899993896484,-155.089981220949,-195.439595077765,-235.798223592277,-276.19060818526,-316.575835135076,-356.857516485121,-397.20990356073,-437.513324909413,-477.708429538265,-518.026227381835,-558.279924730908,-598.665725241313,-639.064108545793,-679.363681537598,-719.763273927723,-760.062781846055,-800.462189194783,-840.861244188675,-881.259880236818,-921.558805365692,-961.958253946647,-1002.35786207882,-1042.75751468464,-1083.05723078496,-1123.45683965631,-1163.75644489087,-1204.15623825376,-1244.55604068829,-1284.95584297949,-1325.35564529047,-1365.65538326256,-1406.05520833819,-1446.35505831764,-1486.75476129601,-1527.05461130539,-1567.45443638376,-1607.75416427004,-1648.15405340708,-1688.55385568991,-1728.85368298669,-1769.25336320622,-1809.55319048624,-1849.95299278751,-1890.35280691562,-1930.65251210437,-1971.05231441572,-2011.35214196449,-2052.05187392877,-2092.05169925389,-2132.44541333239,-2172.69273978793,-2212.8649245948,-2252.76618420602,-2292.74877712013,-2332.52730655573,-2372.1486026978,-2411.31165098334,-2450.23678595658,-2488.51254516192,-2526.0843738624,-2562.39529996428,-2597.2835478869,-2629.30264378683,-2643.77427480357,-2669.61007909459,-2700.38836179372,-2733.56502540135,-2763.70135845333,-2791.14845629349,-2816.37968953962,-2837.6262683444,-2856.59307984919,-2873.41320519383,-2888.45717671982,-2901.4983385612,-2913.30163788611,-2922.85529798751,-2930.23371758395,-2936.56560153726,-2944.51841812104,-2955.36245085386,-2968.13820742411,-2982.11664819944,-2998.1293120168,-3015.16725467832,-3036.08094120378,-3059.52952350339,-3086.32612091838,-3112.68760179472,-3138.72625749636,-3145.77806203533,-3158.65359256608],\"type\":\"scatter3d\"},{\"hovertemplate\":\"Well=F-15\\u003cbr\\u003edispns=%{x}\\u003cbr\\u003edispew=%{y}\\u003cbr\\u003eneg_tvd=%{z}\\u003cextra\\u003e\\u003c\\u002fextra\\u003e\",\"legendgroup\":\"F-15\",\"line\":{\"color\":\"#FF97FF\",\"dash\":\"dash\"},\"marker\":{\"symbol\":\"circle\"},\"mode\":\"lines\",\"name\":\"F-15\",\"scene\":\"scene\",\"showlegend\":true,\"x\":[-3.17,-3.17,-3.17275708166112,-3.36617678909471,-3.64654363356456,-4.16397215233374,-5.15361921297353,-6.9133401426761,-9.46796005979813,-12.5207062278732,-16.3562800145766,-21.0999335597133,-26.2527738276146,-31.9133791389253,-38.0118533448808,-44.4008087060729,-51.2438299574217,-58.857664598876,-67.4175077298723,-76.8155973228791,-86.1237347060786,-95.2456026110816,-105.315771201689,-116.010530971491,-126.371822490253,-136.633724651254,-146.391000383414,-154.571992655953,-161.355287691508,-168.032419532882,-174.979218953581,-182.345341327305,-186.005951848408,-191.261033325195,-202.067729693675,-215.086488421151,-233.88294658732,-247.931025855731,-262.586429341267,-276.397232316614,-289.726106062563,-303.78119771452,-318.320496095552,-333.61114192696,-348.660166542637,-363.520960092549,-378.547492382126,-393.423676491142,-408.576824569731,-424.587137066603,-440.704392763018,-456.969018011996,-473.519886509095,-489.783667261791,-506.102063902913,-522.865717192169,-539.338620943386,-556.030812030111,-572.028717731508,-592.776859004576,-602.732901728179,-620.906729318773,-634.785048991319,-647.043261912128,-657.7580517681,-667.368851664271,-674.34278112578,-678.421210094003,-682.394939453968,-685.613022550277,-689.298912996616,-690.904522923606,-691.999504901048,-693.940720872264,-696.168734952727,-699.230294726366,-702.866856842772,-706.461695870375,-707.585751196357,-709.391061655067],\"y\":[3.53,3.53,3.52057761952774,3.52941204318279,3.77488080851873,4.36914464926912,5.76505216170548,8.20338759589088,10.9193556246557,12.9971481024102,14.5508294362351,15.5853755083965,16.2204361720767,16.7848166724109,17.3110507387328,17.6984137746423,17.5001182343261,16.1778816796926,13.6340756542599,10.139935307674,6.30765201950994,2.57076938037603,-1.28342250301903,-5.36809836726817,-9.81128353084324,-15.4283407003433,-22.6642857734946,-30.9992819297987,-39.5261814294145,-49.0889147569495,-60.7446925296605,-74.6717570481597,-81.8525098725726,-90.569238300056,-102.972634538099,-112.841054806232,-120.420419402895,-122.112977987134,-121.097464720598,-117.507490849533,-111.429916711855,-103.128760488105,-93.323275731272,-82.1940527459568,-71.0441437837838,-59.962518518016,-48.768548416237,-37.811150567131,-26.9471898343286,-16.705144751979,-8.26497147942112,-1.95872610684978,1.98881109561453,4.1230134413575,4.65353303696289,3.06172331990575,-0.320051218066591,-5.92322744086318,-13.8855706315359,-28.2903371283772,-37.1139807422491,-56.497654858738,-73.2617688420294,-89.1379476342694,-103.796704325906,-117.108535406144,-128.473012595884,-137.564910839396,-147.568799248488,-155.386893125991,-165.045230477283,-171.678158060946,-178.447160003934,-190.491567441898,-203.530428596683,-217.451880014091,-232.185777111003,-246.789119860046,-251.248326344671,-258.259221843938],\"z\":[-0.0,-145.899993896484,-153.399985329122,-234.199626766874,-274.597785842106,-314.989846534385,-355.251530360782,-395.537947928627,-435.764788997019,-473.885528872798,-514.072222717289,-556.091726334666,-596.156455639109,-636.052629031064,-675.986127053258,-715.774441222718,-755.58883869207,-795.240118326849,-834.638410673829,-873.669849850426,-912.794556416634,-951.972960279996,-990.801595401751,-1029.64982710593,-1068.34015572451,-1107.00635003635,-1145.42760389981,-1184.09759810452,-1222.89621632029,-1261.67535962245,-1299.61625666363,-1336.81044672788,-1353.46106589011,-1374.08150922387,-1409.42758722557,-1448.10259250163,-1501.3450045614,-1538.74925677114,-1577.01965042036,-1614.37912124911,-1651.59401232128,-1689.19932673994,-1725.14560835218,-1761.52305491262,-1796.86705757554,-1832.31148686347,-1868.77920485493,-1904.25634915138,-1939.64478069465,-1975.97037646512,-2011.58998555711,-2047.57742782649,-2084.87381966907,-2121.35410687021,-2157.86531652162,-2195.24231873981,-2231.53289647749,-2268.55128229675,-2304.3308755445,-2352.04287037068,-2375.53514444483,-2418.4420112151,-2452.38297016637,-2487.38114116397,-2523.35759385403,-2560.1747237229,-2598.20567582666,-2634.8915051072,-2682.57897722011,-2722.08400263227,-2768.28110179221,-2797.51257728141,-2824.0187649204,-2863.46866835701,-2901.03742351499,-2938.41904008205,-2975.70910663215,-3013.2910144302,-3025.19350568949,-3044.07300286715],\"type\":\"scatter3d\"}],                        {\"template\":{\"data\":{\"histogram2dcontour\":[{\"type\":\"histogram2dcontour\",\"colorbar\":{\"outlinewidth\":0,\"ticks\":\"\"},\"colorscale\":[[0.0,\"#0d0887\"],[0.1111111111111111,\"#46039f\"],[0.2222222222222222,\"#7201a8\"],[0.3333333333333333,\"#9c179e\"],[0.4444444444444444,\"#bd3786\"],[0.5555555555555556,\"#d8576b\"],[0.6666666666666666,\"#ed7953\"],[0.7777777777777778,\"#fb9f3a\"],[0.8888888888888888,\"#fdca26\"],[1.0,\"#f0f921\"]]}],\"choropleth\":[{\"type\":\"choropleth\",\"colorbar\":{\"outlinewidth\":0,\"ticks\":\"\"}}],\"histogram2d\":[{\"type\":\"histogram2d\",\"colorbar\":{\"outlinewidth\":0,\"ticks\":\"\"},\"colorscale\":[[0.0,\"#0d0887\"],[0.1111111111111111,\"#46039f\"],[0.2222222222222222,\"#7201a8\"],[0.3333333333333333,\"#9c179e\"],[0.4444444444444444,\"#bd3786\"],[0.5555555555555556,\"#d8576b\"],[0.6666666666666666,\"#ed7953\"],[0.7777777777777778,\"#fb9f3a\"],[0.8888888888888888,\"#fdca26\"],[1.0,\"#f0f921\"]]}],\"heatmap\":[{\"type\":\"heatmap\",\"colorbar\":{\"outlinewidth\":0,\"ticks\":\"\"},\"colorscale\":[[0.0,\"#0d0887\"],[0.1111111111111111,\"#46039f\"],[0.2222222222222222,\"#7201a8\"],[0.3333333333333333,\"#9c179e\"],[0.4444444444444444,\"#bd3786\"],[0.5555555555555556,\"#d8576b\"],[0.6666666666666666,\"#ed7953\"],[0.7777777777777778,\"#fb9f3a\"],[0.8888888888888888,\"#fdca26\"],[1.0,\"#f0f921\"]]}],\"heatmapgl\":[{\"type\":\"heatmapgl\",\"colorbar\":{\"outlinewidth\":0,\"ticks\":\"\"},\"colorscale\":[[0.0,\"#0d0887\"],[0.1111111111111111,\"#46039f\"],[0.2222222222222222,\"#7201a8\"],[0.3333333333333333,\"#9c179e\"],[0.4444444444444444,\"#bd3786\"],[0.5555555555555556,\"#d8576b\"],[0.6666666666666666,\"#ed7953\"],[0.7777777777777778,\"#fb9f3a\"],[0.8888888888888888,\"#fdca26\"],[1.0,\"#f0f921\"]]}],\"contourcarpet\":[{\"type\":\"contourcarpet\",\"colorbar\":{\"outlinewidth\":0,\"ticks\":\"\"}}],\"contour\":[{\"type\":\"contour\",\"colorbar\":{\"outlinewidth\":0,\"ticks\":\"\"},\"colorscale\":[[0.0,\"#0d0887\"],[0.1111111111111111,\"#46039f\"],[0.2222222222222222,\"#7201a8\"],[0.3333333333333333,\"#9c179e\"],[0.4444444444444444,\"#bd3786\"],[0.5555555555555556,\"#d8576b\"],[0.6666666666666666,\"#ed7953\"],[0.7777777777777778,\"#fb9f3a\"],[0.8888888888888888,\"#fdca26\"],[1.0,\"#f0f921\"]]}],\"surface\":[{\"type\":\"surface\",\"colorbar\":{\"outlinewidth\":0,\"ticks\":\"\"},\"colorscale\":[[0.0,\"#0d0887\"],[0.1111111111111111,\"#46039f\"],[0.2222222222222222,\"#7201a8\"],[0.3333333333333333,\"#9c179e\"],[0.4444444444444444,\"#bd3786\"],[0.5555555555555556,\"#d8576b\"],[0.6666666666666666,\"#ed7953\"],[0.7777777777777778,\"#fb9f3a\"],[0.8888888888888888,\"#fdca26\"],[1.0,\"#f0f921\"]]}],\"mesh3d\":[{\"type\":\"mesh3d\",\"colorbar\":{\"outlinewidth\":0,\"ticks\":\"\"}}],\"scatter\":[{\"fillpattern\":{\"fillmode\":\"overlay\",\"size\":10,\"solidity\":0.2},\"type\":\"scatter\"}],\"parcoords\":[{\"type\":\"parcoords\",\"line\":{\"colorbar\":{\"outlinewidth\":0,\"ticks\":\"\"}}}],\"scatterpolargl\":[{\"type\":\"scatterpolargl\",\"marker\":{\"colorbar\":{\"outlinewidth\":0,\"ticks\":\"\"}}}],\"bar\":[{\"error_x\":{\"color\":\"#2a3f5f\"},\"error_y\":{\"color\":\"#2a3f5f\"},\"marker\":{\"line\":{\"color\":\"#E5ECF6\",\"width\":0.5},\"pattern\":{\"fillmode\":\"overlay\",\"size\":10,\"solidity\":0.2}},\"type\":\"bar\"}],\"scattergeo\":[{\"type\":\"scattergeo\",\"marker\":{\"colorbar\":{\"outlinewidth\":0,\"ticks\":\"\"}}}],\"scatterpolar\":[{\"type\":\"scatterpolar\",\"marker\":{\"colorbar\":{\"outlinewidth\":0,\"ticks\":\"\"}}}],\"histogram\":[{\"marker\":{\"pattern\":{\"fillmode\":\"overlay\",\"size\":10,\"solidity\":0.2}},\"type\":\"histogram\"}],\"scattergl\":[{\"type\":\"scattergl\",\"marker\":{\"colorbar\":{\"outlinewidth\":0,\"ticks\":\"\"}}}],\"scatter3d\":[{\"type\":\"scatter3d\",\"line\":{\"colorbar\":{\"outlinewidth\":0,\"ticks\":\"\"}},\"marker\":{\"colorbar\":{\"outlinewidth\":0,\"ticks\":\"\"}}}],\"scattermapbox\":[{\"type\":\"scattermapbox\",\"marker\":{\"colorbar\":{\"outlinewidth\":0,\"ticks\":\"\"}}}],\"scatterternary\":[{\"type\":\"scatterternary\",\"marker\":{\"colorbar\":{\"outlinewidth\":0,\"ticks\":\"\"}}}],\"scattercarpet\":[{\"type\":\"scattercarpet\",\"marker\":{\"colorbar\":{\"outlinewidth\":0,\"ticks\":\"\"}}}],\"carpet\":[{\"aaxis\":{\"endlinecolor\":\"#2a3f5f\",\"gridcolor\":\"white\",\"linecolor\":\"white\",\"minorgridcolor\":\"white\",\"startlinecolor\":\"#2a3f5f\"},\"baxis\":{\"endlinecolor\":\"#2a3f5f\",\"gridcolor\":\"white\",\"linecolor\":\"white\",\"minorgridcolor\":\"white\",\"startlinecolor\":\"#2a3f5f\"},\"type\":\"carpet\"}],\"table\":[{\"cells\":{\"fill\":{\"color\":\"#EBF0F8\"},\"line\":{\"color\":\"white\"}},\"header\":{\"fill\":{\"color\":\"#C8D4E3\"},\"line\":{\"color\":\"white\"}},\"type\":\"table\"}],\"barpolar\":[{\"marker\":{\"line\":{\"color\":\"#E5ECF6\",\"width\":0.5},\"pattern\":{\"fillmode\":\"overlay\",\"size\":10,\"solidity\":0.2}},\"type\":\"barpolar\"}],\"pie\":[{\"automargin\":true,\"type\":\"pie\"}]},\"layout\":{\"autotypenumbers\":\"strict\",\"colorway\":[\"#636efa\",\"#EF553B\",\"#00cc96\",\"#ab63fa\",\"#FFA15A\",\"#19d3f3\",\"#FF6692\",\"#B6E880\",\"#FF97FF\",\"#FECB52\"],\"font\":{\"color\":\"#2a3f5f\"},\"hovermode\":\"closest\",\"hoverlabel\":{\"align\":\"left\"},\"paper_bgcolor\":\"white\",\"plot_bgcolor\":\"#E5ECF6\",\"polar\":{\"bgcolor\":\"#E5ECF6\",\"angularaxis\":{\"gridcolor\":\"white\",\"linecolor\":\"white\",\"ticks\":\"\"},\"radialaxis\":{\"gridcolor\":\"white\",\"linecolor\":\"white\",\"ticks\":\"\"}},\"ternary\":{\"bgcolor\":\"#E5ECF6\",\"aaxis\":{\"gridcolor\":\"white\",\"linecolor\":\"white\",\"ticks\":\"\"},\"baxis\":{\"gridcolor\":\"white\",\"linecolor\":\"white\",\"ticks\":\"\"},\"caxis\":{\"gridcolor\":\"white\",\"linecolor\":\"white\",\"ticks\":\"\"}},\"coloraxis\":{\"colorbar\":{\"outlinewidth\":0,\"ticks\":\"\"}},\"colorscale\":{\"sequential\":[[0.0,\"#0d0887\"],[0.1111111111111111,\"#46039f\"],[0.2222222222222222,\"#7201a8\"],[0.3333333333333333,\"#9c179e\"],[0.4444444444444444,\"#bd3786\"],[0.5555555555555556,\"#d8576b\"],[0.6666666666666666,\"#ed7953\"],[0.7777777777777778,\"#fb9f3a\"],[0.8888888888888888,\"#fdca26\"],[1.0,\"#f0f921\"]],\"sequentialminus\":[[0.0,\"#0d0887\"],[0.1111111111111111,\"#46039f\"],[0.2222222222222222,\"#7201a8\"],[0.3333333333333333,\"#9c179e\"],[0.4444444444444444,\"#bd3786\"],[0.5555555555555556,\"#d8576b\"],[0.6666666666666666,\"#ed7953\"],[0.7777777777777778,\"#fb9f3a\"],[0.8888888888888888,\"#fdca26\"],[1.0,\"#f0f921\"]],\"diverging\":[[0,\"#8e0152\"],[0.1,\"#c51b7d\"],[0.2,\"#de77ae\"],[0.3,\"#f1b6da\"],[0.4,\"#fde0ef\"],[0.5,\"#f7f7f7\"],[0.6,\"#e6f5d0\"],[0.7,\"#b8e186\"],[0.8,\"#7fbc41\"],[0.9,\"#4d9221\"],[1,\"#276419\"]]},\"xaxis\":{\"gridcolor\":\"white\",\"linecolor\":\"white\",\"ticks\":\"\",\"title\":{\"standoff\":15},\"zerolinecolor\":\"white\",\"automargin\":true,\"zerolinewidth\":2},\"yaxis\":{\"gridcolor\":\"white\",\"linecolor\":\"white\",\"ticks\":\"\",\"title\":{\"standoff\":15},\"zerolinecolor\":\"white\",\"automargin\":true,\"zerolinewidth\":2},\"scene\":{\"xaxis\":{\"backgroundcolor\":\"#E5ECF6\",\"gridcolor\":\"white\",\"linecolor\":\"white\",\"showbackground\":true,\"ticks\":\"\",\"zerolinecolor\":\"white\",\"gridwidth\":2},\"yaxis\":{\"backgroundcolor\":\"#E5ECF6\",\"gridcolor\":\"white\",\"linecolor\":\"white\",\"showbackground\":true,\"ticks\":\"\",\"zerolinecolor\":\"white\",\"gridwidth\":2},\"zaxis\":{\"backgroundcolor\":\"#E5ECF6\",\"gridcolor\":\"white\",\"linecolor\":\"white\",\"showbackground\":true,\"ticks\":\"\",\"zerolinecolor\":\"white\",\"gridwidth\":2}},\"shapedefaults\":{\"line\":{\"color\":\"#2a3f5f\"}},\"annotationdefaults\":{\"arrowcolor\":\"#2a3f5f\",\"arrowhead\":0,\"arrowwidth\":1},\"geo\":{\"bgcolor\":\"white\",\"landcolor\":\"#E5ECF6\",\"subunitcolor\":\"white\",\"showland\":true,\"showlakes\":true,\"lakecolor\":\"white\"},\"title\":{\"x\":0.05},\"mapbox\":{\"style\":\"light\"}}},\"scene\":{\"domain\":{\"x\":[0.0,1.0],\"y\":[0.0,1.0]},\"xaxis\":{\"title\":{\"text\":\"dispns\"}},\"yaxis\":{\"title\":{\"text\":\"dispew\"}},\"zaxis\":{\"title\":{\"text\":\"neg_tvd\"}}},\"legend\":{\"title\":{\"text\":\"Well\"},\"tracegroupgap\":0},\"margin\":{\"t\":60}},                        {\"responsive\": true}                    ).then(function(){\n",
       "                            \n",
       "var gd = document.getElementById('4da522bd-56ca-46bb-afa2-78a6b3881339');\n",
       "var x = new MutationObserver(function (mutations, observer) {{\n",
       "        var display = window.getComputedStyle(gd).display;\n",
       "        if (!display || display === 'none') {{\n",
       "            console.log([gd, 'removed!']);\n",
       "            Plotly.purge(gd);\n",
       "            observer.disconnect();\n",
       "        }}\n",
       "}});\n",
       "\n",
       "// Listen for the removal of the full notebook cells\n",
       "var notebookContainer = gd.closest('#notebook-container');\n",
       "if (notebookContainer) {{\n",
       "    x.observe(notebookContainer, {childList: true});\n",
       "}}\n",
       "\n",
       "// Listen for the clearing of the current output cell\n",
       "var outputEl = gd.closest('.output');\n",
       "if (outputEl) {{\n",
       "    x.observe(outputEl, {childList: true});\n",
       "}}\n",
       "\n",
       "                        })                };                });            </script>        </div>"
      ]
     },
     "metadata": {},
     "output_type": "display_data"
    }
   ],
   "source": [
    "fig = px.line_3d(df_all_wells, 'dispns', 'dispew', 'neg_tvd', color=\"Well\", line_dash=\"Well\")\n",
    "fig.show()"
   ]
  },
  {
   "cell_type": "markdown",
   "metadata": {
    "pycharm": {
     "name": "#%% md\n"
    }
   },
   "source": [
    "# Plot well F-14"
   ]
  },
  {
   "cell_type": "code",
   "execution_count": null,
   "metadata": {
    "pycharm": {
     "name": "#%%\n"
    }
   },
   "outputs": [],
   "source": [
    "df_all_wells[df_all_wells['Well']=='F-14']"
   ]
  },
  {
   "cell_type": "code",
   "execution_count": 51,
   "metadata": {
    "pycharm": {
     "name": "#%%\n"
    }
   },
   "outputs": [
    {
     "data": {
      "application/vnd.plotly.v1+json": {
       "config": {
        "plotlyServerURL": "https://plot.ly"
       },
       "data": [
        {
         "hovertemplate": "dispns=%{x}<br>dispew=%{y}<br>neg_tvd=%{z}<extra></extra>",
         "legendgroup": "",
         "line": {
          "color": "#636efa",
          "dash": "solid"
         },
         "marker": {
          "symbol": "circle"
         },
         "mode": "lines",
         "name": "",
         "scene": "scene",
         "showlegend": false,
         "type": "scatter3d",
         "x": [
          0,
          0,
          0.0143710699409874,
          0.169309503629925,
          0.374321647704972,
          0.739888422741262,
          1.20541661487409,
          1.62877722055241,
          1.87948579034528,
          2.08768890936401,
          2.75213663726645,
          4.00791411471262,
          5.43861482501488,
          6.38410848609754,
          6.68107471036173,
          6.73180738617879,
          6.77567421082989,
          6.80372052971979,
          6.77453166659657,
          6.58164639817263,
          6.26610596741754,
          5.98635286438415,
          5.77775189222533,
          5.61560941357944,
          5.46124549782024,
          5.3072801921169,
          5.15463490517077,
          5.00819455360802,
          4.87274533387115,
          4.73918034047321,
          4.6060446240895,
          4.47328692261799,
          4.37040327944815,
          4.29813037634326,
          4.22613528382715,
          4.15255885450024,
          4.0771150733325,
          3.99793250967648,
          3.91726516930619,
          3.82851933405731,
          3.73176005354015,
          3.63667913214344,
          3.5424223813762,
          3.44917259681555,
          3.35832487632488,
          3.30280151406617,
          3.28277248050398,
          3.26586717116225,
          3.24491379006915,
          3.19574930251374,
          3.16575539701327,
          3.76957518918069,
          5.70684077682469,
          9.70702614707623,
          15.0336842771564,
          20.4377719341129,
          26.3751575100354,
          33.4698856520488,
          41.8758501377009,
          51.5782770905036,
          61.6684099741973,
          71.9549706808633,
          82.5835896775138,
          94.0623048403819,
          106.432945419662,
          112.616364757553,
          124.436336091797,
          139.068756070808,
          154.821358771367,
          169.751782467246,
          184.993105622227,
          201.500294460709,
          218.564956351784,
          237.020797683954,
          254.056573230842,
          267.947391055434,
          279.177230599581,
          289.728101145801,
          298.690997316708,
          305.28693698497,
          309.691652979367,
          313.00389775677,
          316.003130629621,
          318.976370597778,
          321.620345582468,
          323.063039988277,
          323.360281185364,
          322.940909448737,
          321.765987320306,
          319.865899945424,
          317.818312433409,
          315.807108992382,
          315.250305968037,
          314.240129049548
         ],
         "y": [
          0,
          0,
          0.00136352753413607,
          0.0785375175852996,
          0.332375545163661,
          0.999863431048733,
          1.98759456681054,
          3.12342054573864,
          5.03043164337241,
          7.81043231182724,
          10.6305777578051,
          12.8628025687149,
          14.1163813917985,
          14.5290452812992,
          14.6863216056839,
          14.8619740085639,
          15.0435594068983,
          15.2380126138586,
          15.4576861196083,
          15.6314891460742,
          15.7437735560969,
          15.824805229601,
          15.8762606444543,
          15.9247091376299,
          15.9600106152016,
          15.9197891554345,
          15.8185062413197,
          15.7543256847902,
          15.740256613856,
          15.7497486714726,
          15.7646469474491,
          15.782537518176,
          15.8439127778216,
          15.948229742737,
          16.0523591096737,
          16.1557764823731,
          16.2574172040903,
          16.3565897387663,
          16.4541691280195,
          16.4565038842625,
          16.3638446479968,
          16.2699674841672,
          16.1747683240899,
          16.0790614445857,
          15.9806107022974,
          15.8647245372483,
          15.7326008310546,
          15.5997142417999,
          15.4678666244209,
          15.3444158337583,
          15.2324186645998,
          15.3092011826143,
          15.8433323739443,
          17.1477095730669,
          19.0416750943801,
          21.1289280178108,
          23.6545287256478,
          27.079651288662,
          31.4891859828484,
          37.0286749116309,
          44.552605587536,
          55.2083446987141,
          69.3346504703399,
          86.1431964613441,
          103.786309102042,
          112.521875677666,
          129.441052301025,
          150.743935125802,
          173.546689800656,
          195.839675828419,
          220.470523536275,
          248.011721599192,
          276.278946083373,
          307.17444344747,
          340.040273463496,
          375.101552274624,
          410.814958071114,
          448.727788483105,
          486.64797876085,
          524.92890910543,
          564.26449720681,
          605.024722107804,
          643.813354732719,
          682.193308612838,
          719.806500866782,
          756.808127038617,
          791.068269628746,
          826.525030498725,
          859.236158404162,
          891.305938199183,
          921.744721389101,
          952.63406670219,
          961.084085760183,
          976.537743230292
         ],
         "z": [
          0,
          -145.899993896484,
          -155.089981220949,
          -195.439595077765,
          -235.798223592277,
          -276.19060818526,
          -316.575835135076,
          -356.857516485121,
          -397.20990356073,
          -437.513324909413,
          -477.708429538265,
          -518.026227381835,
          -558.279924730908,
          -598.665725241313,
          -639.064108545793,
          -679.363681537598,
          -719.763273927723,
          -760.062781846055,
          -800.462189194783,
          -840.861244188675,
          -881.259880236818,
          -921.558805365692,
          -961.958253946647,
          -1002.35786207882,
          -1042.75751468464,
          -1083.05723078496,
          -1123.45683965631,
          -1163.75644489087,
          -1204.15623825376,
          -1244.55604068829,
          -1284.95584297949,
          -1325.35564529047,
          -1365.65538326256,
          -1406.05520833819,
          -1446.35505831764,
          -1486.75476129601,
          -1527.05461130539,
          -1567.45443638376,
          -1607.75416427004,
          -1648.15405340708,
          -1688.55385568991,
          -1728.85368298669,
          -1769.25336320622,
          -1809.55319048624,
          -1849.95299278751,
          -1890.35280691562,
          -1930.65251210437,
          -1971.05231441572,
          -2011.35214196449,
          -2052.05187392877,
          -2092.05169925389,
          -2132.44541333239,
          -2172.69273978793,
          -2212.8649245948,
          -2252.76618420602,
          -2292.74877712013,
          -2332.52730655573,
          -2372.1486026978,
          -2411.31165098334,
          -2450.23678595658,
          -2488.51254516192,
          -2526.0843738624,
          -2562.39529996428,
          -2597.2835478869,
          -2629.30264378683,
          -2643.77427480357,
          -2669.61007909459,
          -2700.38836179372,
          -2733.56502540135,
          -2763.70135845333,
          -2791.14845629349,
          -2816.37968953962,
          -2837.6262683444,
          -2856.59307984919,
          -2873.41320519383,
          -2888.45717671982,
          -2901.4983385612,
          -2913.30163788611,
          -2922.85529798751,
          -2930.23371758395,
          -2936.56560153726,
          -2944.51841812104,
          -2955.36245085386,
          -2968.13820742411,
          -2982.11664819944,
          -2998.1293120168,
          -3015.16725467832,
          -3036.08094120378,
          -3059.52952350339,
          -3086.32612091838,
          -3112.68760179472,
          -3138.72625749636,
          -3145.77806203533,
          -3158.65359256608
         ]
        }
       ],
       "layout": {
        "legend": {
         "tracegroupgap": 0
        },
        "margin": {
         "t": 60
        },
        "scene": {
         "domain": {
          "x": [
           0,
           1
          ],
          "y": [
           0,
           1
          ]
         },
         "xaxis": {
          "title": {
           "text": "dispns"
          }
         },
         "yaxis": {
          "title": {
           "text": "dispew"
          }
         },
         "zaxis": {
          "title": {
           "text": "neg_tvd"
          }
         }
        },
        "template": {
         "data": {
          "bar": [
           {
            "error_x": {
             "color": "#2a3f5f"
            },
            "error_y": {
             "color": "#2a3f5f"
            },
            "marker": {
             "line": {
              "color": "#E5ECF6",
              "width": 0.5
             },
             "pattern": {
              "fillmode": "overlay",
              "size": 10,
              "solidity": 0.2
             }
            },
            "type": "bar"
           }
          ],
          "barpolar": [
           {
            "marker": {
             "line": {
              "color": "#E5ECF6",
              "width": 0.5
             },
             "pattern": {
              "fillmode": "overlay",
              "size": 10,
              "solidity": 0.2
             }
            },
            "type": "barpolar"
           }
          ],
          "carpet": [
           {
            "aaxis": {
             "endlinecolor": "#2a3f5f",
             "gridcolor": "white",
             "linecolor": "white",
             "minorgridcolor": "white",
             "startlinecolor": "#2a3f5f"
            },
            "baxis": {
             "endlinecolor": "#2a3f5f",
             "gridcolor": "white",
             "linecolor": "white",
             "minorgridcolor": "white",
             "startlinecolor": "#2a3f5f"
            },
            "type": "carpet"
           }
          ],
          "choropleth": [
           {
            "colorbar": {
             "outlinewidth": 0,
             "ticks": ""
            },
            "type": "choropleth"
           }
          ],
          "contour": [
           {
            "colorbar": {
             "outlinewidth": 0,
             "ticks": ""
            },
            "colorscale": [
             [
              0,
              "#0d0887"
             ],
             [
              0.1111111111111111,
              "#46039f"
             ],
             [
              0.2222222222222222,
              "#7201a8"
             ],
             [
              0.3333333333333333,
              "#9c179e"
             ],
             [
              0.4444444444444444,
              "#bd3786"
             ],
             [
              0.5555555555555556,
              "#d8576b"
             ],
             [
              0.6666666666666666,
              "#ed7953"
             ],
             [
              0.7777777777777778,
              "#fb9f3a"
             ],
             [
              0.8888888888888888,
              "#fdca26"
             ],
             [
              1,
              "#f0f921"
             ]
            ],
            "type": "contour"
           }
          ],
          "contourcarpet": [
           {
            "colorbar": {
             "outlinewidth": 0,
             "ticks": ""
            },
            "type": "contourcarpet"
           }
          ],
          "heatmap": [
           {
            "colorbar": {
             "outlinewidth": 0,
             "ticks": ""
            },
            "colorscale": [
             [
              0,
              "#0d0887"
             ],
             [
              0.1111111111111111,
              "#46039f"
             ],
             [
              0.2222222222222222,
              "#7201a8"
             ],
             [
              0.3333333333333333,
              "#9c179e"
             ],
             [
              0.4444444444444444,
              "#bd3786"
             ],
             [
              0.5555555555555556,
              "#d8576b"
             ],
             [
              0.6666666666666666,
              "#ed7953"
             ],
             [
              0.7777777777777778,
              "#fb9f3a"
             ],
             [
              0.8888888888888888,
              "#fdca26"
             ],
             [
              1,
              "#f0f921"
             ]
            ],
            "type": "heatmap"
           }
          ],
          "heatmapgl": [
           {
            "colorbar": {
             "outlinewidth": 0,
             "ticks": ""
            },
            "colorscale": [
             [
              0,
              "#0d0887"
             ],
             [
              0.1111111111111111,
              "#46039f"
             ],
             [
              0.2222222222222222,
              "#7201a8"
             ],
             [
              0.3333333333333333,
              "#9c179e"
             ],
             [
              0.4444444444444444,
              "#bd3786"
             ],
             [
              0.5555555555555556,
              "#d8576b"
             ],
             [
              0.6666666666666666,
              "#ed7953"
             ],
             [
              0.7777777777777778,
              "#fb9f3a"
             ],
             [
              0.8888888888888888,
              "#fdca26"
             ],
             [
              1,
              "#f0f921"
             ]
            ],
            "type": "heatmapgl"
           }
          ],
          "histogram": [
           {
            "marker": {
             "pattern": {
              "fillmode": "overlay",
              "size": 10,
              "solidity": 0.2
             }
            },
            "type": "histogram"
           }
          ],
          "histogram2d": [
           {
            "colorbar": {
             "outlinewidth": 0,
             "ticks": ""
            },
            "colorscale": [
             [
              0,
              "#0d0887"
             ],
             [
              0.1111111111111111,
              "#46039f"
             ],
             [
              0.2222222222222222,
              "#7201a8"
             ],
             [
              0.3333333333333333,
              "#9c179e"
             ],
             [
              0.4444444444444444,
              "#bd3786"
             ],
             [
              0.5555555555555556,
              "#d8576b"
             ],
             [
              0.6666666666666666,
              "#ed7953"
             ],
             [
              0.7777777777777778,
              "#fb9f3a"
             ],
             [
              0.8888888888888888,
              "#fdca26"
             ],
             [
              1,
              "#f0f921"
             ]
            ],
            "type": "histogram2d"
           }
          ],
          "histogram2dcontour": [
           {
            "colorbar": {
             "outlinewidth": 0,
             "ticks": ""
            },
            "colorscale": [
             [
              0,
              "#0d0887"
             ],
             [
              0.1111111111111111,
              "#46039f"
             ],
             [
              0.2222222222222222,
              "#7201a8"
             ],
             [
              0.3333333333333333,
              "#9c179e"
             ],
             [
              0.4444444444444444,
              "#bd3786"
             ],
             [
              0.5555555555555556,
              "#d8576b"
             ],
             [
              0.6666666666666666,
              "#ed7953"
             ],
             [
              0.7777777777777778,
              "#fb9f3a"
             ],
             [
              0.8888888888888888,
              "#fdca26"
             ],
             [
              1,
              "#f0f921"
             ]
            ],
            "type": "histogram2dcontour"
           }
          ],
          "mesh3d": [
           {
            "colorbar": {
             "outlinewidth": 0,
             "ticks": ""
            },
            "type": "mesh3d"
           }
          ],
          "parcoords": [
           {
            "line": {
             "colorbar": {
              "outlinewidth": 0,
              "ticks": ""
             }
            },
            "type": "parcoords"
           }
          ],
          "pie": [
           {
            "automargin": true,
            "type": "pie"
           }
          ],
          "scatter": [
           {
            "fillpattern": {
             "fillmode": "overlay",
             "size": 10,
             "solidity": 0.2
            },
            "type": "scatter"
           }
          ],
          "scatter3d": [
           {
            "line": {
             "colorbar": {
              "outlinewidth": 0,
              "ticks": ""
             }
            },
            "marker": {
             "colorbar": {
              "outlinewidth": 0,
              "ticks": ""
             }
            },
            "type": "scatter3d"
           }
          ],
          "scattercarpet": [
           {
            "marker": {
             "colorbar": {
              "outlinewidth": 0,
              "ticks": ""
             }
            },
            "type": "scattercarpet"
           }
          ],
          "scattergeo": [
           {
            "marker": {
             "colorbar": {
              "outlinewidth": 0,
              "ticks": ""
             }
            },
            "type": "scattergeo"
           }
          ],
          "scattergl": [
           {
            "marker": {
             "colorbar": {
              "outlinewidth": 0,
              "ticks": ""
             }
            },
            "type": "scattergl"
           }
          ],
          "scattermapbox": [
           {
            "marker": {
             "colorbar": {
              "outlinewidth": 0,
              "ticks": ""
             }
            },
            "type": "scattermapbox"
           }
          ],
          "scatterpolar": [
           {
            "marker": {
             "colorbar": {
              "outlinewidth": 0,
              "ticks": ""
             }
            },
            "type": "scatterpolar"
           }
          ],
          "scatterpolargl": [
           {
            "marker": {
             "colorbar": {
              "outlinewidth": 0,
              "ticks": ""
             }
            },
            "type": "scatterpolargl"
           }
          ],
          "scatterternary": [
           {
            "marker": {
             "colorbar": {
              "outlinewidth": 0,
              "ticks": ""
             }
            },
            "type": "scatterternary"
           }
          ],
          "surface": [
           {
            "colorbar": {
             "outlinewidth": 0,
             "ticks": ""
            },
            "colorscale": [
             [
              0,
              "#0d0887"
             ],
             [
              0.1111111111111111,
              "#46039f"
             ],
             [
              0.2222222222222222,
              "#7201a8"
             ],
             [
              0.3333333333333333,
              "#9c179e"
             ],
             [
              0.4444444444444444,
              "#bd3786"
             ],
             [
              0.5555555555555556,
              "#d8576b"
             ],
             [
              0.6666666666666666,
              "#ed7953"
             ],
             [
              0.7777777777777778,
              "#fb9f3a"
             ],
             [
              0.8888888888888888,
              "#fdca26"
             ],
             [
              1,
              "#f0f921"
             ]
            ],
            "type": "surface"
           }
          ],
          "table": [
           {
            "cells": {
             "fill": {
              "color": "#EBF0F8"
             },
             "line": {
              "color": "white"
             }
            },
            "header": {
             "fill": {
              "color": "#C8D4E3"
             },
             "line": {
              "color": "white"
             }
            },
            "type": "table"
           }
          ]
         },
         "layout": {
          "annotationdefaults": {
           "arrowcolor": "#2a3f5f",
           "arrowhead": 0,
           "arrowwidth": 1
          },
          "autotypenumbers": "strict",
          "coloraxis": {
           "colorbar": {
            "outlinewidth": 0,
            "ticks": ""
           }
          },
          "colorscale": {
           "diverging": [
            [
             0,
             "#8e0152"
            ],
            [
             0.1,
             "#c51b7d"
            ],
            [
             0.2,
             "#de77ae"
            ],
            [
             0.3,
             "#f1b6da"
            ],
            [
             0.4,
             "#fde0ef"
            ],
            [
             0.5,
             "#f7f7f7"
            ],
            [
             0.6,
             "#e6f5d0"
            ],
            [
             0.7,
             "#b8e186"
            ],
            [
             0.8,
             "#7fbc41"
            ],
            [
             0.9,
             "#4d9221"
            ],
            [
             1,
             "#276419"
            ]
           ],
           "sequential": [
            [
             0,
             "#0d0887"
            ],
            [
             0.1111111111111111,
             "#46039f"
            ],
            [
             0.2222222222222222,
             "#7201a8"
            ],
            [
             0.3333333333333333,
             "#9c179e"
            ],
            [
             0.4444444444444444,
             "#bd3786"
            ],
            [
             0.5555555555555556,
             "#d8576b"
            ],
            [
             0.6666666666666666,
             "#ed7953"
            ],
            [
             0.7777777777777778,
             "#fb9f3a"
            ],
            [
             0.8888888888888888,
             "#fdca26"
            ],
            [
             1,
             "#f0f921"
            ]
           ],
           "sequentialminus": [
            [
             0,
             "#0d0887"
            ],
            [
             0.1111111111111111,
             "#46039f"
            ],
            [
             0.2222222222222222,
             "#7201a8"
            ],
            [
             0.3333333333333333,
             "#9c179e"
            ],
            [
             0.4444444444444444,
             "#bd3786"
            ],
            [
             0.5555555555555556,
             "#d8576b"
            ],
            [
             0.6666666666666666,
             "#ed7953"
            ],
            [
             0.7777777777777778,
             "#fb9f3a"
            ],
            [
             0.8888888888888888,
             "#fdca26"
            ],
            [
             1,
             "#f0f921"
            ]
           ]
          },
          "colorway": [
           "#636efa",
           "#EF553B",
           "#00cc96",
           "#ab63fa",
           "#FFA15A",
           "#19d3f3",
           "#FF6692",
           "#B6E880",
           "#FF97FF",
           "#FECB52"
          ],
          "font": {
           "color": "#2a3f5f"
          },
          "geo": {
           "bgcolor": "white",
           "lakecolor": "white",
           "landcolor": "#E5ECF6",
           "showlakes": true,
           "showland": true,
           "subunitcolor": "white"
          },
          "hoverlabel": {
           "align": "left"
          },
          "hovermode": "closest",
          "mapbox": {
           "style": "light"
          },
          "paper_bgcolor": "white",
          "plot_bgcolor": "#E5ECF6",
          "polar": {
           "angularaxis": {
            "gridcolor": "white",
            "linecolor": "white",
            "ticks": ""
           },
           "bgcolor": "#E5ECF6",
           "radialaxis": {
            "gridcolor": "white",
            "linecolor": "white",
            "ticks": ""
           }
          },
          "scene": {
           "xaxis": {
            "backgroundcolor": "#E5ECF6",
            "gridcolor": "white",
            "gridwidth": 2,
            "linecolor": "white",
            "showbackground": true,
            "ticks": "",
            "zerolinecolor": "white"
           },
           "yaxis": {
            "backgroundcolor": "#E5ECF6",
            "gridcolor": "white",
            "gridwidth": 2,
            "linecolor": "white",
            "showbackground": true,
            "ticks": "",
            "zerolinecolor": "white"
           },
           "zaxis": {
            "backgroundcolor": "#E5ECF6",
            "gridcolor": "white",
            "gridwidth": 2,
            "linecolor": "white",
            "showbackground": true,
            "ticks": "",
            "zerolinecolor": "white"
           }
          },
          "shapedefaults": {
           "line": {
            "color": "#2a3f5f"
           }
          },
          "ternary": {
           "aaxis": {
            "gridcolor": "white",
            "linecolor": "white",
            "ticks": ""
           },
           "baxis": {
            "gridcolor": "white",
            "linecolor": "white",
            "ticks": ""
           },
           "bgcolor": "#E5ECF6",
           "caxis": {
            "gridcolor": "white",
            "linecolor": "white",
            "ticks": ""
           }
          },
          "title": {
           "x": 0.05
          },
          "xaxis": {
           "automargin": true,
           "gridcolor": "white",
           "linecolor": "white",
           "ticks": "",
           "title": {
            "standoff": 15
           },
           "zerolinecolor": "white",
           "zerolinewidth": 2
          },
          "yaxis": {
           "automargin": true,
           "gridcolor": "white",
           "linecolor": "white",
           "ticks": "",
           "title": {
            "standoff": 15
           },
           "zerolinecolor": "white",
           "zerolinewidth": 2
          }
         }
        }
       }
      },
      "image/png": "[encoded data removed]",
      "text/html": [
       "<div>                            <div id=\"36cb038f-52d5-45d0-b57f-78a7707dccae\" class=\"plotly-graph-div\" style=\"height:525px; width:100%;\"></div>            <script type=\"text/javascript\">                require([\"plotly\"], function(Plotly) {                    window.PLOTLYENV=window.PLOTLYENV || {};                                    if (document.getElementById(\"36cb038f-52d5-45d0-b57f-78a7707dccae\")) {                    Plotly.newPlot(                        \"36cb038f-52d5-45d0-b57f-78a7707dccae\",                        [{\"hovertemplate\":\"dispns=%{x}\\u003cbr\\u003edispew=%{y}\\u003cbr\\u003eneg_tvd=%{z}\\u003cextra\\u003e\\u003c\\u002fextra\\u003e\",\"legendgroup\":\"\",\"line\":{\"color\":\"#636efa\",\"dash\":\"solid\"},\"marker\":{\"symbol\":\"circle\"},\"mode\":\"lines\",\"name\":\"\",\"scene\":\"scene\",\"showlegend\":false,\"x\":[0.0,0.0,0.0143710699409874,0.169309503629925,0.374321647704972,0.739888422741262,1.20541661487409,1.62877722055241,1.87948579034528,2.08768890936401,2.75213663726645,4.00791411471262,5.43861482501488,6.38410848609754,6.68107471036173,6.73180738617879,6.77567421082989,6.80372052971979,6.77453166659657,6.58164639817263,6.26610596741754,5.98635286438415,5.77775189222533,5.61560941357944,5.46124549782024,5.3072801921169,5.15463490517077,5.00819455360802,4.87274533387115,4.73918034047321,4.6060446240895,4.47328692261799,4.37040327944815,4.29813037634326,4.22613528382715,4.15255885450024,4.0771150733325,3.99793250967648,3.91726516930619,3.82851933405731,3.73176005354015,3.63667913214344,3.5424223813762,3.44917259681555,3.35832487632488,3.30280151406617,3.28277248050398,3.26586717116225,3.24491379006915,3.19574930251374,3.16575539701327,3.76957518918069,5.70684077682469,9.70702614707623,15.0336842771564,20.4377719341129,26.3751575100354,33.4698856520488,41.8758501377009,51.5782770905036,61.6684099741973,71.9549706808633,82.5835896775138,94.0623048403819,106.432945419662,112.616364757553,124.436336091797,139.068756070808,154.821358771367,169.751782467246,184.993105622227,201.500294460709,218.564956351784,237.020797683954,254.056573230842,267.947391055434,279.177230599581,289.728101145801,298.690997316708,305.28693698497,309.691652979367,313.00389775677,316.003130629621,318.976370597778,321.620345582468,323.063039988277,323.360281185364,322.940909448737,321.765987320306,319.865899945424,317.818312433409,315.807108992382,315.250305968037,314.240129049548],\"y\":[0.0,0.0,0.00136352753413607,0.0785375175852996,0.332375545163661,0.999863431048733,1.98759456681054,3.12342054573864,5.03043164337241,7.81043231182724,10.6305777578051,12.8628025687149,14.1163813917985,14.5290452812992,14.6863216056839,14.8619740085639,15.0435594068983,15.2380126138586,15.4576861196083,15.6314891460742,15.7437735560969,15.824805229601,15.8762606444543,15.9247091376299,15.9600106152016,15.9197891554345,15.8185062413197,15.7543256847902,15.740256613856,15.7497486714726,15.7646469474491,15.782537518176,15.8439127778216,15.948229742737,16.0523591096737,16.1557764823731,16.2574172040903,16.3565897387663,16.4541691280195,16.4565038842625,16.3638446479968,16.2699674841672,16.1747683240899,16.0790614445857,15.9806107022974,15.8647245372483,15.7326008310546,15.5997142417999,15.4678666244209,15.3444158337583,15.2324186645998,15.3092011826143,15.8433323739443,17.1477095730669,19.0416750943801,21.1289280178108,23.6545287256478,27.079651288662,31.4891859828484,37.0286749116309,44.552605587536,55.2083446987141,69.3346504703399,86.1431964613441,103.786309102042,112.521875677666,129.441052301025,150.743935125802,173.546689800656,195.839675828419,220.470523536275,248.011721599192,276.278946083373,307.17444344747,340.040273463496,375.101552274624,410.814958071114,448.727788483105,486.64797876085,524.92890910543,564.26449720681,605.024722107804,643.813354732719,682.193308612838,719.806500866782,756.808127038617,791.068269628746,826.525030498725,859.236158404162,891.305938199183,921.744721389101,952.63406670219,961.084085760183,976.537743230292],\"z\":[-0.0,-145.899993896484,-155.089981220949,-195.439595077765,-235.798223592277,-276.19060818526,-316.575835135076,-356.857516485121,-397.20990356073,-437.513324909413,-477.708429538265,-518.026227381835,-558.279924730908,-598.665725241313,-639.064108545793,-679.363681537598,-719.763273927723,-760.062781846055,-800.462189194783,-840.861244188675,-881.259880236818,-921.558805365692,-961.958253946647,-1002.35786207882,-1042.75751468464,-1083.05723078496,-1123.45683965631,-1163.75644489087,-1204.15623825376,-1244.55604068829,-1284.95584297949,-1325.35564529047,-1365.65538326256,-1406.05520833819,-1446.35505831764,-1486.75476129601,-1527.05461130539,-1567.45443638376,-1607.75416427004,-1648.15405340708,-1688.55385568991,-1728.85368298669,-1769.25336320622,-1809.55319048624,-1849.95299278751,-1890.35280691562,-1930.65251210437,-1971.05231441572,-2011.35214196449,-2052.05187392877,-2092.05169925389,-2132.44541333239,-2172.69273978793,-2212.8649245948,-2252.76618420602,-2292.74877712013,-2332.52730655573,-2372.1486026978,-2411.31165098334,-2450.23678595658,-2488.51254516192,-2526.0843738624,-2562.39529996428,-2597.2835478869,-2629.30264378683,-2643.77427480357,-2669.61007909459,-2700.38836179372,-2733.56502540135,-2763.70135845333,-2791.14845629349,-2816.37968953962,-2837.6262683444,-2856.59307984919,-2873.41320519383,-2888.45717671982,-2901.4983385612,-2913.30163788611,-2922.85529798751,-2930.23371758395,-2936.56560153726,-2944.51841812104,-2955.36245085386,-2968.13820742411,-2982.11664819944,-2998.1293120168,-3015.16725467832,-3036.08094120378,-3059.52952350339,-3086.32612091838,-3112.68760179472,-3138.72625749636,-3145.77806203533,-3158.65359256608],\"type\":\"scatter3d\"}],                        {\"template\":{\"data\":{\"histogram2dcontour\":[{\"type\":\"histogram2dcontour\",\"colorbar\":{\"outlinewidth\":0,\"ticks\":\"\"},\"colorscale\":[[0.0,\"#0d0887\"],[0.1111111111111111,\"#46039f\"],[0.2222222222222222,\"#7201a8\"],[0.3333333333333333,\"#9c179e\"],[0.4444444444444444,\"#bd3786\"],[0.5555555555555556,\"#d8576b\"],[0.6666666666666666,\"#ed7953\"],[0.7777777777777778,\"#fb9f3a\"],[0.8888888888888888,\"#fdca26\"],[1.0,\"#f0f921\"]]}],\"choropleth\":[{\"type\":\"choropleth\",\"colorbar\":{\"outlinewidth\":0,\"ticks\":\"\"}}],\"histogram2d\":[{\"type\":\"histogram2d\",\"colorbar\":{\"outlinewidth\":0,\"ticks\":\"\"},\"colorscale\":[[0.0,\"#0d0887\"],[0.1111111111111111,\"#46039f\"],[0.2222222222222222,\"#7201a8\"],[0.3333333333333333,\"#9c179e\"],[0.4444444444444444,\"#bd3786\"],[0.5555555555555556,\"#d8576b\"],[0.6666666666666666,\"#ed7953\"],[0.7777777777777778,\"#fb9f3a\"],[0.8888888888888888,\"#fdca26\"],[1.0,\"#f0f921\"]]}],\"heatmap\":[{\"type\":\"heatmap\",\"colorbar\":{\"outlinewidth\":0,\"ticks\":\"\"},\"colorscale\":[[0.0,\"#0d0887\"],[0.1111111111111111,\"#46039f\"],[0.2222222222222222,\"#7201a8\"],[0.3333333333333333,\"#9c179e\"],[0.4444444444444444,\"#bd3786\"],[0.5555555555555556,\"#d8576b\"],[0.6666666666666666,\"#ed7953\"],[0.7777777777777778,\"#fb9f3a\"],[0.8888888888888888,\"#fdca26\"],[1.0,\"#f0f921\"]]}],\"heatmapgl\":[{\"type\":\"heatmapgl\",\"colorbar\":{\"outlinewidth\":0,\"ticks\":\"\"},\"colorscale\":[[0.0,\"#0d0887\"],[0.1111111111111111,\"#46039f\"],[0.2222222222222222,\"#7201a8\"],[0.3333333333333333,\"#9c179e\"],[0.4444444444444444,\"#bd3786\"],[0.5555555555555556,\"#d8576b\"],[0.6666666666666666,\"#ed7953\"],[0.7777777777777778,\"#fb9f3a\"],[0.8888888888888888,\"#fdca26\"],[1.0,\"#f0f921\"]]}],\"contourcarpet\":[{\"type\":\"contourcarpet\",\"colorbar\":{\"outlinewidth\":0,\"ticks\":\"\"}}],\"contour\":[{\"type\":\"contour\",\"colorbar\":{\"outlinewidth\":0,\"ticks\":\"\"},\"colorscale\":[[0.0,\"#0d0887\"],[0.1111111111111111,\"#46039f\"],[0.2222222222222222,\"#7201a8\"],[0.3333333333333333,\"#9c179e\"],[0.4444444444444444,\"#bd3786\"],[0.5555555555555556,\"#d8576b\"],[0.6666666666666666,\"#ed7953\"],[0.7777777777777778,\"#fb9f3a\"],[0.8888888888888888,\"#fdca26\"],[1.0,\"#f0f921\"]]}],\"surface\":[{\"type\":\"surface\",\"colorbar\":{\"outlinewidth\":0,\"ticks\":\"\"},\"colorscale\":[[0.0,\"#0d0887\"],[0.1111111111111111,\"#46039f\"],[0.2222222222222222,\"#7201a8\"],[0.3333333333333333,\"#9c179e\"],[0.4444444444444444,\"#bd3786\"],[0.5555555555555556,\"#d8576b\"],[0.6666666666666666,\"#ed7953\"],[0.7777777777777778,\"#fb9f3a\"],[0.8888888888888888,\"#fdca26\"],[1.0,\"#f0f921\"]]}],\"mesh3d\":[{\"type\":\"mesh3d\",\"colorbar\":{\"outlinewidth\":0,\"ticks\":\"\"}}],\"scatter\":[{\"fillpattern\":{\"fillmode\":\"overlay\",\"size\":10,\"solidity\":0.2},\"type\":\"scatter\"}],\"parcoords\":[{\"type\":\"parcoords\",\"line\":{\"colorbar\":{\"outlinewidth\":0,\"ticks\":\"\"}}}],\"scatterpolargl\":[{\"type\":\"scatterpolargl\",\"marker\":{\"colorbar\":{\"outlinewidth\":0,\"ticks\":\"\"}}}],\"bar\":[{\"error_x\":{\"color\":\"#2a3f5f\"},\"error_y\":{\"color\":\"#2a3f5f\"},\"marker\":{\"line\":{\"color\":\"#E5ECF6\",\"width\":0.5},\"pattern\":{\"fillmode\":\"overlay\",\"size\":10,\"solidity\":0.2}},\"type\":\"bar\"}],\"scattergeo\":[{\"type\":\"scattergeo\",\"marker\":{\"colorbar\":{\"outlinewidth\":0,\"ticks\":\"\"}}}],\"scatterpolar\":[{\"type\":\"scatterpolar\",\"marker\":{\"colorbar\":{\"outlinewidth\":0,\"ticks\":\"\"}}}],\"histogram\":[{\"marker\":{\"pattern\":{\"fillmode\":\"overlay\",\"size\":10,\"solidity\":0.2}},\"type\":\"histogram\"}],\"scattergl\":[{\"type\":\"scattergl\",\"marker\":{\"colorbar\":{\"outlinewidth\":0,\"ticks\":\"\"}}}],\"scatter3d\":[{\"type\":\"scatter3d\",\"line\":{\"colorbar\":{\"outlinewidth\":0,\"ticks\":\"\"}},\"marker\":{\"colorbar\":{\"outlinewidth\":0,\"ticks\":\"\"}}}],\"scattermapbox\":[{\"type\":\"scattermapbox\",\"marker\":{\"colorbar\":{\"outlinewidth\":0,\"ticks\":\"\"}}}],\"scatterternary\":[{\"type\":\"scatterternary\",\"marker\":{\"colorbar\":{\"outlinewidth\":0,\"ticks\":\"\"}}}],\"scattercarpet\":[{\"type\":\"scattercarpet\",\"marker\":{\"colorbar\":{\"outlinewidth\":0,\"ticks\":\"\"}}}],\"carpet\":[{\"aaxis\":{\"endlinecolor\":\"#2a3f5f\",\"gridcolor\":\"white\",\"linecolor\":\"white\",\"minorgridcolor\":\"white\",\"startlinecolor\":\"#2a3f5f\"},\"baxis\":{\"endlinecolor\":\"#2a3f5f\",\"gridcolor\":\"white\",\"linecolor\":\"white\",\"minorgridcolor\":\"white\",\"startlinecolor\":\"#2a3f5f\"},\"type\":\"carpet\"}],\"table\":[{\"cells\":{\"fill\":{\"color\":\"#EBF0F8\"},\"line\":{\"color\":\"white\"}},\"header\":{\"fill\":{\"color\":\"#C8D4E3\"},\"line\":{\"color\":\"white\"}},\"type\":\"table\"}],\"barpolar\":[{\"marker\":{\"line\":{\"color\":\"#E5ECF6\",\"width\":0.5},\"pattern\":{\"fillmode\":\"overlay\",\"size\":10,\"solidity\":0.2}},\"type\":\"barpolar\"}],\"pie\":[{\"automargin\":true,\"type\":\"pie\"}]},\"layout\":{\"autotypenumbers\":\"strict\",\"colorway\":[\"#636efa\",\"#EF553B\",\"#00cc96\",\"#ab63fa\",\"#FFA15A\",\"#19d3f3\",\"#FF6692\",\"#B6E880\",\"#FF97FF\",\"#FECB52\"],\"font\":{\"color\":\"#2a3f5f\"},\"hovermode\":\"closest\",\"hoverlabel\":{\"align\":\"left\"},\"paper_bgcolor\":\"white\",\"plot_bgcolor\":\"#E5ECF6\",\"polar\":{\"bgcolor\":\"#E5ECF6\",\"angularaxis\":{\"gridcolor\":\"white\",\"linecolor\":\"white\",\"ticks\":\"\"},\"radialaxis\":{\"gridcolor\":\"white\",\"linecolor\":\"white\",\"ticks\":\"\"}},\"ternary\":{\"bgcolor\":\"#E5ECF6\",\"aaxis\":{\"gridcolor\":\"white\",\"linecolor\":\"white\",\"ticks\":\"\"},\"baxis\":{\"gridcolor\":\"white\",\"linecolor\":\"white\",\"ticks\":\"\"},\"caxis\":{\"gridcolor\":\"white\",\"linecolor\":\"white\",\"ticks\":\"\"}},\"coloraxis\":{\"colorbar\":{\"outlinewidth\":0,\"ticks\":\"\"}},\"colorscale\":{\"sequential\":[[0.0,\"#0d0887\"],[0.1111111111111111,\"#46039f\"],[0.2222222222222222,\"#7201a8\"],[0.3333333333333333,\"#9c179e\"],[0.4444444444444444,\"#bd3786\"],[0.5555555555555556,\"#d8576b\"],[0.6666666666666666,\"#ed7953\"],[0.7777777777777778,\"#fb9f3a\"],[0.8888888888888888,\"#fdca26\"],[1.0,\"#f0f921\"]],\"sequentialminus\":[[0.0,\"#0d0887\"],[0.1111111111111111,\"#46039f\"],[0.2222222222222222,\"#7201a8\"],[0.3333333333333333,\"#9c179e\"],[0.4444444444444444,\"#bd3786\"],[0.5555555555555556,\"#d8576b\"],[0.6666666666666666,\"#ed7953\"],[0.7777777777777778,\"#fb9f3a\"],[0.8888888888888888,\"#fdca26\"],[1.0,\"#f0f921\"]],\"diverging\":[[0,\"#8e0152\"],[0.1,\"#c51b7d\"],[0.2,\"#de77ae\"],[0.3,\"#f1b6da\"],[0.4,\"#fde0ef\"],[0.5,\"#f7f7f7\"],[0.6,\"#e6f5d0\"],[0.7,\"#b8e186\"],[0.8,\"#7fbc41\"],[0.9,\"#4d9221\"],[1,\"#276419\"]]},\"xaxis\":{\"gridcolor\":\"white\",\"linecolor\":\"white\",\"ticks\":\"\",\"title\":{\"standoff\":15},\"zerolinecolor\":\"white\",\"automargin\":true,\"zerolinewidth\":2},\"yaxis\":{\"gridcolor\":\"white\",\"linecolor\":\"white\",\"ticks\":\"\",\"title\":{\"standoff\":15},\"zerolinecolor\":\"white\",\"automargin\":true,\"zerolinewidth\":2},\"scene\":{\"xaxis\":{\"backgroundcolor\":\"#E5ECF6\",\"gridcolor\":\"white\",\"linecolor\":\"white\",\"showbackground\":true,\"ticks\":\"\",\"zerolinecolor\":\"white\",\"gridwidth\":2},\"yaxis\":{\"backgroundcolor\":\"#E5ECF6\",\"gridcolor\":\"white\",\"linecolor\":\"white\",\"showbackground\":true,\"ticks\":\"\",\"zerolinecolor\":\"white\",\"gridwidth\":2},\"zaxis\":{\"backgroundcolor\":\"#E5ECF6\",\"gridcolor\":\"white\",\"linecolor\":\"white\",\"showbackground\":true,\"ticks\":\"\",\"zerolinecolor\":\"white\",\"gridwidth\":2}},\"shapedefaults\":{\"line\":{\"color\":\"#2a3f5f\"}},\"annotationdefaults\":{\"arrowcolor\":\"#2a3f5f\",\"arrowhead\":0,\"arrowwidth\":1},\"geo\":{\"bgcolor\":\"white\",\"landcolor\":\"#E5ECF6\",\"subunitcolor\":\"white\",\"showland\":true,\"showlakes\":true,\"lakecolor\":\"white\"},\"title\":{\"x\":0.05},\"mapbox\":{\"style\":\"light\"}}},\"scene\":{\"domain\":{\"x\":[0.0,1.0],\"y\":[0.0,1.0]},\"xaxis\":{\"title\":{\"text\":\"dispns\"}},\"yaxis\":{\"title\":{\"text\":\"dispew\"}},\"zaxis\":{\"title\":{\"text\":\"neg_tvd\"}}},\"legend\":{\"tracegroupgap\":0},\"margin\":{\"t\":60}},                        {\"responsive\": true}                    ).then(function(){\n",
       "                            \n",
       "var gd = document.getElementById('36cb038f-52d5-45d0-b57f-78a7707dccae');\n",
       "var x = new MutationObserver(function (mutations, observer) {{\n",
       "        var display = window.getComputedStyle(gd).display;\n",
       "        if (!display || display === 'none') {{\n",
       "            console.log([gd, 'removed!']);\n",
       "            Plotly.purge(gd);\n",
       "            observer.disconnect();\n",
       "        }}\n",
       "}});\n",
       "\n",
       "// Listen for the removal of the full notebook cells\n",
       "var notebookContainer = gd.closest('#notebook-container');\n",
       "if (notebookContainer) {{\n",
       "    x.observe(notebookContainer, {childList: true});\n",
       "}}\n",
       "\n",
       "// Listen for the clearing of the current output cell\n",
       "var outputEl = gd.closest('.output');\n",
       "if (outputEl) {{\n",
       "    x.observe(outputEl, {childList: true});\n",
       "}}\n",
       "\n",
       "                        })                };                });            </script>        </div>"
      ]
     },
     "metadata": {},
     "output_type": "display_data"
    }
   ],
   "source": [
    "fig_14 = px.line_3d(df_all_wells[df_all_wells['Well']=='F-14'], 'dispns', 'dispew', 'neg_tvd')\n",
    "fig_14.show()"
   ]
  },
  {
   "cell_type": "code",
   "execution_count": 52,
   "metadata": {
    "pycharm": {
     "name": "#%%\n"
    }
   },
   "outputs": [
    {
     "data": {
      "application/vnd.plotly.v1+json": {
       "config": {
        "plotlyServerURL": "https://plot.ly"
       },
       "data": [
        {
         "hovertemplate": "dispns=%{x}<br>dispew=%{y}<br>neg_tvd=%{z}<extra></extra>",
         "legendgroup": "",
         "line": {
          "color": "#636efa",
          "dash": "solid"
         },
         "marker": {
          "symbol": "circle"
         },
         "mode": "lines",
         "name": "",
         "scene": "scene",
         "showlegend": false,
         "type": "scatter3d",
         "x": [
          0,
          0,
          0,
          -0.00937430037960078,
          -0.0659219468531975,
          0.0830024699805438,
          -0.280829083938829,
          -1.5865457319852,
          -3.79773298580725,
          -7.90264526029032,
          -13.7734927401819,
          -20.6702580590495,
          -28.349901619647,
          -36.2523490972709,
          -44.2984736825201,
          -52.5813637408808,
          -60.792724629802,
          -68.8836226328052,
          -76.9363787182192,
          -84.8697224368899,
          -92.5379452178725,
          -99.9663147785146,
          -107.567588054714,
          -115.226156961799,
          -122.616511300573,
          -129.504329244271,
          -135.587774993058,
          -141.421623661169,
          -147.44365683764,
          -153.551921428992,
          -159.746362490858,
          -166.415426904478,
          -173.614807308693,
          -180.90444863221,
          -188.768200742858,
          -197.153413571958,
          -205.536280843081,
          -213.868837258586,
          -221.938604292067,
          -229.219609710724,
          -235.78787221693,
          -241.586996020032,
          -246.544084891687,
          -251.61716909003,
          -257.367269957248,
          -263.699604287286,
          -270.989083455174,
          -279.373483652489,
          -288.538119590875,
          -298.044032542633,
          -307.56119495685,
          -316.682961101656,
          -324.868162690837,
          -332.135992762027,
          -338.214002393799,
          -343.0564185591,
          -346.937794819257,
          -349.661970376404,
          -351.478209428275,
          -352.830499116217,
          -353.794806407749,
          -354.550435532021,
          -355.001944867441,
          -354.535195334015,
          -353.014387392838,
          -350.936042596185,
          -349.075481652378,
          -347.309963534099,
          -344.915986817939,
          -343.799712257675,
          -340.139486578146,
          -336.190094948154,
          -331.921717778447,
          -330.863151496758,
          -329.090394508462,
          -325.029894636952,
          -315.65015720847,
          -302.71471958903,
          -287.597271216882,
          -270.534014085285,
          -252.035706545065,
          -232.815253940114,
          -213.288981234497,
          -205.140741589355,
          -193.724650789764,
          -174.825472323229,
          -155.046588321387,
          -134.136999814849,
          -110.357751576322,
          -85.3938829608185,
          -57.7255417360112,
          -29.3032867703236,
          2.00890688277305,
          32.5736477227614,
          63.1791521955242,
          93.604499414182,
          122.420062709283,
          144.701000924271
         ],
         "y": [
          0,
          0,
          0,
          -0.0081575760035624,
          0.0525312114991852,
          0.305338057400394,
          0.38670311065455,
          0.335317575043737,
          0.526995767377924,
          1.07525176826545,
          1.51685562246208,
          1.5728966769556,
          1.76201123044246,
          2.7532826429332,
          4.96221235713363,
          8.58664192590011,
          13.7105613954135,
          20.2736220565668,
          28.922327321014,
          40.2181329698475,
          53.8101168721466,
          69.4226517957793,
          85.4233829129441,
          99.8841638891991,
          112.43746446,
          123.255250037477,
          132.629374247113,
          142.394134746494,
          154.629696898725,
          169.793470052295,
          187.625293825555,
          206.896464136467,
          225.64727702136,
          242.454918897687,
          259.500293404679,
          278.151968851265,
          297.527700270754,
          317.138940336851,
          337.158351398598,
          357.969262386489,
          379.561568388979,
          401.759895794093,
          424.590520981028,
          447.73045199197,
          470.673113520952,
          493.492965707567,
          516.048997549958,
          538.458140462793,
          560.657442509327,
          582.436819915062,
          603.746876416809,
          624.533796235454,
          644.816614195,
          665.239727431634,
          686.315675531927,
          707.746959949864,
          729.457212104096,
          751.327000932682,
          773.475827753299,
          795.711838619716,
          817.923695996477,
          839.896178763681,
          861.397203725646,
          882.610846009257,
          903.570486284029,
          924.373122705896,
          945.310068884927,
          966.177508645133,
          985.15039050575,
          992.166627285813,
          1012.37032951286,
          1031.10385769211,
          1049.9731730641,
          1054.50544094302,
          1061.93179948188,
          1076.0755205361,
          1097.51816982094,
          1118.39324227331,
          1137.48940886613,
          1155.15072243414,
          1170.27639110212,
          1182.24294887092,
          1191.45969870384,
          1194.46152165546,
          1198.13579761767,
          1204.86007737106,
          1214.1186001865,
          1225.85996231906,
          1240.24451262538,
          1254.51646497173,
          1268.70827738194,
          1281.73358903395,
          1294.84660085219,
          1307.33847325794,
          1319.82528228193,
          1332.20512936356,
          1343.87078070009,
          1352.89096378674
         ],
         "z": [
          0,
          -145.899993896484,
          -146,
          -154.899982329159,
          -195.299828055585,
          -235.598619795656,
          -275.994708438332,
          -316.373263396974,
          -356.610232610649,
          -396.790896906599,
          -436.757953233376,
          -476.462260778656,
          -516.124736185931,
          -555.628370774127,
          -595.155692418875,
          -634.528192725852,
          -673.646383828782,
          -712.677774336902,
          -751.302412664742,
          -789.156600650452,
          -826.415925129163,
          -862.923313831545,
          -899.118941170234,
          -936.051658927386,
          -973.729377490509,
          -1012.03615119381,
          -1050.75322374015,
          -1089.51405749682,
          -1127.53242065403,
          -1164.35586763648,
          -1200.06693353046,
          -1234.9406928032,
          -1269.98983263698,
          -1305.8785126788,
          -1341.64133835987,
          -1376.36624171803,
          -1410.81093395769,
          -1445.01709839789,
          -1479.16645864824,
          -1512.8979989401,
          -1546.40544024172,
          -1579.65635901903,
          -1612.49225970323,
          -1645.21704717808,
          -1677.84581830471,
          -1710.57617445414,
          -1743.28844350017,
          -1775.71607031035,
          -1808.20126742641,
          -1840.87303440108,
          -1873.72649330591,
          -1907.14419339083,
          -1940.99078389262,
          -1974.96231031561,
          -2008.88560496782,
          -2042.66831385393,
          -2076.51616068697,
          -2110.2538270262,
          -2143.99209936186,
          -2177.6948210556,
          -2211.4269908942,
          -2245.3204943766,
          -2279.40192663094,
          -2313.77901429914,
          -2348.28235907567,
          -2382.73523110685,
          -2417.23615990715,
          -2451.78405260208,
          -2483.80725634644,
          -2495.78929196558,
          -2530.27979253626,
          -2562.30269486186,
          -2594.46208817786,
          -2602.04823766265,
          -2614.2100918422,
          -2636.71272939606,
          -2669.93558862639,
          -2703.00679828919,
          -2735.09068011154,
          -2767.21473396531,
          -2799.69765629974,
          -2832.11738449506,
          -2865.57275424313,
          -2880.09357577753,
          -2901.5132460829,
          -2936.84851521173,
          -2970.62048449964,
          -3001.68364528821,
          -3031.92288028787,
          -3059.38448587376,
          -3086.14459411727,
          -3110.30409189147,
          -3134.65778015464,
          -3157.9716848577,
          -3181.12978405117,
          -3204.73318715138,
          -3228.0997027948,
          -3246.43130961155
         ]
        }
       ],
       "layout": {
        "legend": {
         "tracegroupgap": 0
        },
        "margin": {
         "t": 60
        },
        "scene": {
         "domain": {
          "x": [
           0,
           1
          ],
          "y": [
           0,
           1
          ]
         },
         "xaxis": {
          "title": {
           "text": "dispns"
          }
         },
         "yaxis": {
          "title": {
           "text": "dispew"
          }
         },
         "zaxis": {
          "title": {
           "text": "neg_tvd"
          }
         }
        },
        "template": {
         "data": {
          "bar": [
           {
            "error_x": {
             "color": "#2a3f5f"
            },
            "error_y": {
             "color": "#2a3f5f"
            },
            "marker": {
             "line": {
              "color": "#E5ECF6",
              "width": 0.5
             },
             "pattern": {
              "fillmode": "overlay",
              "size": 10,
              "solidity": 0.2
             }
            },
            "type": "bar"
           }
          ],
          "barpolar": [
           {
            "marker": {
             "line": {
              "color": "#E5ECF6",
              "width": 0.5
             },
             "pattern": {
              "fillmode": "overlay",
              "size": 10,
              "solidity": 0.2
             }
            },
            "type": "barpolar"
           }
          ],
          "carpet": [
           {
            "aaxis": {
             "endlinecolor": "#2a3f5f",
             "gridcolor": "white",
             "linecolor": "white",
             "minorgridcolor": "white",
             "startlinecolor": "#2a3f5f"
            },
            "baxis": {
             "endlinecolor": "#2a3f5f",
             "gridcolor": "white",
             "linecolor": "white",
             "minorgridcolor": "white",
             "startlinecolor": "#2a3f5f"
            },
            "type": "carpet"
           }
          ],
          "choropleth": [
           {
            "colorbar": {
             "outlinewidth": 0,
             "ticks": ""
            },
            "type": "choropleth"
           }
          ],
          "contour": [
           {
            "colorbar": {
             "outlinewidth": 0,
             "ticks": ""
            },
            "colorscale": [
             [
              0,
              "#0d0887"
             ],
             [
              0.1111111111111111,
              "#46039f"
             ],
             [
              0.2222222222222222,
              "#7201a8"
             ],
             [
              0.3333333333333333,
              "#9c179e"
             ],
             [
              0.4444444444444444,
              "#bd3786"
             ],
             [
              0.5555555555555556,
              "#d8576b"
             ],
             [
              0.6666666666666666,
              "#ed7953"
             ],
             [
              0.7777777777777778,
              "#fb9f3a"
             ],
             [
              0.8888888888888888,
              "#fdca26"
             ],
             [
              1,
              "#f0f921"
             ]
            ],
            "type": "contour"
           }
          ],
          "contourcarpet": [
           {
            "colorbar": {
             "outlinewidth": 0,
             "ticks": ""
            },
            "type": "contourcarpet"
           }
          ],
          "heatmap": [
           {
            "colorbar": {
             "outlinewidth": 0,
             "ticks": ""
            },
            "colorscale": [
             [
              0,
              "#0d0887"
             ],
             [
              0.1111111111111111,
              "#46039f"
             ],
             [
              0.2222222222222222,
              "#7201a8"
             ],
             [
              0.3333333333333333,
              "#9c179e"
             ],
             [
              0.4444444444444444,
              "#bd3786"
             ],
             [
              0.5555555555555556,
              "#d8576b"
             ],
             [
              0.6666666666666666,
              "#ed7953"
             ],
             [
              0.7777777777777778,
              "#fb9f3a"
             ],
             [
              0.8888888888888888,
              "#fdca26"
             ],
             [
              1,
              "#f0f921"
             ]
            ],
            "type": "heatmap"
           }
          ],
          "heatmapgl": [
           {
            "colorbar": {
             "outlinewidth": 0,
             "ticks": ""
            },
            "colorscale": [
             [
              0,
              "#0d0887"
             ],
             [
              0.1111111111111111,
              "#46039f"
             ],
             [
              0.2222222222222222,
              "#7201a8"
             ],
             [
              0.3333333333333333,
              "#9c179e"
             ],
             [
              0.4444444444444444,
              "#bd3786"
             ],
             [
              0.5555555555555556,
              "#d8576b"
             ],
             [
              0.6666666666666666,
              "#ed7953"
             ],
             [
              0.7777777777777778,
              "#fb9f3a"
             ],
             [
              0.8888888888888888,
              "#fdca26"
             ],
             [
              1,
              "#f0f921"
             ]
            ],
            "type": "heatmapgl"
           }
          ],
          "histogram": [
           {
            "marker": {
             "pattern": {
              "fillmode": "overlay",
              "size": 10,
              "solidity": 0.2
             }
            },
            "type": "histogram"
           }
          ],
          "histogram2d": [
           {
            "colorbar": {
             "outlinewidth": 0,
             "ticks": ""
            },
            "colorscale": [
             [
              0,
              "#0d0887"
             ],
             [
              0.1111111111111111,
              "#46039f"
             ],
             [
              0.2222222222222222,
              "#7201a8"
             ],
             [
              0.3333333333333333,
              "#9c179e"
             ],
             [
              0.4444444444444444,
              "#bd3786"
             ],
             [
              0.5555555555555556,
              "#d8576b"
             ],
             [
              0.6666666666666666,
              "#ed7953"
             ],
             [
              0.7777777777777778,
              "#fb9f3a"
             ],
             [
              0.8888888888888888,
              "#fdca26"
             ],
             [
              1,
              "#f0f921"
             ]
            ],
            "type": "histogram2d"
           }
          ],
          "histogram2dcontour": [
           {
            "colorbar": {
             "outlinewidth": 0,
             "ticks": ""
            },
            "colorscale": [
             [
              0,
              "#0d0887"
             ],
             [
              0.1111111111111111,
              "#46039f"
             ],
             [
              0.2222222222222222,
              "#7201a8"
             ],
             [
              0.3333333333333333,
              "#9c179e"
             ],
             [
              0.4444444444444444,
              "#bd3786"
             ],
             [
              0.5555555555555556,
              "#d8576b"
             ],
             [
              0.6666666666666666,
              "#ed7953"
             ],
             [
              0.7777777777777778,
              "#fb9f3a"
             ],
             [
              0.8888888888888888,
              "#fdca26"
             ],
             [
              1,
              "#f0f921"
             ]
            ],
            "type": "histogram2dcontour"
           }
          ],
          "mesh3d": [
           {
            "colorbar": {
             "outlinewidth": 0,
             "ticks": ""
            },
            "type": "mesh3d"
           }
          ],
          "parcoords": [
           {
            "line": {
             "colorbar": {
              "outlinewidth": 0,
              "ticks": ""
             }
            },
            "type": "parcoords"
           }
          ],
          "pie": [
           {
            "automargin": true,
            "type": "pie"
           }
          ],
          "scatter": [
           {
            "fillpattern": {
             "fillmode": "overlay",
             "size": 10,
             "solidity": 0.2
            },
            "type": "scatter"
           }
          ],
          "scatter3d": [
           {
            "line": {
             "colorbar": {
              "outlinewidth": 0,
              "ticks": ""
             }
            },
            "marker": {
             "colorbar": {
              "outlinewidth": 0,
              "ticks": ""
             }
            },
            "type": "scatter3d"
           }
          ],
          "scattercarpet": [
           {
            "marker": {
             "colorbar": {
              "outlinewidth": 0,
              "ticks": ""
             }
            },
            "type": "scattercarpet"
           }
          ],
          "scattergeo": [
           {
            "marker": {
             "colorbar": {
              "outlinewidth": 0,
              "ticks": ""
             }
            },
            "type": "scattergeo"
           }
          ],
          "scattergl": [
           {
            "marker": {
             "colorbar": {
              "outlinewidth": 0,
              "ticks": ""
             }
            },
            "type": "scattergl"
           }
          ],
          "scattermapbox": [
           {
            "marker": {
             "colorbar": {
              "outlinewidth": 0,
              "ticks": ""
             }
            },
            "type": "scattermapbox"
           }
          ],
          "scatterpolar": [
           {
            "marker": {
             "colorbar": {
              "outlinewidth": 0,
              "ticks": ""
             }
            },
            "type": "scatterpolar"
           }
          ],
          "scatterpolargl": [
           {
            "marker": {
             "colorbar": {
              "outlinewidth": 0,
              "ticks": ""
             }
            },
            "type": "scatterpolargl"
           }
          ],
          "scatterternary": [
           {
            "marker": {
             "colorbar": {
              "outlinewidth": 0,
              "ticks": ""
             }
            },
            "type": "scatterternary"
           }
          ],
          "surface": [
           {
            "colorbar": {
             "outlinewidth": 0,
             "ticks": ""
            },
            "colorscale": [
             [
              0,
              "#0d0887"
             ],
             [
              0.1111111111111111,
              "#46039f"
             ],
             [
              0.2222222222222222,
              "#7201a8"
             ],
             [
              0.3333333333333333,
              "#9c179e"
             ],
             [
              0.4444444444444444,
              "#bd3786"
             ],
             [
              0.5555555555555556,
              "#d8576b"
             ],
             [
              0.6666666666666666,
              "#ed7953"
             ],
             [
              0.7777777777777778,
              "#fb9f3a"
             ],
             [
              0.8888888888888888,
              "#fdca26"
             ],
             [
              1,
              "#f0f921"
             ]
            ],
            "type": "surface"
           }
          ],
          "table": [
           {
            "cells": {
             "fill": {
              "color": "#EBF0F8"
             },
             "line": {
              "color": "white"
             }
            },
            "header": {
             "fill": {
              "color": "#C8D4E3"
             },
             "line": {
              "color": "white"
             }
            },
            "type": "table"
           }
          ]
         },
         "layout": {
          "annotationdefaults": {
           "arrowcolor": "#2a3f5f",
           "arrowhead": 0,
           "arrowwidth": 1
          },
          "autotypenumbers": "strict",
          "coloraxis": {
           "colorbar": {
            "outlinewidth": 0,
            "ticks": ""
           }
          },
          "colorscale": {
           "diverging": [
            [
             0,
             "#8e0152"
            ],
            [
             0.1,
             "#c51b7d"
            ],
            [
             0.2,
             "#de77ae"
            ],
            [
             0.3,
             "#f1b6da"
            ],
            [
             0.4,
             "#fde0ef"
            ],
            [
             0.5,
             "#f7f7f7"
            ],
            [
             0.6,
             "#e6f5d0"
            ],
            [
             0.7,
             "#b8e186"
            ],
            [
             0.8,
             "#7fbc41"
            ],
            [
             0.9,
             "#4d9221"
            ],
            [
             1,
             "#276419"
            ]
           ],
           "sequential": [
            [
             0,
             "#0d0887"
            ],
            [
             0.1111111111111111,
             "#46039f"
            ],
            [
             0.2222222222222222,
             "#7201a8"
            ],
            [
             0.3333333333333333,
             "#9c179e"
            ],
            [
             0.4444444444444444,
             "#bd3786"
            ],
            [
             0.5555555555555556,
             "#d8576b"
            ],
            [
             0.6666666666666666,
             "#ed7953"
            ],
            [
             0.7777777777777778,
             "#fb9f3a"
            ],
            [
             0.8888888888888888,
             "#fdca26"
            ],
            [
             1,
             "#f0f921"
            ]
           ],
           "sequentialminus": [
            [
             0,
             "#0d0887"
            ],
            [
             0.1111111111111111,
             "#46039f"
            ],
            [
             0.2222222222222222,
             "#7201a8"
            ],
            [
             0.3333333333333333,
             "#9c179e"
            ],
            [
             0.4444444444444444,
             "#bd3786"
            ],
            [
             0.5555555555555556,
             "#d8576b"
            ],
            [
             0.6666666666666666,
             "#ed7953"
            ],
            [
             0.7777777777777778,
             "#fb9f3a"
            ],
            [
             0.8888888888888888,
             "#fdca26"
            ],
            [
             1,
             "#f0f921"
            ]
           ]
          },
          "colorway": [
           "#636efa",
           "#EF553B",
           "#00cc96",
           "#ab63fa",
           "#FFA15A",
           "#19d3f3",
           "#FF6692",
           "#B6E880",
           "#FF97FF",
           "#FECB52"
          ],
          "font": {
           "color": "#2a3f5f"
          },
          "geo": {
           "bgcolor": "white",
           "lakecolor": "white",
           "landcolor": "#E5ECF6",
           "showlakes": true,
           "showland": true,
           "subunitcolor": "white"
          },
          "hoverlabel": {
           "align": "left"
          },
          "hovermode": "closest",
          "mapbox": {
           "style": "light"
          },
          "paper_bgcolor": "white",
          "plot_bgcolor": "#E5ECF6",
          "polar": {
           "angularaxis": {
            "gridcolor": "white",
            "linecolor": "white",
            "ticks": ""
           },
           "bgcolor": "#E5ECF6",
           "radialaxis": {
            "gridcolor": "white",
            "linecolor": "white",
            "ticks": ""
           }
          },
          "scene": {
           "xaxis": {
            "backgroundcolor": "#E5ECF6",
            "gridcolor": "white",
            "gridwidth": 2,
            "linecolor": "white",
            "showbackground": true,
            "ticks": "",
            "zerolinecolor": "white"
           },
           "yaxis": {
            "backgroundcolor": "#E5ECF6",
            "gridcolor": "white",
            "gridwidth": 2,
            "linecolor": "white",
            "showbackground": true,
            "ticks": "",
            "zerolinecolor": "white"
           },
           "zaxis": {
            "backgroundcolor": "#E5ECF6",
            "gridcolor": "white",
            "gridwidth": 2,
            "linecolor": "white",
            "showbackground": true,
            "ticks": "",
            "zerolinecolor": "white"
           }
          },
          "shapedefaults": {
           "line": {
            "color": "#2a3f5f"
           }
          },
          "ternary": {
           "aaxis": {
            "gridcolor": "white",
            "linecolor": "white",
            "ticks": ""
           },
           "baxis": {
            "gridcolor": "white",
            "linecolor": "white",
            "ticks": ""
           },
           "bgcolor": "#E5ECF6",
           "caxis": {
            "gridcolor": "white",
            "linecolor": "white",
            "ticks": ""
           }
          },
          "title": {
           "x": 0.05
          },
          "xaxis": {
           "automargin": true,
           "gridcolor": "white",
           "linecolor": "white",
           "ticks": "",
           "title": {
            "standoff": 15
           },
           "zerolinecolor": "white",
           "zerolinewidth": 2
          },
          "yaxis": {
           "automargin": true,
           "gridcolor": "white",
           "linecolor": "white",
           "ticks": "",
           "title": {
            "standoff": 15
           },
           "zerolinecolor": "white",
           "zerolinewidth": 2
          }
         }
        }
       }
      },
      "image/png": "[encoded data removed]",
      "text/html": [
       "<div>                            <div id=\"62708e4d-60f8-4b6b-86a5-3fc79a59d1de\" class=\"plotly-graph-div\" style=\"height:525px; width:100%;\"></div>            <script type=\"text/javascript\">                require([\"plotly\"], function(Plotly) {                    window.PLOTLYENV=window.PLOTLYENV || {};                                    if (document.getElementById(\"62708e4d-60f8-4b6b-86a5-3fc79a59d1de\")) {                    Plotly.newPlot(                        \"62708e4d-60f8-4b6b-86a5-3fc79a59d1de\",                        [{\"hovertemplate\":\"dispns=%{x}\\u003cbr\\u003edispew=%{y}\\u003cbr\\u003eneg_tvd=%{z}\\u003cextra\\u003e\\u003c\\u002fextra\\u003e\",\"legendgroup\":\"\",\"line\":{\"color\":\"#636efa\",\"dash\":\"solid\"},\"marker\":{\"symbol\":\"circle\"},\"mode\":\"lines\",\"name\":\"\",\"scene\":\"scene\",\"showlegend\":false,\"x\":[0.0,0.0,0.0,-0.00937430037960078,-0.0659219468531975,0.0830024699805438,-0.280829083938829,-1.5865457319852,-3.79773298580725,-7.90264526029032,-13.7734927401819,-20.6702580590495,-28.349901619647,-36.2523490972709,-44.2984736825201,-52.5813637408808,-60.792724629802,-68.8836226328052,-76.9363787182192,-84.8697224368899,-92.5379452178725,-99.9663147785146,-107.567588054714,-115.226156961799,-122.616511300573,-129.504329244271,-135.587774993058,-141.421623661169,-147.44365683764,-153.551921428992,-159.746362490858,-166.415426904478,-173.614807308693,-180.90444863221,-188.768200742858,-197.153413571958,-205.536280843081,-213.868837258586,-221.938604292067,-229.219609710724,-235.78787221693,-241.586996020032,-246.544084891687,-251.61716909003,-257.367269957248,-263.699604287286,-270.989083455174,-279.373483652489,-288.538119590875,-298.044032542633,-307.56119495685,-316.682961101656,-324.868162690837,-332.135992762027,-338.214002393799,-343.0564185591,-346.937794819257,-349.661970376404,-351.478209428275,-352.830499116217,-353.794806407749,-354.550435532021,-355.001944867441,-354.535195334015,-353.014387392838,-350.936042596185,-349.075481652378,-347.309963534099,-344.915986817939,-343.799712257675,-340.139486578146,-336.190094948154,-331.921717778447,-330.863151496758,-329.090394508462,-325.029894636952,-315.65015720847,-302.71471958903,-287.597271216882,-270.534014085285,-252.035706545065,-232.815253940114,-213.288981234497,-205.140741589355,-193.724650789764,-174.825472323229,-155.046588321387,-134.136999814849,-110.357751576322,-85.3938829608185,-57.7255417360112,-29.3032867703236,2.00890688277305,32.5736477227614,63.1791521955242,93.604499414182,122.420062709283,144.701000924271],\"y\":[0.0,0.0,0.0,-0.0081575760035624,0.0525312114991852,0.305338057400394,0.38670311065455,0.335317575043737,0.526995767377924,1.07525176826545,1.51685562246208,1.5728966769556,1.76201123044246,2.7532826429332,4.96221235713363,8.58664192590011,13.7105613954135,20.2736220565668,28.922327321014,40.2181329698475,53.8101168721466,69.4226517957793,85.4233829129441,99.8841638891991,112.43746446,123.255250037477,132.629374247113,142.394134746494,154.629696898725,169.793470052295,187.625293825555,206.896464136467,225.64727702136,242.454918897687,259.500293404679,278.151968851265,297.527700270754,317.138940336851,337.158351398598,357.969262386489,379.561568388979,401.759895794093,424.590520981028,447.73045199197,470.673113520952,493.492965707567,516.048997549958,538.458140462793,560.657442509327,582.436819915062,603.746876416809,624.533796235454,644.816614195,665.239727431634,686.315675531927,707.746959949864,729.457212104096,751.327000932682,773.475827753299,795.711838619716,817.923695996477,839.896178763681,861.397203725646,882.610846009257,903.570486284029,924.373122705896,945.310068884927,966.177508645133,985.15039050575,992.166627285813,1012.37032951286,1031.10385769211,1049.9731730641,1054.50544094302,1061.93179948188,1076.0755205361,1097.51816982094,1118.39324227331,1137.48940886613,1155.15072243414,1170.27639110212,1182.24294887092,1191.45969870384,1194.46152165546,1198.13579761767,1204.86007737106,1214.1186001865,1225.85996231906,1240.24451262538,1254.51646497173,1268.70827738194,1281.73358903395,1294.84660085219,1307.33847325794,1319.82528228193,1332.20512936356,1343.87078070009,1352.89096378674],\"z\":[-0.0,-145.899993896484,-146.0,-154.899982329159,-195.299828055585,-235.598619795656,-275.994708438332,-316.373263396974,-356.610232610649,-396.790896906599,-436.757953233376,-476.462260778656,-516.124736185931,-555.628370774127,-595.155692418875,-634.528192725852,-673.646383828782,-712.677774336902,-751.302412664742,-789.156600650452,-826.415925129163,-862.923313831545,-899.118941170234,-936.051658927386,-973.729377490509,-1012.03615119381,-1050.75322374015,-1089.51405749682,-1127.53242065403,-1164.35586763648,-1200.06693353046,-1234.9406928032,-1269.98983263698,-1305.8785126788,-1341.64133835987,-1376.36624171803,-1410.81093395769,-1445.01709839789,-1479.16645864824,-1512.8979989401,-1546.40544024172,-1579.65635901903,-1612.49225970323,-1645.21704717808,-1677.84581830471,-1710.57617445414,-1743.28844350017,-1775.71607031035,-1808.20126742641,-1840.87303440108,-1873.72649330591,-1907.14419339083,-1940.99078389262,-1974.96231031561,-2008.88560496782,-2042.66831385393,-2076.51616068697,-2110.2538270262,-2143.99209936186,-2177.6948210556,-2211.4269908942,-2245.3204943766,-2279.40192663094,-2313.77901429914,-2348.28235907567,-2382.73523110685,-2417.23615990715,-2451.78405260208,-2483.80725634644,-2495.78929196558,-2530.27979253626,-2562.30269486186,-2594.46208817786,-2602.04823766265,-2614.2100918422,-2636.71272939606,-2669.93558862639,-2703.00679828919,-2735.09068011154,-2767.21473396531,-2799.69765629974,-2832.11738449506,-2865.57275424313,-2880.09357577753,-2901.5132460829,-2936.84851521173,-2970.62048449964,-3001.68364528821,-3031.92288028787,-3059.38448587376,-3086.14459411727,-3110.30409189147,-3134.65778015464,-3157.9716848577,-3181.12978405117,-3204.73318715138,-3228.0997027948,-3246.43130961155],\"type\":\"scatter3d\"}],                        {\"template\":{\"data\":{\"histogram2dcontour\":[{\"type\":\"histogram2dcontour\",\"colorbar\":{\"outlinewidth\":0,\"ticks\":\"\"},\"colorscale\":[[0.0,\"#0d0887\"],[0.1111111111111111,\"#46039f\"],[0.2222222222222222,\"#7201a8\"],[0.3333333333333333,\"#9c179e\"],[0.4444444444444444,\"#bd3786\"],[0.5555555555555556,\"#d8576b\"],[0.6666666666666666,\"#ed7953\"],[0.7777777777777778,\"#fb9f3a\"],[0.8888888888888888,\"#fdca26\"],[1.0,\"#f0f921\"]]}],\"choropleth\":[{\"type\":\"choropleth\",\"colorbar\":{\"outlinewidth\":0,\"ticks\":\"\"}}],\"histogram2d\":[{\"type\":\"histogram2d\",\"colorbar\":{\"outlinewidth\":0,\"ticks\":\"\"},\"colorscale\":[[0.0,\"#0d0887\"],[0.1111111111111111,\"#46039f\"],[0.2222222222222222,\"#7201a8\"],[0.3333333333333333,\"#9c179e\"],[0.4444444444444444,\"#bd3786\"],[0.5555555555555556,\"#d8576b\"],[0.6666666666666666,\"#ed7953\"],[0.7777777777777778,\"#fb9f3a\"],[0.8888888888888888,\"#fdca26\"],[1.0,\"#f0f921\"]]}],\"heatmap\":[{\"type\":\"heatmap\",\"colorbar\":{\"outlinewidth\":0,\"ticks\":\"\"},\"colorscale\":[[0.0,\"#0d0887\"],[0.1111111111111111,\"#46039f\"],[0.2222222222222222,\"#7201a8\"],[0.3333333333333333,\"#9c179e\"],[0.4444444444444444,\"#bd3786\"],[0.5555555555555556,\"#d8576b\"],[0.6666666666666666,\"#ed7953\"],[0.7777777777777778,\"#fb9f3a\"],[0.8888888888888888,\"#fdca26\"],[1.0,\"#f0f921\"]]}],\"heatmapgl\":[{\"type\":\"heatmapgl\",\"colorbar\":{\"outlinewidth\":0,\"ticks\":\"\"},\"colorscale\":[[0.0,\"#0d0887\"],[0.1111111111111111,\"#46039f\"],[0.2222222222222222,\"#7201a8\"],[0.3333333333333333,\"#9c179e\"],[0.4444444444444444,\"#bd3786\"],[0.5555555555555556,\"#d8576b\"],[0.6666666666666666,\"#ed7953\"],[0.7777777777777778,\"#fb9f3a\"],[0.8888888888888888,\"#fdca26\"],[1.0,\"#f0f921\"]]}],\"contourcarpet\":[{\"type\":\"contourcarpet\",\"colorbar\":{\"outlinewidth\":0,\"ticks\":\"\"}}],\"contour\":[{\"type\":\"contour\",\"colorbar\":{\"outlinewidth\":0,\"ticks\":\"\"},\"colorscale\":[[0.0,\"#0d0887\"],[0.1111111111111111,\"#46039f\"],[0.2222222222222222,\"#7201a8\"],[0.3333333333333333,\"#9c179e\"],[0.4444444444444444,\"#bd3786\"],[0.5555555555555556,\"#d8576b\"],[0.6666666666666666,\"#ed7953\"],[0.7777777777777778,\"#fb9f3a\"],[0.8888888888888888,\"#fdca26\"],[1.0,\"#f0f921\"]]}],\"surface\":[{\"type\":\"surface\",\"colorbar\":{\"outlinewidth\":0,\"ticks\":\"\"},\"colorscale\":[[0.0,\"#0d0887\"],[0.1111111111111111,\"#46039f\"],[0.2222222222222222,\"#7201a8\"],[0.3333333333333333,\"#9c179e\"],[0.4444444444444444,\"#bd3786\"],[0.5555555555555556,\"#d8576b\"],[0.6666666666666666,\"#ed7953\"],[0.7777777777777778,\"#fb9f3a\"],[0.8888888888888888,\"#fdca26\"],[1.0,\"#f0f921\"]]}],\"mesh3d\":[{\"type\":\"mesh3d\",\"colorbar\":{\"outlinewidth\":0,\"ticks\":\"\"}}],\"scatter\":[{\"fillpattern\":{\"fillmode\":\"overlay\",\"size\":10,\"solidity\":0.2},\"type\":\"scatter\"}],\"parcoords\":[{\"type\":\"parcoords\",\"line\":{\"colorbar\":{\"outlinewidth\":0,\"ticks\":\"\"}}}],\"scatterpolargl\":[{\"type\":\"scatterpolargl\",\"marker\":{\"colorbar\":{\"outlinewidth\":0,\"ticks\":\"\"}}}],\"bar\":[{\"error_x\":{\"color\":\"#2a3f5f\"},\"error_y\":{\"color\":\"#2a3f5f\"},\"marker\":{\"line\":{\"color\":\"#E5ECF6\",\"width\":0.5},\"pattern\":{\"fillmode\":\"overlay\",\"size\":10,\"solidity\":0.2}},\"type\":\"bar\"}],\"scattergeo\":[{\"type\":\"scattergeo\",\"marker\":{\"colorbar\":{\"outlinewidth\":0,\"ticks\":\"\"}}}],\"scatterpolar\":[{\"type\":\"scatterpolar\",\"marker\":{\"colorbar\":{\"outlinewidth\":0,\"ticks\":\"\"}}}],\"histogram\":[{\"marker\":{\"pattern\":{\"fillmode\":\"overlay\",\"size\":10,\"solidity\":0.2}},\"type\":\"histogram\"}],\"scattergl\":[{\"type\":\"scattergl\",\"marker\":{\"colorbar\":{\"outlinewidth\":0,\"ticks\":\"\"}}}],\"scatter3d\":[{\"type\":\"scatter3d\",\"line\":{\"colorbar\":{\"outlinewidth\":0,\"ticks\":\"\"}},\"marker\":{\"colorbar\":{\"outlinewidth\":0,\"ticks\":\"\"}}}],\"scattermapbox\":[{\"type\":\"scattermapbox\",\"marker\":{\"colorbar\":{\"outlinewidth\":0,\"ticks\":\"\"}}}],\"scatterternary\":[{\"type\":\"scatterternary\",\"marker\":{\"colorbar\":{\"outlinewidth\":0,\"ticks\":\"\"}}}],\"scattercarpet\":[{\"type\":\"scattercarpet\",\"marker\":{\"colorbar\":{\"outlinewidth\":0,\"ticks\":\"\"}}}],\"carpet\":[{\"aaxis\":{\"endlinecolor\":\"#2a3f5f\",\"gridcolor\":\"white\",\"linecolor\":\"white\",\"minorgridcolor\":\"white\",\"startlinecolor\":\"#2a3f5f\"},\"baxis\":{\"endlinecolor\":\"#2a3f5f\",\"gridcolor\":\"white\",\"linecolor\":\"white\",\"minorgridcolor\":\"white\",\"startlinecolor\":\"#2a3f5f\"},\"type\":\"carpet\"}],\"table\":[{\"cells\":{\"fill\":{\"color\":\"#EBF0F8\"},\"line\":{\"color\":\"white\"}},\"header\":{\"fill\":{\"color\":\"#C8D4E3\"},\"line\":{\"color\":\"white\"}},\"type\":\"table\"}],\"barpolar\":[{\"marker\":{\"line\":{\"color\":\"#E5ECF6\",\"width\":0.5},\"pattern\":{\"fillmode\":\"overlay\",\"size\":10,\"solidity\":0.2}},\"type\":\"barpolar\"}],\"pie\":[{\"automargin\":true,\"type\":\"pie\"}]},\"layout\":{\"autotypenumbers\":\"strict\",\"colorway\":[\"#636efa\",\"#EF553B\",\"#00cc96\",\"#ab63fa\",\"#FFA15A\",\"#19d3f3\",\"#FF6692\",\"#B6E880\",\"#FF97FF\",\"#FECB52\"],\"font\":{\"color\":\"#2a3f5f\"},\"hovermode\":\"closest\",\"hoverlabel\":{\"align\":\"left\"},\"paper_bgcolor\":\"white\",\"plot_bgcolor\":\"#E5ECF6\",\"polar\":{\"bgcolor\":\"#E5ECF6\",\"angularaxis\":{\"gridcolor\":\"white\",\"linecolor\":\"white\",\"ticks\":\"\"},\"radialaxis\":{\"gridcolor\":\"white\",\"linecolor\":\"white\",\"ticks\":\"\"}},\"ternary\":{\"bgcolor\":\"#E5ECF6\",\"aaxis\":{\"gridcolor\":\"white\",\"linecolor\":\"white\",\"ticks\":\"\"},\"baxis\":{\"gridcolor\":\"white\",\"linecolor\":\"white\",\"ticks\":\"\"},\"caxis\":{\"gridcolor\":\"white\",\"linecolor\":\"white\",\"ticks\":\"\"}},\"coloraxis\":{\"colorbar\":{\"outlinewidth\":0,\"ticks\":\"\"}},\"colorscale\":{\"sequential\":[[0.0,\"#0d0887\"],[0.1111111111111111,\"#46039f\"],[0.2222222222222222,\"#7201a8\"],[0.3333333333333333,\"#9c179e\"],[0.4444444444444444,\"#bd3786\"],[0.5555555555555556,\"#d8576b\"],[0.6666666666666666,\"#ed7953\"],[0.7777777777777778,\"#fb9f3a\"],[0.8888888888888888,\"#fdca26\"],[1.0,\"#f0f921\"]],\"sequentialminus\":[[0.0,\"#0d0887\"],[0.1111111111111111,\"#46039f\"],[0.2222222222222222,\"#7201a8\"],[0.3333333333333333,\"#9c179e\"],[0.4444444444444444,\"#bd3786\"],[0.5555555555555556,\"#d8576b\"],[0.6666666666666666,\"#ed7953\"],[0.7777777777777778,\"#fb9f3a\"],[0.8888888888888888,\"#fdca26\"],[1.0,\"#f0f921\"]],\"diverging\":[[0,\"#8e0152\"],[0.1,\"#c51b7d\"],[0.2,\"#de77ae\"],[0.3,\"#f1b6da\"],[0.4,\"#fde0ef\"],[0.5,\"#f7f7f7\"],[0.6,\"#e6f5d0\"],[0.7,\"#b8e186\"],[0.8,\"#7fbc41\"],[0.9,\"#4d9221\"],[1,\"#276419\"]]},\"xaxis\":{\"gridcolor\":\"white\",\"linecolor\":\"white\",\"ticks\":\"\",\"title\":{\"standoff\":15},\"zerolinecolor\":\"white\",\"automargin\":true,\"zerolinewidth\":2},\"yaxis\":{\"gridcolor\":\"white\",\"linecolor\":\"white\",\"ticks\":\"\",\"title\":{\"standoff\":15},\"zerolinecolor\":\"white\",\"automargin\":true,\"zerolinewidth\":2},\"scene\":{\"xaxis\":{\"backgroundcolor\":\"#E5ECF6\",\"gridcolor\":\"white\",\"linecolor\":\"white\",\"showbackground\":true,\"ticks\":\"\",\"zerolinecolor\":\"white\",\"gridwidth\":2},\"yaxis\":{\"backgroundcolor\":\"#E5ECF6\",\"gridcolor\":\"white\",\"linecolor\":\"white\",\"showbackground\":true,\"ticks\":\"\",\"zerolinecolor\":\"white\",\"gridwidth\":2},\"zaxis\":{\"backgroundcolor\":\"#E5ECF6\",\"gridcolor\":\"white\",\"linecolor\":\"white\",\"showbackground\":true,\"ticks\":\"\",\"zerolinecolor\":\"white\",\"gridwidth\":2}},\"shapedefaults\":{\"line\":{\"color\":\"#2a3f5f\"}},\"annotationdefaults\":{\"arrowcolor\":\"#2a3f5f\",\"arrowhead\":0,\"arrowwidth\":1},\"geo\":{\"bgcolor\":\"white\",\"landcolor\":\"#E5ECF6\",\"subunitcolor\":\"white\",\"showland\":true,\"showlakes\":true,\"lakecolor\":\"white\"},\"title\":{\"x\":0.05},\"mapbox\":{\"style\":\"light\"}}},\"scene\":{\"domain\":{\"x\":[0.0,1.0],\"y\":[0.0,1.0]},\"xaxis\":{\"title\":{\"text\":\"dispns\"}},\"yaxis\":{\"title\":{\"text\":\"dispew\"}},\"zaxis\":{\"title\":{\"text\":\"neg_tvd\"}}},\"legend\":{\"tracegroupgap\":0},\"margin\":{\"t\":60}},                        {\"responsive\": true}                    ).then(function(){\n",
       "                            \n",
       "var gd = document.getElementById('62708e4d-60f8-4b6b-86a5-3fc79a59d1de');\n",
       "var x = new MutationObserver(function (mutations, observer) {{\n",
       "        var display = window.getComputedStyle(gd).display;\n",
       "        if (!display || display === 'none') {{\n",
       "            console.log([gd, 'removed!']);\n",
       "            Plotly.purge(gd);\n",
       "            observer.disconnect();\n",
       "        }}\n",
       "}});\n",
       "\n",
       "// Listen for the removal of the full notebook cells\n",
       "var notebookContainer = gd.closest('#notebook-container');\n",
       "if (notebookContainer) {{\n",
       "    x.observe(notebookContainer, {childList: true});\n",
       "}}\n",
       "\n",
       "// Listen for the clearing of the current output cell\n",
       "var outputEl = gd.closest('.output');\n",
       "if (outputEl) {{\n",
       "    x.observe(outputEl, {childList: true});\n",
       "}}\n",
       "\n",
       "                        })                };                });            </script>        </div>"
      ]
     },
     "metadata": {},
     "output_type": "display_data"
    }
   ],
   "source": [
    "fig_5 = px.line_3d(df_all_wells[df_all_wells['Well']=='F-5'], 'dispns', 'dispew', 'neg_tvd')\n",
    "fig_5.show()"
   ]
  },
  {
   "cell_type": "markdown",
   "metadata": {
    "pycharm": {
     "name": "#%% md\n"
    }
   },
   "source": [
    "# Output\n",
    "\n",
    "Conver xml files to csv files"
   ]
  },
  {
   "cell_type": "code",
   "execution_count": 53,
   "metadata": {
    "pycharm": {
     "name": "#%%\n"
    }
   },
   "outputs": [],
   "source": [
    "wells = ['F-1 C',\n",
    "        'F-4',\n",
    "        'F-5',\n",
    "        'F-7',\n",
    "        'F-9',\n",
    "        'F-11',\n",
    "        'F-12',\n",
    "        'F-14',\n",
    "        'F-15']\n",
    "\n",
    "preffix = \"Data/output/\"\n",
    "suffix = \".csv\"\n",
    "\n",
    "for well in wells:\n",
    "    df = df_all_wells[df_all_wells['Well']==well]\n",
    "    df.to_csv(preffix + well + suffix, index=False)"
   ]
  },
  {
   "cell_type": "markdown",
   "metadata": {
    "pycharm": {
     "name": "#%% md\n"
    }
   },
   "source": [
    "# EDA (EXploratory Data Analysis)"
   ]
  },
  {
   "cell_type": "code",
   "execution_count": 54,
   "metadata": {},
   "outputs": [
    {
     "data": {
      "text/html": [
       "<div>\n",
       "<style scoped>\n",
       "    .dataframe tbody tr th:only-of-type {\n",
       "        vertical-align: middle;\n",
       "    }\n",
       "\n",
       "    .dataframe tbody tr th {\n",
       "        vertical-align: top;\n",
       "    }\n",
       "\n",
       "    .dataframe thead th {\n",
       "        text-align: right;\n",
       "    }\n",
       "</style>\n",
       "<table border=\"1\" class=\"dataframe\">\n",
       "  <thead>\n",
       "    <tr style=\"text-align: right;\">\n",
       "      <th></th>\n",
       "      <th>azi</th>\n",
       "      <th>incl</th>\n",
       "      <th>md</th>\n",
       "      <th>tvd</th>\n",
       "      <th>dispns</th>\n",
       "      <th>dispew</th>\n",
       "      <th>Well</th>\n",
       "      <th>neg_tvd</th>\n",
       "    </tr>\n",
       "  </thead>\n",
       "  <tbody>\n",
       "    <tr>\n",
       "      <th>0</th>\n",
       "      <td>0.000000</td>\n",
       "      <td>0.000000</td>\n",
       "      <td>0.000000</td>\n",
       "      <td>0.000000</td>\n",
       "      <td>3.170000</td>\n",
       "      <td>-3.530000</td>\n",
       "      <td>F-1 C</td>\n",
       "      <td>-0.000000</td>\n",
       "    </tr>\n",
       "    <tr>\n",
       "      <th>1</th>\n",
       "      <td>0.000000</td>\n",
       "      <td>0.000000</td>\n",
       "      <td>210.699997</td>\n",
       "      <td>210.699997</td>\n",
       "      <td>3.170000</td>\n",
       "      <td>-3.530000</td>\n",
       "      <td>F-1 C</td>\n",
       "      <td>-210.699997</td>\n",
       "    </tr>\n",
       "    <tr>\n",
       "      <th>2</th>\n",
       "      <td>5.275083</td>\n",
       "      <td>0.032114</td>\n",
       "      <td>237.600006</td>\n",
       "      <td>237.595383</td>\n",
       "      <td>3.400403</td>\n",
       "      <td>-3.895308</td>\n",
       "      <td>F-1 C</td>\n",
       "      <td>-237.595383</td>\n",
       "    </tr>\n",
       "    <tr>\n",
       "      <th>3</th>\n",
       "      <td>5.318018</td>\n",
       "      <td>0.033336</td>\n",
       "      <td>251.100006</td>\n",
       "      <td>251.088156</td>\n",
       "      <td>3.644096</td>\n",
       "      <td>-4.263587</td>\n",
       "      <td>F-1 C</td>\n",
       "      <td>-251.088156</td>\n",
       "    </tr>\n",
       "    <tr>\n",
       "      <th>4</th>\n",
       "      <td>5.336519</td>\n",
       "      <td>0.043110</td>\n",
       "      <td>264.899994</td>\n",
       "      <td>264.878010</td>\n",
       "      <td>3.948795</td>\n",
       "      <td>-4.693964</td>\n",
       "      <td>F-1 C</td>\n",
       "      <td>-264.878010</td>\n",
       "    </tr>\n",
       "    <tr>\n",
       "      <th>...</th>\n",
       "      <td>...</td>\n",
       "      <td>...</td>\n",
       "      <td>...</td>\n",
       "      <td>...</td>\n",
       "      <td>...</td>\n",
       "      <td>...</td>\n",
       "      <td>...</td>\n",
       "      <td>...</td>\n",
       "    </tr>\n",
       "    <tr>\n",
       "      <th>856</th>\n",
       "      <td>4.469265</td>\n",
       "      <td>0.382925</td>\n",
       "      <td>3118.280029</td>\n",
       "      <td>2938.419040</td>\n",
       "      <td>-699.230295</td>\n",
       "      <td>-217.451880</td>\n",
       "      <td>F-15</td>\n",
       "      <td>-2938.419040</td>\n",
       "    </tr>\n",
       "    <tr>\n",
       "      <th>857</th>\n",
       "      <td>4.471534</td>\n",
       "      <td>0.390081</td>\n",
       "      <td>3158.540039</td>\n",
       "      <td>2975.709107</td>\n",
       "      <td>-702.866857</td>\n",
       "      <td>-232.185777</td>\n",
       "      <td>F-15</td>\n",
       "      <td>-2975.709107</td>\n",
       "    </tr>\n",
       "    <tr>\n",
       "      <th>858</th>\n",
       "      <td>4.470487</td>\n",
       "      <td>0.371232</td>\n",
       "      <td>3199.020020</td>\n",
       "      <td>3013.291014</td>\n",
       "      <td>-706.461696</td>\n",
       "      <td>-246.789120</td>\n",
       "      <td>F-15</td>\n",
       "      <td>-3013.291014</td>\n",
       "    </tr>\n",
       "    <tr>\n",
       "      <th>859</th>\n",
       "      <td>4.460363</td>\n",
       "      <td>0.366170</td>\n",
       "      <td>3211.780029</td>\n",
       "      <td>3025.193506</td>\n",
       "      <td>-707.585751</td>\n",
       "      <td>-251.248326</td>\n",
       "      <td>F-15</td>\n",
       "      <td>-3025.193506</td>\n",
       "    </tr>\n",
       "    <tr>\n",
       "      <th>860</th>\n",
       "      <td>4.460363</td>\n",
       "      <td>0.366170</td>\n",
       "      <td>3232.000000</td>\n",
       "      <td>3044.073003</td>\n",
       "      <td>-709.391062</td>\n",
       "      <td>-258.259222</td>\n",
       "      <td>F-15</td>\n",
       "      <td>-3044.073003</td>\n",
       "    </tr>\n",
       "  </tbody>\n",
       "</table>\n",
       "<p>861 rows × 8 columns</p>\n",
       "</div>"
      ],
      "text/plain": [
       "          azi      incl           md          tvd      dispns      dispew  \\\n",
       "0    0.000000  0.000000     0.000000     0.000000    3.170000   -3.530000   \n",
       "1    0.000000  0.000000   210.699997   210.699997    3.170000   -3.530000   \n",
       "2    5.275083  0.032114   237.600006   237.595383    3.400403   -3.895308   \n",
       "3    5.318018  0.033336   251.100006   251.088156    3.644096   -4.263587   \n",
       "4    5.336519  0.043110   264.899994   264.878010    3.948795   -4.693964   \n",
       "..        ...       ...          ...          ...         ...         ...   \n",
       "856  4.469265  0.382925  3118.280029  2938.419040 -699.230295 -217.451880   \n",
       "857  4.471534  0.390081  3158.540039  2975.709107 -702.866857 -232.185777   \n",
       "858  4.470487  0.371232  3199.020020  3013.291014 -706.461696 -246.789120   \n",
       "859  4.460363  0.366170  3211.780029  3025.193506 -707.585751 -251.248326   \n",
       "860  4.460363  0.366170  3232.000000  3044.073003 -709.391062 -258.259222   \n",
       "\n",
       "      Well      neg_tvd  \n",
       "0    F-1 C    -0.000000  \n",
       "1    F-1 C  -210.699997  \n",
       "2    F-1 C  -237.595383  \n",
       "3    F-1 C  -251.088156  \n",
       "4    F-1 C  -264.878010  \n",
       "..     ...          ...  \n",
       "856   F-15 -2938.419040  \n",
       "857   F-15 -2975.709107  \n",
       "858   F-15 -3013.291014  \n",
       "859   F-15 -3025.193506  \n",
       "860   F-15 -3044.073003  \n",
       "\n",
       "[861 rows x 8 columns]"
      ]
     },
     "execution_count": 54,
     "metadata": {},
     "output_type": "execute_result"
    }
   ],
   "source": [
    "df_all_wells"
   ]
  },
  {
   "cell_type": "code",
   "execution_count": 58,
   "metadata": {
    "pycharm": {
     "name": "#%%\n"
    }
   },
   "outputs": [
    {
     "data": {
      "image/png": "[encoded data removed]",
      "text/plain": [
       "<Figure size 2000x800 with 2 Axes>"
      ]
     },
     "metadata": {},
     "output_type": "display_data"
    }
   ],
   "source": [
    "corr = df_all_wells[[\"azi\", \"incl\", \"md\", \"tvd\", \"dispns\", \"dispew\", \"neg_tvd\"]].corr()\n",
    "\n",
    "fig, ax1 = plt.subplots(figsize=(20,8))\n",
    "sns.heatmap(data=corr, cmap='RdYlGn', annot=True, linewidths=0.01, linecolor='black', square=True, ax=ax1)\n",
    "plt.show()"
   ]
  },
  {
   "cell_type": "markdown",
   "metadata": {
    "pycharm": {
     "name": "#%% md\n"
    }
   },
   "source": [
    "## Plots for Categorical Variables"
   ]
  },
  {
   "cell_type": "code",
   "execution_count": 63,
   "metadata": {
    "pycharm": {
     "name": "#%%\n"
    }
   },
   "outputs": [
    {
     "data": {
      "image/png": "[encoded data removed]",
      "text/plain": [
       "<Figure size 640x480 with 1 Axes>"
      ]
     },
     "metadata": {},
     "output_type": "display_data"
    }
   ],
   "source": [
    "sns.boxplot(data=df_all_wells, x='Well', y='md', hue=\"Well\")\n",
    "\n",
    "plt.show()"
   ]
  },
  {
   "cell_type": "code",
   "execution_count": 64,
   "metadata": {
    "pycharm": {
     "name": "#%%\n"
    }
   },
   "outputs": [
    {
     "data": {
      "image/png": "[encoded data removed]",
      "text/plain": [
       "<Figure size 640x480 with 1 Axes>"
      ]
     },
     "metadata": {},
     "output_type": "display_data"
    }
   ],
   "source": [
    "sns.barplot(data=df_all_wells, x='Well', y='tvd', hue=\"Well\")\n",
    "\n",
    "plt.show()"
   ]
  },
  {
   "cell_type": "code",
   "execution_count": 65,
   "metadata": {
    "pycharm": {
     "name": "#%%\n"
    }
   },
   "outputs": [
    {
     "data": {
      "image/png": "[encoded data removed]",
      "text/plain": [
       "<Figure size 800x2000 with 6 Axes>"
      ]
     },
     "metadata": {},
     "output_type": "display_data"
    }
   ],
   "source": [
    "columns = ['azi', 'incl', 'md', 'tvd', 'dispns', 'dispew']\n",
    "fig, ax = plt.subplots(len(columns), 1, figsize=(8,20))\n",
    "\n",
    "for col, axes in zip(columns, ax):\n",
    "    sns.boxplot(data=df_all_wells, x='Well', y=col, ax=axes, hue=\"Well\")\n",
    "    plt.tight_layout()"
   ]
  }
 ],
 "metadata": {
  "kernelspec": {
   "display_name": "Python 3 (ipykernel)",
   "language": "python",
   "name": "python3"
  },
  "language_info": {
   "codemirror_mode": {
    "name": "ipython",
    "version": 3
   },
   "file_extension": ".py",
   "mimetype": "text/x-python",
   "name": "python",
   "nbconvert_exporter": "python",
   "pygments_lexer": "ipython3",
   "version": "3.13.0"
  }
 },
 "nbformat": 4,
 "nbformat_minor": 4
}
